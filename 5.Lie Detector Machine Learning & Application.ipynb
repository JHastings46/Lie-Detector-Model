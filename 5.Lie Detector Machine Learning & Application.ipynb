{
 "cells": [
  {
   "cell_type": "code",
   "execution_count": 23,
   "id": "d0e18c9e",
   "metadata": {},
   "outputs": [],
   "source": [
    "import pandas as pd\n",
    "import numpy as np\n",
    "import matplotlib.pyplot as plt\n",
    "import seaborn as sns\n",
    "from sklearn.preprocessing import StandardScaler\n",
    "from sklearn.model_selection import train_test_split, GridSearchCV\n",
    "from sklearn.linear_model import LogisticRegression\n",
    "from sklearn.svm import SVC\n",
    "from sklearn.tree import DecisionTreeClassifier\n",
    "from sklearn.neighbors import KNeighborsClassifier\n",
    "from sklearn.metrics import confusion_matrix, classification_report, accuracy_score, precision_score, recall_score, f1_score\n",
    "from imblearn.over_sampling import SMOTE\n",
    "from sklearn.utils import resample"
   ]
  },
  {
   "cell_type": "code",
   "execution_count": 24,
   "id": "ed94943d",
   "metadata": {},
   "outputs": [],
   "source": [
    "# Load dataset\n",
    "df = pd.read_csv(\"/Users/oakmoreroadinc./Desktop/Data Science /Portfolio Data Science /thp_explored_rmv_outliers.csv\", index_col=0)\n"
   ]
  },
  {
   "cell_type": "code",
   "execution_count": 25,
   "id": "a0c52283",
   "metadata": {},
   "outputs": [
    {
     "data": {
      "text/html": [
       "<div>\n",
       "<style scoped>\n",
       "    .dataframe tbody tr th:only-of-type {\n",
       "        vertical-align: middle;\n",
       "    }\n",
       "\n",
       "    .dataframe tbody tr th {\n",
       "        vertical-align: top;\n",
       "    }\n",
       "\n",
       "    .dataframe thead th {\n",
       "        text-align: right;\n",
       "    }\n",
       "</style>\n",
       "<table border=\"1\" class=\"dataframe\">\n",
       "  <thead>\n",
       "    <tr style=\"text-align: right;\">\n",
       "      <th></th>\n",
       "      <th>Youth ID</th>\n",
       "      <th>Gender</th>\n",
       "      <th>PWS</th>\n",
       "      <th>DL</th>\n",
       "      <th>SC</th>\n",
       "      <th>RC</th>\n",
       "      <th>HMM</th>\n",
       "      <th>WSL</th>\n",
       "      <th>CEP</th>\n",
       "      <th>LF</th>\n",
       "      <th>total_score</th>\n",
       "      <th>Days_in_Program</th>\n",
       "      <th>Category</th>\n",
       "      <th>Result Score</th>\n",
       "      <th>fraud_alert</th>\n",
       "      <th>sigma</th>\n",
       "    </tr>\n",
       "  </thead>\n",
       "  <tbody>\n",
       "    <tr>\n",
       "      <th>0</th>\n",
       "      <td>1</td>\n",
       "      <td>M</td>\n",
       "      <td>-0.425201</td>\n",
       "      <td>0.113763</td>\n",
       "      <td>0.014711</td>\n",
       "      <td>-0.463621</td>\n",
       "      <td>0.147781</td>\n",
       "      <td>-0.214315</td>\n",
       "      <td>1.236359</td>\n",
       "      <td>0.847431</td>\n",
       "      <td>1.256908</td>\n",
       "      <td>264</td>\n",
       "      <td>Good</td>\n",
       "      <td>1</td>\n",
       "      <td>0.211725</td>\n",
       "      <td>0.398059</td>\n",
       "    </tr>\n",
       "    <tr>\n",
       "      <th>1</th>\n",
       "      <td>2</td>\n",
       "      <td>M</td>\n",
       "      <td>-0.156009</td>\n",
       "      <td>0.025946</td>\n",
       "      <td>0.208901</td>\n",
       "      <td>0.478853</td>\n",
       "      <td>-0.213461</td>\n",
       "      <td>0.239044</td>\n",
       "      <td>0.135644</td>\n",
       "      <td>-0.931528</td>\n",
       "      <td>-0.212610</td>\n",
       "      <td>467</td>\n",
       "      <td>Good</td>\n",
       "      <td>1</td>\n",
       "      <td>-0.031427</td>\n",
       "      <td>-0.067687</td>\n",
       "    </tr>\n",
       "    <tr>\n",
       "      <th>2</th>\n",
       "      <td>3</td>\n",
       "      <td>M</td>\n",
       "      <td>0.247779</td>\n",
       "      <td>0.377213</td>\n",
       "      <td>-0.179478</td>\n",
       "      <td>0.478853</td>\n",
       "      <td>-0.102310</td>\n",
       "      <td>0.541284</td>\n",
       "      <td>0.147874</td>\n",
       "      <td>-0.042048</td>\n",
       "      <td>1.469166</td>\n",
       "      <td>49</td>\n",
       "      <td>Bad</td>\n",
       "      <td>0</td>\n",
       "      <td>0.199038</td>\n",
       "      <td>-0.188250</td>\n",
       "    </tr>\n",
       "    <tr>\n",
       "      <th>3</th>\n",
       "      <td>4</td>\n",
       "      <td>M</td>\n",
       "      <td>-0.761690</td>\n",
       "      <td>-3.150093</td>\n",
       "      <td>-2.736307</td>\n",
       "      <td>-1.510815</td>\n",
       "      <td>-2.450383</td>\n",
       "      <td>-2.329992</td>\n",
       "      <td>-2.298160</td>\n",
       "      <td>-2.265747</td>\n",
       "      <td>-17.503189</td>\n",
       "      <td>908</td>\n",
       "      <td>Good</td>\n",
       "      <td>1</td>\n",
       "      <td>-2.450257</td>\n",
       "      <td>1.536353</td>\n",
       "    </tr>\n",
       "    <tr>\n",
       "      <th>4</th>\n",
       "      <td>5</td>\n",
       "      <td>F</td>\n",
       "      <td>1.055354</td>\n",
       "      <td>0.465030</td>\n",
       "      <td>0.581098</td>\n",
       "      <td>0.583573</td>\n",
       "      <td>-0.699749</td>\n",
       "      <td>0.616843</td>\n",
       "      <td>0.967295</td>\n",
       "      <td>0.847431</td>\n",
       "      <td>4.416875</td>\n",
       "      <td>241</td>\n",
       "      <td>Bad</td>\n",
       "      <td>0</td>\n",
       "      <td>0.615568</td>\n",
       "      <td>0.814614</td>\n",
       "    </tr>\n",
       "  </tbody>\n",
       "</table>\n",
       "</div>"
      ],
      "text/plain": [
       "   Youth ID Gender       PWS        DL        SC        RC       HMM  \\\n",
       "0         1      M -0.425201  0.113763  0.014711 -0.463621  0.147781   \n",
       "1         2      M -0.156009  0.025946  0.208901  0.478853 -0.213461   \n",
       "2         3      M  0.247779  0.377213 -0.179478  0.478853 -0.102310   \n",
       "3         4      M -0.761690 -3.150093 -2.736307 -1.510815 -2.450383   \n",
       "4         5      F  1.055354  0.465030  0.581098  0.583573 -0.699749   \n",
       "\n",
       "        WSL       CEP        LF  total_score  Days_in_Program Category  \\\n",
       "0 -0.214315  1.236359  0.847431     1.256908              264     Good   \n",
       "1  0.239044  0.135644 -0.931528    -0.212610              467     Good   \n",
       "2  0.541284  0.147874 -0.042048     1.469166               49      Bad   \n",
       "3 -2.329992 -2.298160 -2.265747   -17.503189              908     Good   \n",
       "4  0.616843  0.967295  0.847431     4.416875              241      Bad   \n",
       "\n",
       "   Result Score  fraud_alert     sigma  \n",
       "0             1     0.211725  0.398059  \n",
       "1             1    -0.031427 -0.067687  \n",
       "2             0     0.199038 -0.188250  \n",
       "3             1    -2.450257  1.536353  \n",
       "4             0     0.615568  0.814614  "
      ]
     },
     "execution_count": 25,
     "metadata": {},
     "output_type": "execute_result"
    }
   ],
   "source": [
    "df.head()"
   ]
  },
  {
   "cell_type": "code",
   "execution_count": 26,
   "id": "eecf8cf8",
   "metadata": {},
   "outputs": [
    {
     "name": "stdout",
     "output_type": "stream",
     "text": [
      "   Youth ID Gender       PWS        DL        SC        RC       HMM  \\\n",
      "0         1      M -0.425201  0.113763  0.014711 -0.463621  0.147781   \n",
      "1         2      M -0.156009  0.025946  0.208901  0.478853 -0.213461   \n",
      "2         3      M  0.247779  0.377213 -0.179478  0.478853 -0.102310   \n",
      "3         4      M -0.761690 -3.150093 -2.736307 -1.510815 -2.450383   \n",
      "4         5      F  1.055354  0.465030  0.581098  0.583573 -0.699749   \n",
      "\n",
      "        WSL       CEP        LF  total_score  Days_in_Program Category  \\\n",
      "0 -0.214315  1.236359  0.847431     1.256908              264     Good   \n",
      "1  0.239044  0.135644 -0.931528    -0.212610              467     Good   \n",
      "2  0.541284  0.147874 -0.042048     1.469166               49      Bad   \n",
      "3 -2.329992 -2.298160 -2.265747   -17.503189              908     Good   \n",
      "4  0.616843  0.967295  0.847431     4.416875              241      Bad   \n",
      "\n",
      "   Result Score  fraud_alert     sigma  Class  Sex  \n",
      "0             1     0.211725  0.398059      1    1  \n",
      "1             1    -0.031427 -0.067687      1    1  \n",
      "2             0     0.199038 -0.188250      0    1  \n",
      "3             1    -2.450257  1.536353      1    1  \n",
      "4             0     0.615568  0.814614      0    0  \n"
     ]
    }
   ],
   "source": [
    "# Change category data to numeric values\n",
    "class_replace_values = {'Good': 1, 'Bad': 0}\n",
    "df['Class'] = df['Category'].replace(class_replace_values)\n",
    "\n",
    "sex_replace_values = {'M': 1, 'F': 0}\n",
    "df['Sex'] = df['Gender'].replace(sex_replace_values)\n",
    "\n",
    "#Ensure the changes are correct\n",
    "print(df.head())"
   ]
  },
  {
   "cell_type": "code",
   "execution_count": 27,
   "id": "9814e1a2",
   "metadata": {},
   "outputs": [],
   "source": [
    "# Define features to be used in the model\n",
    "features = ['Sex', 'fraud_alert', 'sigma']\n",
    "\n",
    "# Extract features for X and target variable for Y\n",
    "X = df[features].values\n",
    "Y = df['Class'].values\n",
    "\n",
    "# Scale the features\n",
    "scaler = StandardScaler()\n",
    "X_scaled = scaler.fit_transform(X)"
   ]
  },
  {
   "cell_type": "code",
   "execution_count": 28,
   "id": "83805dc6",
   "metadata": {},
   "outputs": [],
   "source": [
    "# Apply SMOTE to handle class imbalance\n",
    "smote = SMOTE(random_state=42)\n",
    "X_resampled, Y_resampled = smote.fit_resample(X_scaled, Y)\n",
    "\n",
    "# Apply bootstrapping to increase the number of observations\n",
    "n_samples = 100  # Desired number of samples\n",
    "df_resampled = pd.DataFrame(X_resampled, columns=features)\n",
    "df_resampled['Class'] = Y_resampled\n",
    "df_bootstrap = resample(df_resampled, replace=True, n_samples=n_samples, random_state=42)"
   ]
  },
  {
   "cell_type": "code",
   "execution_count": 29,
   "id": "86319907",
   "metadata": {},
   "outputs": [
    {
     "name": "stdout",
     "output_type": "stream",
     "text": [
      "Train set: (80, 3) (80,)\n",
      "Test set: (20, 3) (20,)\n"
     ]
    }
   ],
   "source": [
    "# Split the data into training and testing sets\n",
    "X_train, X_test, Y_train, Y_test = train_test_split(df_bootstrap[features].values, df_bootstrap['Class'].values, test_size=0.2, random_state=42)\n",
    "print('Train set:', X_train.shape, Y_train.shape)\n",
    "print('Test set:', X_test.shape, Y_test.shape)"
   ]
  },
  {
   "cell_type": "code",
   "execution_count": 30,
   "id": "c2abcc0f",
   "metadata": {},
   "outputs": [],
   "source": [
    "# Function to plot the confusion matrix\n",
    "def plot_confusion_matrix(y_true, y_pred):\n",
    "    cm = confusion_matrix(y_true, y_pred)\n",
    "    fig, ax = plt.subplots()\n",
    "    sns.heatmap(cm, annot=True, fmt='d', ax=ax, cmap='Blues')\n",
    "    ax.set_xlabel('Predicted labels')\n",
    "    ax.set_ylabel('True labels')\n",
    "    ax.set_title('Confusion Matrix')\n",
    "    ax.xaxis.set_ticklabels(['Bad (0)', 'Good (1)'])\n",
    "    ax.yaxis.set_ticklabels(['Bad (0)', 'Good (1)'])\n",
    "    plt.show()"
   ]
  },
  {
   "cell_type": "code",
   "execution_count": 32,
   "id": "5147cf5f",
   "metadata": {},
   "outputs": [],
   "source": [
    "# Function to print detailed evaluation metrics\n",
    "def print_evaluation_metrics(model_name, y_true, y_pred):\n",
    "    print(f\"Evaluation Metrics for {model_name}:\")\n",
    "    print(\"Confusion Matrix:\")\n",
    "    print(confusion_matrix(y_true, y_pred))\n",
    "    print(\"Classification Report:\")\n",
    "    print(classification_report(y_true, y_pred))\n",
    "    print(f\"Accuracy: {accuracy_score(y_true, y_pred):.2f}\")\n",
    "    print(f\"Precision: {precision_score(y_true, y_pred):.2f}\")\n",
    "    print(f\"Recall: {recall_score(y_true, y_pred):.2f}\")\n",
    "    print(f\"F1-Score: {f1_score(y_true, y_pred):.2f}\")\n",
    "    print(\"\\n\")"
   ]
  },
  {
   "cell_type": "code",
   "execution_count": 33,
   "id": "19e3b26b",
   "metadata": {
    "scrolled": false
   },
   "outputs": [
    {
     "name": "stdout",
     "output_type": "stream",
     "text": [
      "Logistic Regression - Best parameters: {'C': 1, 'solver': 'liblinear'}\n",
      "Logistic Regression - Best accuracy score: 0.85\n",
      "Evaluation Metrics for Logistic Regression:\n",
      "Confusion Matrix:\n",
      "[[10  2]\n",
      " [ 0  8]]\n",
      "Classification Report:\n",
      "              precision    recall  f1-score   support\n",
      "\n",
      "           0       1.00      0.83      0.91        12\n",
      "           1       0.80      1.00      0.89         8\n",
      "\n",
      "    accuracy                           0.90        20\n",
      "   macro avg       0.90      0.92      0.90        20\n",
      "weighted avg       0.92      0.90      0.90        20\n",
      "\n",
      "Accuracy: 0.90\n",
      "Precision: 0.80\n",
      "Recall: 1.00\n",
      "F1-Score: 0.89\n",
      "\n",
      "\n"
     ]
    },
    {
     "data": {
      "image/png": "[encoded data removed]",
      "text/plain": [
       "<Figure size 640x480 with 2 Axes>"
      ]
     },
     "metadata": {},
     "output_type": "display_data"
    }
   ],
   "source": [
    "# Logistic Regression\n",
    "logreg = LogisticRegression()\n",
    "parameters = {'C': [0.1, 1, 10, 100], 'solver': ['liblinear']}\n",
    "grid_search = GridSearchCV(logreg, parameters, cv=10, scoring='accuracy')\n",
    "logreg_cv = grid_search.fit(X_train, Y_train)\n",
    "print(\"Logistic Regression - Best parameters:\", logreg_cv.best_params_)\n",
    "print(\"Logistic Regression - Best accuracy score:\", logreg_cv.best_score_)\n",
    "yhat_logreg = logreg_cv.predict(X_test)\n",
    "print_evaluation_metrics(\"Logistic Regression\", Y_test, yhat_logreg)\n",
    "plot_confusion_matrix(Y_test, yhat_logreg)\n"
   ]
  },
  {
   "cell_type": "markdown",
   "id": "d065fe73",
   "metadata": {},
   "source": [
    "### Confusion Matrix Analysis\n",
    "\n",
    "This confusion matrix provides a detailed look at the predictions made by a classifier, categorizing outcomes into 'Bad (0)' and 'Good (1)'. The matrix includes a total of 20 predictions (10 + 2 + 0 + 8 = 20 instances).\n",
    "\n",
    "**Matrix Details:**\n",
    "- **True Negatives (TN):** The classifier correctly predicted 10 instances as 'Bad (0)'. These true negatives represent cases where both the actual and predicted outcomes were negative, demonstrating the classifier's effectiveness in identifying negative cases.\n",
    "- **False Positives (FP):** There were 2 instances where the classifier incorrectly predicted 'Good (1)' for cases that were actually 'Bad (0)'. These are false positives, indicating errors in predicting negative outcomes.\n",
    "- **False Negatives (FN):** There were 0 cases where the classifier incorrectly predicted 'Bad (0)' for instances that were actually 'Good (1)'. This shows that the model had no errors in recognizing positive outcomes.\n",
    "- **True Positives (TP):** The classifier correctly identified 8 instances as 'Good (1)'. These true positives confirm the classifier's ability to accurately predict positive outcomes.\n",
    "\n",
    "**Summary:**\n",
    "The classifier performed with a high level of accuracy, correctly predicting a majority of the outcomes. The presence of 2 false positives highlights a small area for potential improvement in the model’s predictive accuracy. Overall, the classifier was highly effective in distinguishing between 'Bad' and 'Good' outcomes for most of the dataset, especially given that there were no false negatives.\n"
   ]
  },
  {
   "cell_type": "code",
   "execution_count": 46,
   "id": "bf67c515",
   "metadata": {},
   "outputs": [],
   "source": [
    "# Application: Prediction with new input:\n",
    "Sex=0\n",
    "fraud_alert=0.04634\n",
    "sigma=0.62327\n",
    "\n",
    "new_input = [[Sex, fraud_alert, sigma]]  # Example input\n",
    "new_input_scaled = scaler.transform(new_input)"
   ]
  },
  {
   "cell_type": "code",
   "execution_count": 47,
   "id": "ba07d457",
   "metadata": {},
   "outputs": [
    {
     "name": "stdout",
     "output_type": "stream",
     "text": [
      "Predicted class label:  1\n",
      "Predicted probability of class 0:  19.02 %\n",
      "Predicted probability of class 1:  80.98 %\n",
      "The youth has a: 80.98 % chance of successfully completing the program up to the expiration date.\n"
     ]
    }
   ],
   "source": [
    "# Predict using log regression:\n",
    "new_output = logreg_cv.predict(new_input_scaled)\n",
    "proba = logreg_cv.predict_proba(new_input_scaled)\n",
    "\n",
    "# Extract the predicted probabilities of the first and second class\n",
    "predicted_prob_0 = round(proba[0, 0] * 100, 2)\n",
    "predicted_prob_1 = round(proba[0, 1] * 100, 2)\n",
    "\n",
    "# Print the predicted class labels and probabilities as percentages\n",
    "print(\"Predicted class label: \", new_output[0])\n",
    "print(\"Predicted probability of class 0: \", predicted_prob_0, \"%\")\n",
    "print(\"Predicted probability of class 1: \", predicted_prob_1, \"%\")\n",
    "\n",
    "if new_output[0] == 0:\n",
    "    print(\"The youth has a:\", predicted_prob_0, \"% chance of being discharged prior to expiration date.\")\n",
    "else:\n",
    "    print(\"The youth has a:\", predicted_prob_1, \"% chance of successfully completing the program up to the expiration date.\")"
   ]
  },
  {
   "cell_type": "code",
   "execution_count": null,
   "id": "73128cc4",
   "metadata": {},
   "outputs": [],
   "source": []
  }
 ],
 "metadata": {
  "kernelspec": {
   "display_name": "Python 3",
   "language": "python",
   "name": "python3"
  },
  "language_info": {
   "codemirror_mode": {
    "name": "ipython",
    "version": 3
   },
   "file_extension": ".py",
   "mimetype": "text/x-python",
   "name": "python",
   "nbconvert_exporter": "python",
   "pygments_lexer": "ipython3",
   "version": "3.11.3 (v3.11.3:f3909b8bc8, Apr  4 2023, 20:12:10) [Clang 13.0.0 (clang-1300.0.29.30)]"
  },
  "vscode": {
   "interpreter": {
    "hash": "31f2aee4e71d21fbe5cf8b01ff0e069b9275f58929596ceb00d14d90e3e16cd6"
   }
  }
 },
 "nbformat": 4,
 "nbformat_minor": 5
}
