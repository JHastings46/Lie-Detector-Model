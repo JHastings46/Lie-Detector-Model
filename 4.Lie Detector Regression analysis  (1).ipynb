{
 "cells": [
  {
   "cell_type": "markdown",
   "id": "5f320a03",
   "metadata": {},
   "source": [
    "For the file titled \"Lie Detector Regression Analysis,\" my primary objective is to leverage regression analysis techniques to identify patterns and predict outcomes related to the lie detector test data. Given the nature of the tasks outlined in the script you shared, here's a detailed and refined objective:\n",
    "\n",
    "### Objective for the \"Lie Detector Regression Analysis\" File\n",
    "\n",
    "**Objective:** Develop a robust regression model to predict the outcomes of a lie detector test based on various predictors such as participant demographics and test scores. This analysis aims to:\n",
    "- **Understand Relationships:** Determine how different variables such as `grand_total` scores and other categorical factors like `gender` influence the outcomes (`fraud_alert`) of the lie detector test.\n",
    "- **Predictive Accuracy:** Enhance the accuracy of predicting whether participants are likely to have a 'Good' or 'Bad' outcome based on their test scores and other associated factors.\n",
    "- **Model Optimization:** Utilize various regression techniques including Ordinary Least Squares (OLS) and logistic regression to model these relationships. Optimize these models by evaluating their performance through statistical measures such as R-squared, residuals, and visual diagnostics like residual plots and mosaic plots.\n",
    "- **Practical Application:** Apply the findings to improve the assessment strategies for new participants, tailoring interventions based on predicted outcomes to better manage the program's effectiveness.\n",
    "\n",
    "\n",
    "This objective ensures a comprehensive approach to analyzing the lie detector test data, focusing on predictive accuracy and practical applicability to real-world scenarios within your program. By achieving these goals, the analysis can significantly contribute to improving the assessment and intervention strategies based on empirical evidence."
   ]
  },
  {
   "cell_type": "code",
   "execution_count": 45,
   "id": "06137994",
   "metadata": {},
   "outputs": [],
   "source": [
    "# Pandas is a software library written for the Python programming language for data manipulation and analysis.\n",
    "import pandas as pd\n",
    "# NumPy is a library for the Python programming language, adding support for large, multi-dimensional arrays and matrices, along with a large collection of high-level mathematical functions to operate on these arrays\n",
    "import numpy as np\n",
    "# Matplotlib is a plotting library for python and pyplot gives us a MatLab like plotting framework. We will use this in our plotter function to plot data.\n",
    "import matplotlib.pyplot as plt\n",
    "#Seaborn is a Python data visualization library based on matplotlib. It provides a high-level interface for drawing attractive and informative statistical graphics\n",
    "import seaborn as sns\n",
    "# Preprocessing allows us to standarsize our data\n",
    "from sklearn import preprocessing\n",
    "# Allows us to split our data into training and testing data\n",
    "from sklearn import metrics\n",
    "import matplotlib.pyplot as plt\n",
    "import statsmodels.api as sm\n",
    "import statsmodels.formula.api as smf\n"
   ]
  },
  {
   "cell_type": "code",
   "execution_count": 46,
   "id": "4f84d907",
   "metadata": {},
   "outputs": [],
   "source": [
    "df=pd.read_csv(\"/Users/oakmoreroadinc./Desktop/Data Science /Portfolio Data Science /for_regression.csv\",index_col=0)"
   ]
  },
  {
   "cell_type": "code",
   "execution_count": 47,
   "id": "5d9669e6",
   "metadata": {
    "scrolled": true
   },
   "outputs": [
    {
     "data": {
      "text/html": [
       "<div>\n",
       "<style scoped>\n",
       "    .dataframe tbody tr th:only-of-type {\n",
       "        vertical-align: middle;\n",
       "    }\n",
       "\n",
       "    .dataframe tbody tr th {\n",
       "        vertical-align: top;\n",
       "    }\n",
       "\n",
       "    .dataframe thead th {\n",
       "        text-align: right;\n",
       "    }\n",
       "</style>\n",
       "<table border=\"1\" class=\"dataframe\">\n",
       "  <thead>\n",
       "    <tr style=\"text-align: right;\">\n",
       "      <th></th>\n",
       "      <th>Youth ID</th>\n",
       "      <th>Gender</th>\n",
       "      <th>PWS</th>\n",
       "      <th>DL</th>\n",
       "      <th>SC</th>\n",
       "      <th>RC</th>\n",
       "      <th>HMM</th>\n",
       "      <th>WSL</th>\n",
       "      <th>CEP</th>\n",
       "      <th>LF</th>\n",
       "      <th>Days_in_Program</th>\n",
       "      <th>Category</th>\n",
       "      <th>Result Score</th>\n",
       "      <th>fraud_alert</th>\n",
       "      <th>sigma</th>\n",
       "    </tr>\n",
       "  </thead>\n",
       "  <tbody>\n",
       "    <tr>\n",
       "      <th>0</th>\n",
       "      <td>1</td>\n",
       "      <td>M</td>\n",
       "      <td>-0.425201</td>\n",
       "      <td>0.113763</td>\n",
       "      <td>0.014711</td>\n",
       "      <td>-0.463621</td>\n",
       "      <td>0.147781</td>\n",
       "      <td>-0.214315</td>\n",
       "      <td>1.236359</td>\n",
       "      <td>0.847431</td>\n",
       "      <td>264</td>\n",
       "      <td>Good</td>\n",
       "      <td>1</td>\n",
       "      <td>0.046791</td>\n",
       "      <td>0.398059</td>\n",
       "    </tr>\n",
       "    <tr>\n",
       "      <th>1</th>\n",
       "      <td>2</td>\n",
       "      <td>M</td>\n",
       "      <td>-0.156009</td>\n",
       "      <td>0.025946</td>\n",
       "      <td>0.208901</td>\n",
       "      <td>0.478853</td>\n",
       "      <td>-0.213461</td>\n",
       "      <td>0.239044</td>\n",
       "      <td>0.135644</td>\n",
       "      <td>-0.931528</td>\n",
       "      <td>467</td>\n",
       "      <td>Good</td>\n",
       "      <td>1</td>\n",
       "      <td>0.045256</td>\n",
       "      <td>-0.067687</td>\n",
       "    </tr>\n",
       "    <tr>\n",
       "      <th>2</th>\n",
       "      <td>3</td>\n",
       "      <td>M</td>\n",
       "      <td>0.247779</td>\n",
       "      <td>0.377213</td>\n",
       "      <td>-0.179478</td>\n",
       "      <td>0.478853</td>\n",
       "      <td>-0.102310</td>\n",
       "      <td>0.541284</td>\n",
       "      <td>0.147874</td>\n",
       "      <td>-0.042048</td>\n",
       "      <td>49</td>\n",
       "      <td>Bad</td>\n",
       "      <td>0</td>\n",
       "      <td>0.046711</td>\n",
       "      <td>-0.188250</td>\n",
       "    </tr>\n",
       "    <tr>\n",
       "      <th>3</th>\n",
       "      <td>4</td>\n",
       "      <td>M</td>\n",
       "      <td>-0.761690</td>\n",
       "      <td>-3.150093</td>\n",
       "      <td>-2.736307</td>\n",
       "      <td>-1.510815</td>\n",
       "      <td>-2.450383</td>\n",
       "      <td>-2.329992</td>\n",
       "      <td>-2.298160</td>\n",
       "      <td>-2.265747</td>\n",
       "      <td>908</td>\n",
       "      <td>Good</td>\n",
       "      <td>1</td>\n",
       "      <td>0.029993</td>\n",
       "      <td>1.536353</td>\n",
       "    </tr>\n",
       "    <tr>\n",
       "      <th>4</th>\n",
       "      <td>5</td>\n",
       "      <td>F</td>\n",
       "      <td>1.055354</td>\n",
       "      <td>0.465030</td>\n",
       "      <td>0.581098</td>\n",
       "      <td>0.583573</td>\n",
       "      <td>-0.699749</td>\n",
       "      <td>0.616843</td>\n",
       "      <td>0.967295</td>\n",
       "      <td>0.847431</td>\n",
       "      <td>241</td>\n",
       "      <td>Bad</td>\n",
       "      <td>0</td>\n",
       "      <td>0.049339</td>\n",
       "      <td>0.814614</td>\n",
       "    </tr>\n",
       "  </tbody>\n",
       "</table>\n",
       "</div>"
      ],
      "text/plain": [
       "   Youth ID Gender       PWS        DL        SC        RC       HMM  \\\n",
       "0         1      M -0.425201  0.113763  0.014711 -0.463621  0.147781   \n",
       "1         2      M -0.156009  0.025946  0.208901  0.478853 -0.213461   \n",
       "2         3      M  0.247779  0.377213 -0.179478  0.478853 -0.102310   \n",
       "3         4      M -0.761690 -3.150093 -2.736307 -1.510815 -2.450383   \n",
       "4         5      F  1.055354  0.465030  0.581098  0.583573 -0.699749   \n",
       "\n",
       "        WSL       CEP        LF  Days_in_Program Category  Result Score  \\\n",
       "0 -0.214315  1.236359  0.847431              264     Good             1   \n",
       "1  0.239044  0.135644 -0.931528              467     Good             1   \n",
       "2  0.541284  0.147874 -0.042048               49      Bad             0   \n",
       "3 -2.329992 -2.298160 -2.265747              908     Good             1   \n",
       "4  0.616843  0.967295  0.847431              241      Bad             0   \n",
       "\n",
       "   fraud_alert     sigma  \n",
       "0     0.046791  0.398059  \n",
       "1     0.045256 -0.067687  \n",
       "2     0.046711 -0.188250  \n",
       "3     0.029993  1.536353  \n",
       "4     0.049339  0.814614  "
      ]
     },
     "execution_count": 47,
     "metadata": {},
     "output_type": "execute_result"
    }
   ],
   "source": [
    "df.head()"
   ]
  },
  {
   "cell_type": "markdown",
   "id": "d6b2a0d8",
   "metadata": {},
   "source": [
    "### Logistic Regression Analysis\n",
    "\n",
    "The following code performs a logistic regression analysis to explore the relationship between the predictor variable `fraud_alert` and the binary outcome variable `Result Score`. The model aims to predict the likelihood of a positive result (1) based on the `fraud_alert` values.\n",
    "\n",
    "\n",
    "- **Model Fitting**: The `Logit` function from `statsmodels.api` is used to fit a logistic regression model. This function requires specifying the dependent variable (`Result Score`) and the independent variables (`fraud_alert` and 'Intercept').\n",
    "- **Model Execution**: The model is fitted using the `.fit()` method, which performs the logistic regression analysis.\n",
    "- **Visualization**: We use `seaborn`'s `regplot` to plot the results, specifying `logistic=True` to plot a logistic regression curve. This shows how the probability of achieving a `Result Score` of 1 changes with different levels of `fraud_alert`.\n",
    "- **Line Attributes**: The logistic curve is colored blue to enhance visibility.\n",
    "\n",
    "This analysis helps to understand how changes in `fraud_alert` influence the probability of a positive outcome, providing insights into the effects of potential fraud alert triggers on the results.\n",
    "\n"
   ]
  },
  {
   "cell_type": "code",
   "execution_count": 48,
   "id": "517487f7",
   "metadata": {},
   "outputs": [
    {
     "name": "stdout",
     "output_type": "stream",
     "text": [
      "Optimization terminated successfully.\n",
      "         Current function value: 0.604307\n",
      "         Iterations 6\n"
     ]
    },
    {
     "data": {
      "image/png": "[encoded data removed]",
      "text/plain": [
       "<Figure size 640x480 with 1 Axes>"
      ]
     },
     "metadata": {},
     "output_type": "display_data"
    }
   ],
   "source": [
    "df['Intercept'] = 1  # Manually add an Intercept column with all values set to 1.\n",
    "\n",
    "# Fit logistic regression using statsmodels\n",
    "logit_model = sm.Logit(df['Result Score'], df[['Intercept', 'fraud_alert']])\n",
    "result = logit_model.fit()\n",
    "\n",
    "# Plotting the logistic regression result\n",
    "sns.regplot(x='fraud_alert', y='Result Score', data=df, logistic=True, ci=None,\n",
    "            line_kws={\"color\": \"blue\"})\n",
    "plt.show()\n"
   ]
  },
  {
   "cell_type": "markdown",
   "id": "4d7f01b4",
   "metadata": {},
   "source": [
    "### Adding an Intercept Column to the DataFrame\n",
    "\n",
    "In logistic regression, the model equation is typically expressed as:\n",
    "\n",
    "\\[ \\log\\left(\\frac{p}{1-p}\\right) = \\beta_0 + \\beta_1X_1 + \\beta_2X_2 + \\ldots + \\beta_nX_n \\]\n",
    "\n",
    "Where:\n",
    "- \\( p \\) is the probability of the outcome (e.g., `Result Score` = 1).\n",
    "- \\(\\beta_0\\) is the intercept term.\n",
    "- \\(\\beta_1, \\beta_2, \\ldots, \\beta_n\\) are the coefficients for the predictor variables \\(X_1, X_2, \\ldots, X_n\\).\n",
    "\n",
    "**Why Add an Intercept?**\n",
    "\n",
    "1. **Baseline Probability**:\n",
    "   - The intercept (\\(\\beta_0\\)) represents the baseline log-odds of the outcome when all predictor variables are zero. It is essential for establishing a baseline level from which the effects of the predictor variables are measured.\n",
    "   - Without an intercept, the model would force the log-odds of the outcome to be zero when all predictors are zero, which might not be appropriate for the data and could lead to a biased model.\n",
    "\n",
    "2. **Model Flexibility**:\n",
    "   - Including an intercept makes the model more flexible and capable of fitting a wider range of data. It allows the regression line (or logistic curve) to shift up or down, better capturing the underlying relationship between the predictors and the outcome.\n",
    "\n",
    "3. **Statistical Significance**:\n",
    "   - The intercept term provides information about the log-odds of the outcome in the absence of other predictors, which can be meaningful in many practical applications.\n"
   ]
  },
  {
   "cell_type": "code",
   "execution_count": 49,
   "id": "f651b341",
   "metadata": {},
   "outputs": [
    {
     "data": {
      "image/png": "[encoded data removed]",
      "text/plain": [
       "<Figure size 1097.24x500 with 2 Axes>"
      ]
     },
     "metadata": {},
     "output_type": "display_data"
    }
   ],
   "source": [
    "sns.displot(data=df,x='fraud_alert', hue='Result Score', kind='hist', col='Result Score')\n",
    "plt.show()"
   ]
  },
  {
   "cell_type": "markdown",
   "id": "e9657978",
   "metadata": {},
   "source": [
    "### Histogram Analysis of \"fraud_alert\"\n",
    "\n",
    "The histogram above displays the distribution of the explanatory variable \"fraud_alert\". The data for 'result_score=0' is skewed to the left, indicating that higher 'fraud_alert' values typically result in a 0, which is considered unfavorable. Conversely, the data for 'result_score=1' is slightly skewed to the right, suggesting that lower 'fraud_alert' values are associated with a score of 1, denoting a favorable outcome."
   ]
  },
  {
   "cell_type": "code",
   "execution_count": 50,
   "id": "b5c39d37",
   "metadata": {
    "scrolled": true
   },
   "outputs": [
    {
     "name": "stdout",
     "output_type": "stream",
     "text": [
      "Original Columns: Index(['Youth ID', 'Gender', 'PWS', 'DL', 'SC', 'RC', 'HMM', 'WSL', 'CEP',\n",
      "       'LF', 'Days_in_Program', 'Category', 'Result Score', 'fraud_alert',\n",
      "       'sigma', 'Intercept'],\n",
      "      dtype='object')\n",
      "Updated Columns: Index(['Youth ID', 'Gender', 'PWS', 'DL', 'SC', 'RC', 'HMM', 'WSL', 'CEP',\n",
      "       'LF', 'Days_in_Program', 'Category', 'result_score', 'fraud_alert',\n",
      "       'sigma', 'Intercept'],\n",
      "      dtype='object')\n",
      "   Youth ID Gender       PWS        DL        SC        RC       HMM  \\\n",
      "0         1      M -0.425201  0.113763  0.014711 -0.463621  0.147781   \n",
      "1         2      M -0.156009  0.025946  0.208901  0.478853 -0.213461   \n",
      "2         3      M  0.247779  0.377213 -0.179478  0.478853 -0.102310   \n",
      "3         4      M -0.761690 -3.150093 -2.736307 -1.510815 -2.450383   \n",
      "4         5      F  1.055354  0.465030  0.581098  0.583573 -0.699749   \n",
      "\n",
      "        WSL       CEP        LF  Days_in_Program Category  result_score  \\\n",
      "0 -0.214315  1.236359  0.847431              264     Good             1   \n",
      "1  0.239044  0.135644 -0.931528              467     Good             1   \n",
      "2  0.541284  0.147874 -0.042048               49      Bad             0   \n",
      "3 -2.329992 -2.298160 -2.265747              908     Good             1   \n",
      "4  0.616843  0.967295  0.847431              241      Bad             0   \n",
      "\n",
      "   fraud_alert     sigma  Intercept  \n",
      "0     0.046791  0.398059          1  \n",
      "1     0.045256 -0.067687          1  \n",
      "2     0.046711 -0.188250          1  \n",
      "3     0.029993  1.536353          1  \n",
      "4     0.049339  0.814614          1  \n"
     ]
    }
   ],
   "source": [
    "# Check existing columns\n",
    "print(\"Original Columns:\", df.columns)\n",
    "\n",
    "# Rename the column from 'Result score' to 'result_score' for simplicity\n",
    "df = df.rename(columns={'Result Score': 'result_score'})\n",
    "\n",
    "# Verify the change\n",
    "print(\"Updated Columns:\", df.columns)\n",
    "print(df.head())"
   ]
  },
  {
   "cell_type": "markdown",
   "id": "ff0e1f3b",
   "metadata": {},
   "source": [
    "### Most Likely Outcome"
   ]
  },
  {
   "cell_type": "code",
   "execution_count": 51,
   "id": "c2d1b36b",
   "metadata": {},
   "outputs": [
    {
     "name": "stdout",
     "output_type": "stream",
     "text": [
      "Optimization terminated successfully.\n",
      "         Current function value: 0.604307\n",
      "         Iterations 6\n"
     ]
    },
    {
     "data": {
      "image/png": "[encoded data removed]",
      "text/plain": [
       "<Figure size 640x480 with 1 Axes>"
      ]
     },
     "metadata": {},
     "output_type": "display_data"
    }
   ],
   "source": [
    "import statsmodels.formula.api as smf\n",
    "\n",
    "# Making predictions with logistic regression\n",
    "mdl_fraud = smf.logit(\"result_score ~ fraud_alert\", data=df).fit()\n",
    "\n",
    "explanatory_data = pd.DataFrame({\"fraud_alert\": np.arange(0.04, 0.052, 0.00025)})\n",
    "\n",
    "prediction_data = explanatory_data.assign(result_score=mdl_fraud.predict(explanatory_data))\n",
    "\n",
    "# Plotting the logistic regression prediction\n",
    "sns.lineplot(x='fraud_alert', y='result_score', data=prediction_data, color=\"blue\")\n",
    "plt.xlabel(\"Fraud Alert\")\n",
    "plt.ylabel(\"Result Score\")\n",
    "plt.title(\"Logistic Regression Prediction\")\n",
    "plt.show()\n"
   ]
  },
  {
   "cell_type": "code",
   "execution_count": 52,
   "id": "5c60d9cf",
   "metadata": {},
   "outputs": [
    {
     "data": {
      "image/png": "[encoded data removed]",
      "text/plain": [
       "<Figure size 640x480 with 1 Axes>"
      ]
     },
     "metadata": {},
     "output_type": "display_data"
    }
   ],
   "source": [
    "#Adding point predictions to a plot \n",
    "sns.regplot(x='fraud_alert', y='result_score', data=df, ci=None, logistic=True)\n",
    "\n",
    "sns.scatterplot(x='fraud_alert',y='result_score', data=prediction_data, color=\"red\" )\n",
    "\n",
    "\n",
    "plt.show()\n"
   ]
  },
  {
   "cell_type": "code",
   "execution_count": 53,
   "id": "5e1d8269",
   "metadata": {},
   "outputs": [],
   "source": [
    "# Calculating most likely outcome\n",
    "# Using numpy round() function to predict 'most likely outcome'\n",
    "prediction_data = explanatory_data.assign(result_score=mdl_fraud.predict(explanatory_data))"
   ]
  },
  {
   "cell_type": "code",
   "execution_count": 54,
   "id": "686fc81a",
   "metadata": {},
   "outputs": [],
   "source": [
    "prediction_data['most_likely_outcome']=np.round(prediction_data['result_score'])"
   ]
  },
  {
   "cell_type": "code",
   "execution_count": 55,
   "id": "147ed145",
   "metadata": {},
   "outputs": [
    {
     "data": {
      "image/png": "[encoded data removed]",
      "text/plain": [
       "<Figure size 640x480 with 1 Axes>"
      ]
     },
     "metadata": {},
     "output_type": "display_data"
    }
   ],
   "source": [
    "#visualizing most likely outcome\n",
    "sns.regplot(x='fraud_alert', y='result_score', data=df, ci=None, logistic=True)\n",
    "\n",
    "sns.scatterplot(x='fraud_alert',y='most_likely_outcome', data=prediction_data, color=\"red\" )\n",
    "plt.show()\n"
   ]
  },
  {
   "cell_type": "markdown",
   "id": "3c7ff2d8",
   "metadata": {},
   "source": [
    "### Again we see as the fraud alert goes up the 'most likely outcome' is the result score approaching 0 which bad."
   ]
  },
  {
   "cell_type": "code",
   "execution_count": 56,
   "id": "cccf29ea",
   "metadata": {
    "scrolled": true
   },
   "outputs": [
    {
     "data": {
      "text/plain": [
       "0     3.556833\n",
       "1     3.428061\n",
       "2     3.303950\n",
       "3     3.184333\n",
       "4     3.069046\n",
       "5     2.957934\n",
       "6     2.850844\n",
       "7     2.747631\n",
       "8     2.648155\n",
       "9     2.552280\n",
       "10    2.459877\n",
       "11    2.370819\n",
       "12    2.284985\n",
       "13    2.202258\n",
       "14    2.122527\n",
       "15    2.045683\n",
       "16    1.971620\n",
       "17    1.900239\n",
       "18    1.831442\n",
       "19    1.765136\n",
       "20    1.701231\n",
       "21    1.639639\n",
       "22    1.580277\n",
       "23    1.523064\n",
       "24    1.467922\n",
       "25    1.414777\n",
       "26    1.363556\n",
       "27    1.314190\n",
       "28    1.266610\n",
       "29    1.220754\n",
       "30    1.176557\n",
       "31    1.133961\n",
       "32    1.092906\n",
       "33    1.053338\n",
       "34    1.015203\n",
       "35    0.978448\n",
       "36    0.943024\n",
       "37    0.908883\n",
       "38    0.875977\n",
       "39    0.844263\n",
       "40    0.813697\n",
       "41    0.784238\n",
       "42    0.755845\n",
       "43    0.728480\n",
       "44    0.702106\n",
       "45    0.676687\n",
       "46    0.652188\n",
       "47    0.628576\n",
       "Name: odds_ratio, dtype: float64"
      ]
     },
     "execution_count": 56,
     "metadata": {},
     "output_type": "execute_result"
    }
   ],
   "source": [
    "# Calculating Odds Ratio\n",
    "prediction_data['odds_ratio']=prediction_data['result_score']/(1-prediction_data['result_score'])\n",
    "prediction_data['odds_ratio']\n"
   ]
  },
  {
   "cell_type": "code",
   "execution_count": 57,
   "id": "fc03a34f",
   "metadata": {},
   "outputs": [
    {
     "data": {
      "image/png": "[encoded data removed]",
      "text/plain": [
       "<Figure size 640x480 with 1 Axes>"
      ]
     },
     "metadata": {},
     "output_type": "display_data"
    }
   ],
   "source": [
    "# Visualizing odds ratio \n",
    "sns.lineplot(x='fraud_alert',y='odds_ratio', data=prediction_data)\n",
    "\n",
    "plt.axhline(y=1, \n",
    "           linestyle=\"dotted\")\n",
    "plt.show()\n"
   ]
  },
  {
   "cell_type": "markdown",
   "id": "59dec06f",
   "metadata": {},
   "source": [
    "### Descriptions:\n",
    "\n",
    "\"In the bottom-right, the predictions drop below one, so the chance of 'Good=1' becomes less than the chance of 'Bad=0'.\"\n",
    "\n",
    "As `fraud_alert` values increase, the plot shows the odds ratio decreasing below 1, indicating that \"Bad=0\" becomes more likely than \"Good=1\".\n",
    "\n",
    "\"In the top-left, the chance of 'Good=1' is about 3.5 times more than the chance of 'Bad=0'.\"\n",
    "\n",
    "Initially, at lower `fraud_alert` values, \"Good=1\" is far more likely than \"Bad=0\", with odds ratios significantly greater than 1, reflecting much higher probabilities of positive outcomes.\n"
   ]
  },
  {
   "cell_type": "code",
   "execution_count": 58,
   "id": "bc0c08d7",
   "metadata": {},
   "outputs": [
    {
     "data": {
      "image/png": "[encoded data removed]",
      "text/plain": [
       "<Figure size 640x480 with 1 Axes>"
      ]
     },
     "metadata": {},
     "output_type": "display_data"
    }
   ],
   "source": [
    "# Visualizing log odds ratio \n",
    "\n",
    "sns.lineplot(x='fraud_alert',y='odds_ratio', data=prediction_data)\n",
    "\n",
    "plt.axhline(y=1, \n",
    "           linestyle=\"dotted\")\n",
    "plt.yscale(\"log\")\n",
    "plt.show()\n"
   ]
  },
  {
   "cell_type": "code",
   "execution_count": 59,
   "id": "3ad170c8",
   "metadata": {},
   "outputs": [
    {
     "data": {
      "text/plain": [
       "0     1.268871\n",
       "1     1.231995\n",
       "2     1.195119\n",
       "3     1.158243\n",
       "4     1.121367\n",
       "5     1.084491\n",
       "6     1.047615\n",
       "7     1.010739\n",
       "8     0.973863\n",
       "9     0.936987\n",
       "10    0.900111\n",
       "11    0.863235\n",
       "12    0.826359\n",
       "13    0.789483\n",
       "14    0.752607\n",
       "15    0.715732\n",
       "16    0.678856\n",
       "17    0.641980\n",
       "18    0.605104\n",
       "19    0.568228\n",
       "20    0.531352\n",
       "21    0.494476\n",
       "22    0.457600\n",
       "23    0.420724\n",
       "24    0.383848\n",
       "25    0.346972\n",
       "26    0.310096\n",
       "27    0.273220\n",
       "28    0.236344\n",
       "29    0.199468\n",
       "30    0.162592\n",
       "31    0.125716\n",
       "32    0.088841\n",
       "33    0.051965\n",
       "34    0.015089\n",
       "35   -0.021787\n",
       "36   -0.058663\n",
       "37   -0.095539\n",
       "38   -0.132415\n",
       "39   -0.169291\n",
       "40   -0.206167\n",
       "41   -0.243043\n",
       "42   -0.279919\n",
       "43   -0.316795\n",
       "44   -0.353671\n",
       "45   -0.390547\n",
       "46   -0.427423\n",
       "47   -0.464299\n",
       "Name: log_odds_ratio, dtype: float64"
      ]
     },
     "execution_count": 59,
     "metadata": {},
     "output_type": "execute_result"
    }
   ],
   "source": [
    "# predicting log odds ratio\n",
    "prediction_data[\"log_odds_ratio\"] = np.log(prediction_data[\"odds_ratio\"])\n",
    "prediction_data[\"log_odds_ratio\"]"
   ]
  },
  {
   "cell_type": "code",
   "execution_count": 60,
   "id": "35a92f0d",
   "metadata": {},
   "outputs": [
    {
     "name": "stdout",
     "output_type": "stream",
     "text": [
      "actual_response  predicted_response\n",
      "0                0.0                    5\n",
      "                 1.0                    4\n",
      "1                0.0                    2\n",
      "                 1.0                   11\n",
      "dtype: int64\n"
     ]
    }
   ],
   "source": [
    "# Get the actual responses from the \"result_score\" column\n",
    "actual_response = df[\"result_score\"]\n",
    "\n",
    "# Call the predict method on the fitted logistic regression model\n",
    "# Ensure to provide it the data frame if necessary, e.g., df[['fraud_alert']] if the model uses this predictor\n",
    "predicted_response = np.round(mdl_fraud.predict(df))  # Assuming the predictors are the same as those used for fitting\n",
    "\n",
    "# Combine the actual and predicted responses in a DataFrame\n",
    "outcomes = pd.DataFrame({\"actual_response\": actual_response, \"predicted_response\": predicted_response})\n",
    "\n",
    "# Print the value counts (confusion matrix)\n",
    "print(outcomes.value_counts(sort=False))"
   ]
  },
  {
   "cell_type": "markdown",
   "id": "5c493784",
   "metadata": {},
   "source": [
    "## Confusion Matrix Interpretation\n",
    "\n",
    "### Confusion Matrix:\n",
    "|                | Predicted 0 | Predicted 1 |\n",
    "|----------------|-------------|-------------|\n",
    "| Actual 0       | 5           | 4           |\n",
    "| Actual 1       | 2           | 11          |\n",
    "\n",
    "### Definitions:\n",
    "- **True Positives (TP)**: Cases where the actual response is 1 and the predicted response is also 1 (11 cases).\n",
    "- **True Negatives (TN)**: Cases where the actual response is 0 and the predicted response is also 0 (5 cases).\n",
    "- **False Positives (FP)**: Cases where the actual response is 0 but the predicted response is 1 (4 cases).\n",
    "- **False Negatives (FN)**: Cases where the actual response is 1 but the predicted response is 0 (2 cases).\n",
    "\n",
    "### Metrics:\n",
    "1. **Accuracy**: Measures the overall correctness of the model.\n",
    "   - Calculation: (TP + TN) / Total = (11 + 5) / (5 + 4 + 2 + 11) = 16 / 22 ≈ 0.727\n",
    "   - Interpretation: The model correctly predicted approximately 72.7% of the cases.\n",
    "\n",
    "2. **Precision**: Indicates the accuracy of positive predictions.\n",
    "   - Calculation: TP / (TP + FP) = 11 / (11 + 4) ≈ 0.733\n",
    "   - Interpretation: When the model predicts 1, it is correct about 73.3% of the time.\n",
    "\n",
    "3. **Recall (Sensitivity)**: Measures the ability of the model to identify positive instances.\n",
    "   - Calculation: TP / (TP + FN) = 11 / (11 + 2) ≈ 0.846\n",
    "   - Interpretation: The model correctly identifies 84.6% of the actual positive cases.\n",
    "\n",
    "4. **Specificity**: Measures the ability of the model to identify negative instances.\n",
    "   - Calculation: TN / (TN + FP) = 5 / (5 + 4) ≈ 0.556\n",
    "   - Interpretation: The model correctly identifies 55.6% of the actual negative cases.\n",
    "\n",
    "5. **F1 Score**: The harmonic mean of precision and recall.\n",
    "   - Calculation: 2 * (Precision * Recall) / (Precision + Recall) ≈ 2 * (0.733 * 0.846) / (0.733 + 0.846) ≈ 0.786\n",
    "   - Interpretation: The F1 score balances precision and recall, indicating a score of 78.6%.\n",
    "\n",
    "### Conclusion:\n",
    "The confusion matrix and metrics indicate that the model has a good balance between precision and recall with an overall accuracy of approximately 72.7%. Improvements can be focused on increasing specificity to better identify negative cases.\n"
   ]
  },
  {
   "cell_type": "code",
   "execution_count": 61,
   "id": "456458c2",
   "metadata": {},
   "outputs": [
    {
     "name": "stdout",
     "output_type": "stream",
     "text": [
      "[[ 5.  4.]\n",
      " [ 2. 11.]]\n"
     ]
    }
   ],
   "source": [
    "# Visualizing the confusion matrix\n",
    "conf_matrix=mdl_fraud.pred_table()\n",
    "print(conf_matrix)\n"
   ]
  },
  {
   "cell_type": "code",
   "execution_count": 62,
   "id": "b1807bb3",
   "metadata": {},
   "outputs": [
    {
     "data": {
      "text/plain": [
       "(<Figure size 640x480 with 3 Axes>,\n",
       " {('0', '0'): (0.0, 0.0, 0.40705563093622804, 0.5537098560354374),\n",
       "  ('0', '1'): (0.0,\n",
       "   0.55703211517165,\n",
       "   0.40705563093622804,\n",
       "   0.44296788482834987),\n",
       "  ('1', '0'): (0.41203075531433747,\n",
       "   0.0,\n",
       "   0.5879692446856626,\n",
       "   0.1533350370559673),\n",
       "  ('1', '1'): (0.41203075531433747,\n",
       "   0.1566572961921799,\n",
       "   0.5879692446856626,\n",
       "   0.8433427038078201)})"
      ]
     },
     "execution_count": 62,
     "metadata": {},
     "output_type": "execute_result"
    },
    {
     "data": {
      "image/png": "[encoded data removed]",
      "text/plain": [
       "<Figure size 640x480 with 3 Axes>"
      ]
     },
     "metadata": {},
     "output_type": "display_data"
    }
   ],
   "source": [
    "from statsmodels.graphics.mosaicplot import mosaic\n",
    "mosaic(conf_matrix)\n"
   ]
  },
  {
   "cell_type": "code",
   "execution_count": 63,
   "id": "3ab4a6cc",
   "metadata": {},
   "outputs": [],
   "source": [
    "# Accuracy= represents the proportion of correct predictions (both true positives and true negatives) \n",
    "# out of all predictions made.\n",
    "TN = conf_matrix[0,0]\n",
    "TP = conf_matrix[1,1]\n",
    "FN = conf_matrix[1,0]\n",
    "FP = conf_matrix[0,1]"
   ]
  },
  {
   "cell_type": "code",
   "execution_count": 64,
   "id": "65289aa1",
   "metadata": {},
   "outputs": [
    {
     "name": "stdout",
     "output_type": "stream",
     "text": [
      "0.7272727272727273\n"
     ]
    },
    {
     "data": {
      "text/plain": [
       "0.75"
      ]
     },
     "execution_count": 64,
     "metadata": {},
     "output_type": "execute_result"
    }
   ],
   "source": [
    "# Accuracy \n",
    "ac=(TN+TP)/(TN+TP+FN+FP)\n",
    "print(ac)\n",
    "0.75"
   ]
  },
  {
   "cell_type": "code",
   "execution_count": 65,
   "id": "b9642afe",
   "metadata": {},
   "outputs": [
    {
     "name": "stdout",
     "output_type": "stream",
     "text": [
      "0.8461538461538461\n"
     ]
    },
    {
     "data": {
      "text/plain": [
       "0.9"
      ]
     },
     "execution_count": 65,
     "metadata": {},
     "output_type": "execute_result"
    }
   ],
   "source": [
    "#Sensitivity = identifying positive outcomes correctly\n",
    "sns=TP/(FN+TP)\n",
    "print(sns)\n",
    "0.9"
   ]
  },
  {
   "cell_type": "code",
   "execution_count": 66,
   "id": "ad0a9d0d",
   "metadata": {},
   "outputs": [
    {
     "name": "stdout",
     "output_type": "stream",
     "text": [
      "0.5555555555555556\n"
     ]
    }
   ],
   "source": [
    "#Specifity = identifying negative outcomes correctly\n",
    "spec= TN/(TN+FP)\n",
    "print(spec)"
   ]
  },
  {
   "cell_type": "markdown",
   "id": "93615d64",
   "metadata": {},
   "source": [
    "## Categorical Explanatory variables \n"
   ]
  },
  {
   "cell_type": "code",
   "execution_count": 67,
   "id": "2f461f3f",
   "metadata": {},
   "outputs": [
    {
     "data": {
      "text/html": [
       "<div>\n",
       "<style scoped>\n",
       "    .dataframe tbody tr th:only-of-type {\n",
       "        vertical-align: middle;\n",
       "    }\n",
       "\n",
       "    .dataframe tbody tr th {\n",
       "        vertical-align: top;\n",
       "    }\n",
       "\n",
       "    .dataframe thead th {\n",
       "        text-align: right;\n",
       "    }\n",
       "</style>\n",
       "<table border=\"1\" class=\"dataframe\">\n",
       "  <thead>\n",
       "    <tr style=\"text-align: right;\">\n",
       "      <th></th>\n",
       "      <th>Youth ID</th>\n",
       "      <th>Gender</th>\n",
       "      <th>PWS</th>\n",
       "      <th>DL</th>\n",
       "      <th>SC</th>\n",
       "      <th>RC</th>\n",
       "      <th>HMM</th>\n",
       "      <th>WSL</th>\n",
       "      <th>CEP</th>\n",
       "      <th>LF</th>\n",
       "      <th>Days_in_Program</th>\n",
       "      <th>Category</th>\n",
       "      <th>result_score</th>\n",
       "      <th>fraud_alert</th>\n",
       "      <th>sigma</th>\n",
       "      <th>Intercept</th>\n",
       "    </tr>\n",
       "  </thead>\n",
       "  <tbody>\n",
       "    <tr>\n",
       "      <th>0</th>\n",
       "      <td>1</td>\n",
       "      <td>M</td>\n",
       "      <td>-0.425201</td>\n",
       "      <td>0.113763</td>\n",
       "      <td>0.014711</td>\n",
       "      <td>-0.463621</td>\n",
       "      <td>0.147781</td>\n",
       "      <td>-0.214315</td>\n",
       "      <td>1.236359</td>\n",
       "      <td>0.847431</td>\n",
       "      <td>264</td>\n",
       "      <td>Good</td>\n",
       "      <td>1</td>\n",
       "      <td>0.046791</td>\n",
       "      <td>0.398059</td>\n",
       "      <td>1</td>\n",
       "    </tr>\n",
       "    <tr>\n",
       "      <th>1</th>\n",
       "      <td>2</td>\n",
       "      <td>M</td>\n",
       "      <td>-0.156009</td>\n",
       "      <td>0.025946</td>\n",
       "      <td>0.208901</td>\n",
       "      <td>0.478853</td>\n",
       "      <td>-0.213461</td>\n",
       "      <td>0.239044</td>\n",
       "      <td>0.135644</td>\n",
       "      <td>-0.931528</td>\n",
       "      <td>467</td>\n",
       "      <td>Good</td>\n",
       "      <td>1</td>\n",
       "      <td>0.045256</td>\n",
       "      <td>-0.067687</td>\n",
       "      <td>1</td>\n",
       "    </tr>\n",
       "    <tr>\n",
       "      <th>2</th>\n",
       "      <td>3</td>\n",
       "      <td>M</td>\n",
       "      <td>0.247779</td>\n",
       "      <td>0.377213</td>\n",
       "      <td>-0.179478</td>\n",
       "      <td>0.478853</td>\n",
       "      <td>-0.102310</td>\n",
       "      <td>0.541284</td>\n",
       "      <td>0.147874</td>\n",
       "      <td>-0.042048</td>\n",
       "      <td>49</td>\n",
       "      <td>Bad</td>\n",
       "      <td>0</td>\n",
       "      <td>0.046711</td>\n",
       "      <td>-0.188250</td>\n",
       "      <td>1</td>\n",
       "    </tr>\n",
       "    <tr>\n",
       "      <th>3</th>\n",
       "      <td>4</td>\n",
       "      <td>M</td>\n",
       "      <td>-0.761690</td>\n",
       "      <td>-3.150093</td>\n",
       "      <td>-2.736307</td>\n",
       "      <td>-1.510815</td>\n",
       "      <td>-2.450383</td>\n",
       "      <td>-2.329992</td>\n",
       "      <td>-2.298160</td>\n",
       "      <td>-2.265747</td>\n",
       "      <td>908</td>\n",
       "      <td>Good</td>\n",
       "      <td>1</td>\n",
       "      <td>0.029993</td>\n",
       "      <td>1.536353</td>\n",
       "      <td>1</td>\n",
       "    </tr>\n",
       "    <tr>\n",
       "      <th>4</th>\n",
       "      <td>5</td>\n",
       "      <td>F</td>\n",
       "      <td>1.055354</td>\n",
       "      <td>0.465030</td>\n",
       "      <td>0.581098</td>\n",
       "      <td>0.583573</td>\n",
       "      <td>-0.699749</td>\n",
       "      <td>0.616843</td>\n",
       "      <td>0.967295</td>\n",
       "      <td>0.847431</td>\n",
       "      <td>241</td>\n",
       "      <td>Bad</td>\n",
       "      <td>0</td>\n",
       "      <td>0.049339</td>\n",
       "      <td>0.814614</td>\n",
       "      <td>1</td>\n",
       "    </tr>\n",
       "  </tbody>\n",
       "</table>\n",
       "</div>"
      ],
      "text/plain": [
       "   Youth ID Gender       PWS        DL        SC        RC       HMM  \\\n",
       "0         1      M -0.425201  0.113763  0.014711 -0.463621  0.147781   \n",
       "1         2      M -0.156009  0.025946  0.208901  0.478853 -0.213461   \n",
       "2         3      M  0.247779  0.377213 -0.179478  0.478853 -0.102310   \n",
       "3         4      M -0.761690 -3.150093 -2.736307 -1.510815 -2.450383   \n",
       "4         5      F  1.055354  0.465030  0.581098  0.583573 -0.699749   \n",
       "\n",
       "        WSL       CEP        LF  Days_in_Program Category  result_score  \\\n",
       "0 -0.214315  1.236359  0.847431              264     Good             1   \n",
       "1  0.239044  0.135644 -0.931528              467     Good             1   \n",
       "2  0.541284  0.147874 -0.042048               49      Bad             0   \n",
       "3 -2.329992 -2.298160 -2.265747              908     Good             1   \n",
       "4  0.616843  0.967295  0.847431              241      Bad             0   \n",
       "\n",
       "   fraud_alert     sigma  Intercept  \n",
       "0     0.046791  0.398059          1  \n",
       "1     0.045256 -0.067687          1  \n",
       "2     0.046711 -0.188250          1  \n",
       "3     0.029993  1.536353          1  \n",
       "4     0.049339  0.814614          1  "
      ]
     },
     "execution_count": 67,
     "metadata": {},
     "output_type": "execute_result"
    }
   ],
   "source": [
    "df.head()"
   ]
  },
  {
   "cell_type": "code",
   "execution_count": 70,
   "id": "822550ec",
   "metadata": {
    "scrolled": false
   },
   "outputs": [
    {
     "data": {
      "image/png": "[encoded data removed]",
      "text/plain": [
       "<Figure size 1000x500 with 2 Axes>"
      ]
     },
     "metadata": {},
     "output_type": "display_data"
    }
   ],
   "source": [
    "import pandas as pd\n",
    "import numpy as np\n",
    "import matplotlib.pyplot as plt\n",
    "import seaborn as sns\n",
    "\n",
    "# Ensure no variable conflicts\n",
    "sns = sns\n",
    "\n",
    "# Assuming df is your DataFrame\n",
    "# df = pd.DataFrame({...})\n",
    "\n",
    "# Plot using seaborn's displot\n",
    "sns.displot(data=df, x='Days_in_Program', col='Gender', col_wrap=2, bins=5)\n",
    "plt.show()\n"
   ]
  },
  {
   "cell_type": "code",
   "execution_count": 71,
   "id": "6f065c8d",
   "metadata": {},
   "outputs": [
    {
     "data": {
      "text/plain": [
       "Gender\n",
       "F    359.5000\n",
       "M    518.8125\n",
       "Name: Days_in_Program, dtype: float64"
      ]
     },
     "execution_count": 71,
     "metadata": {},
     "output_type": "execute_result"
    }
   ],
   "source": [
    "## Calculating differences in average days spent in the program for M & W\n",
    "summary_stats=df.groupby(\"Gender\")[\"Days_in_Program\"].mean()\n",
    "summary_stats"
   ]
  },
  {
   "cell_type": "code",
   "execution_count": 72,
   "id": "7d52a126",
   "metadata": {},
   "outputs": [
    {
     "name": "stdout",
     "output_type": "stream",
     "text": [
      "Gender[F]    359.5000\n",
      "Gender[M]    518.8125\n",
      "dtype: float64\n"
     ]
    }
   ],
   "source": [
    "from statsmodels.formula.api import ols\n",
    "mdl_fraud_vs_gender = ols(\"Days_in_Program~Gender + 0\", data=df).fit()\n",
    "print(mdl_fraud_vs_gender.params)"
   ]
  },
  {
   "cell_type": "markdown",
   "id": "aa13aec5",
   "metadata": {},
   "source": [
    "#####  Male's tend to stay longer in the program then Female's"
   ]
  },
  {
   "cell_type": "markdown",
   "id": "2233afde",
   "metadata": {},
   "source": [
    "## Making Predictions "
   ]
  },
  {
   "cell_type": "code",
   "execution_count": 73,
   "id": "e017a98b",
   "metadata": {},
   "outputs": [
    {
     "data": {
      "text/html": [
       "<div>\n",
       "<style scoped>\n",
       "    .dataframe tbody tr th:only-of-type {\n",
       "        vertical-align: middle;\n",
       "    }\n",
       "\n",
       "    .dataframe tbody tr th {\n",
       "        vertical-align: top;\n",
       "    }\n",
       "\n",
       "    .dataframe thead th {\n",
       "        text-align: right;\n",
       "    }\n",
       "</style>\n",
       "<table border=\"1\" class=\"dataframe\">\n",
       "  <thead>\n",
       "    <tr style=\"text-align: right;\">\n",
       "      <th></th>\n",
       "      <th>Youth ID</th>\n",
       "      <th>Gender</th>\n",
       "      <th>PWS</th>\n",
       "      <th>DL</th>\n",
       "      <th>SC</th>\n",
       "      <th>RC</th>\n",
       "      <th>HMM</th>\n",
       "      <th>WSL</th>\n",
       "      <th>CEP</th>\n",
       "      <th>LF</th>\n",
       "      <th>Days_in_Program</th>\n",
       "      <th>Category</th>\n",
       "      <th>result_score</th>\n",
       "      <th>fraud_alert</th>\n",
       "      <th>sigma</th>\n",
       "      <th>Intercept</th>\n",
       "    </tr>\n",
       "  </thead>\n",
       "  <tbody>\n",
       "    <tr>\n",
       "      <th>2</th>\n",
       "      <td>3</td>\n",
       "      <td>M</td>\n",
       "      <td>0.247779</td>\n",
       "      <td>0.377213</td>\n",
       "      <td>-0.179478</td>\n",
       "      <td>0.478853</td>\n",
       "      <td>-0.102310</td>\n",
       "      <td>0.541284</td>\n",
       "      <td>0.147874</td>\n",
       "      <td>-0.042048</td>\n",
       "      <td>49</td>\n",
       "      <td>Bad</td>\n",
       "      <td>0</td>\n",
       "      <td>0.046711</td>\n",
       "      <td>-0.188250</td>\n",
       "      <td>1</td>\n",
       "    </tr>\n",
       "    <tr>\n",
       "      <th>4</th>\n",
       "      <td>5</td>\n",
       "      <td>F</td>\n",
       "      <td>1.055354</td>\n",
       "      <td>0.465030</td>\n",
       "      <td>0.581098</td>\n",
       "      <td>0.583573</td>\n",
       "      <td>-0.699749</td>\n",
       "      <td>0.616843</td>\n",
       "      <td>0.967295</td>\n",
       "      <td>0.847431</td>\n",
       "      <td>241</td>\n",
       "      <td>Bad</td>\n",
       "      <td>0</td>\n",
       "      <td>0.049339</td>\n",
       "      <td>0.814614</td>\n",
       "      <td>1</td>\n",
       "    </tr>\n",
       "    <tr>\n",
       "      <th>5</th>\n",
       "      <td>6</td>\n",
       "      <td>M</td>\n",
       "      <td>0.516971</td>\n",
       "      <td>0.289396</td>\n",
       "      <td>0.403090</td>\n",
       "      <td>0.583573</td>\n",
       "      <td>0.328402</td>\n",
       "      <td>0.163484</td>\n",
       "      <td>-0.121190</td>\n",
       "      <td>0.171427</td>\n",
       "      <td>495</td>\n",
       "      <td>Bad</td>\n",
       "      <td>0</td>\n",
       "      <td>0.047391</td>\n",
       "      <td>-0.250145</td>\n",
       "      <td>1</td>\n",
       "    </tr>\n",
       "    <tr>\n",
       "      <th>7</th>\n",
       "      <td>8</td>\n",
       "      <td>M</td>\n",
       "      <td>1.189950</td>\n",
       "      <td>0.406485</td>\n",
       "      <td>0.872382</td>\n",
       "      <td>0.939619</td>\n",
       "      <td>0.759114</td>\n",
       "      <td>0.903971</td>\n",
       "      <td>0.967295</td>\n",
       "      <td>0.847431</td>\n",
       "      <td>184</td>\n",
       "      <td>Bad</td>\n",
       "      <td>0</td>\n",
       "      <td>0.051540</td>\n",
       "      <td>-0.763943</td>\n",
       "      <td>1</td>\n",
       "    </tr>\n",
       "    <tr>\n",
       "      <th>8</th>\n",
       "      <td>9</td>\n",
       "      <td>M</td>\n",
       "      <td>-1.501968</td>\n",
       "      <td>-1.949931</td>\n",
       "      <td>-0.745864</td>\n",
       "      <td>-1.154769</td>\n",
       "      <td>-0.838688</td>\n",
       "      <td>-1.876633</td>\n",
       "      <td>-1.209675</td>\n",
       "      <td>-0.931528</td>\n",
       "      <td>443</td>\n",
       "      <td>Bad</td>\n",
       "      <td>0</td>\n",
       "      <td>0.036357</td>\n",
       "      <td>0.598011</td>\n",
       "      <td>1</td>\n",
       "    </tr>\n",
       "    <tr>\n",
       "      <th>9</th>\n",
       "      <td>10</td>\n",
       "      <td>F</td>\n",
       "      <td>0.853460</td>\n",
       "      <td>0.025946</td>\n",
       "      <td>-0.179478</td>\n",
       "      <td>0.813955</td>\n",
       "      <td>-0.102310</td>\n",
       "      <td>-0.440995</td>\n",
       "      <td>-0.940611</td>\n",
       "      <td>0.633956</td>\n",
       "      <td>476</td>\n",
       "      <td>Bad</td>\n",
       "      <td>0</td>\n",
       "      <td>0.045656</td>\n",
       "      <td>1.185467</td>\n",
       "      <td>1</td>\n",
       "    </tr>\n",
       "    <tr>\n",
       "      <th>11</th>\n",
       "      <td>12</td>\n",
       "      <td>M</td>\n",
       "      <td>0.584268</td>\n",
       "      <td>0.713844</td>\n",
       "      <td>0.500185</td>\n",
       "      <td>0.583573</td>\n",
       "      <td>0.328402</td>\n",
       "      <td>0.465724</td>\n",
       "      <td>0.551470</td>\n",
       "      <td>0.633956</td>\n",
       "      <td>472</td>\n",
       "      <td>Bad</td>\n",
       "      <td>0</td>\n",
       "      <td>0.049272</td>\n",
       "      <td>-0.468137</td>\n",
       "      <td>1</td>\n",
       "    </tr>\n",
       "    <tr>\n",
       "      <th>17</th>\n",
       "      <td>18</td>\n",
       "      <td>M</td>\n",
       "      <td>1.189950</td>\n",
       "      <td>0.889477</td>\n",
       "      <td>0.969477</td>\n",
       "      <td>0.939619</td>\n",
       "      <td>1.592749</td>\n",
       "      <td>1.145763</td>\n",
       "      <td>1.236359</td>\n",
       "      <td>0.847431</td>\n",
       "      <td>140</td>\n",
       "      <td>Bad</td>\n",
       "      <td>0</td>\n",
       "      <td>0.053368</td>\n",
       "      <td>-1.823278</td>\n",
       "      <td>1</td>\n",
       "    </tr>\n",
       "    <tr>\n",
       "      <th>19</th>\n",
       "      <td>20</td>\n",
       "      <td>M</td>\n",
       "      <td>1.189950</td>\n",
       "      <td>0.889477</td>\n",
       "      <td>0.969477</td>\n",
       "      <td>0.939619</td>\n",
       "      <td>1.592749</td>\n",
       "      <td>1.145763</td>\n",
       "      <td>1.236359</td>\n",
       "      <td>0.847431</td>\n",
       "      <td>635</td>\n",
       "      <td>Bad</td>\n",
       "      <td>0</td>\n",
       "      <td>0.053368</td>\n",
       "      <td>-1.823278</td>\n",
       "      <td>1</td>\n",
       "    </tr>\n",
       "  </tbody>\n",
       "</table>\n",
       "</div>"
      ],
      "text/plain": [
       "    Youth ID Gender       PWS        DL        SC        RC       HMM  \\\n",
       "2          3      M  0.247779  0.377213 -0.179478  0.478853 -0.102310   \n",
       "4          5      F  1.055354  0.465030  0.581098  0.583573 -0.699749   \n",
       "5          6      M  0.516971  0.289396  0.403090  0.583573  0.328402   \n",
       "7          8      M  1.189950  0.406485  0.872382  0.939619  0.759114   \n",
       "8          9      M -1.501968 -1.949931 -0.745864 -1.154769 -0.838688   \n",
       "9         10      F  0.853460  0.025946 -0.179478  0.813955 -0.102310   \n",
       "11        12      M  0.584268  0.713844  0.500185  0.583573  0.328402   \n",
       "17        18      M  1.189950  0.889477  0.969477  0.939619  1.592749   \n",
       "19        20      M  1.189950  0.889477  0.969477  0.939619  1.592749   \n",
       "\n",
       "         WSL       CEP        LF  Days_in_Program Category  result_score  \\\n",
       "2   0.541284  0.147874 -0.042048               49      Bad             0   \n",
       "4   0.616843  0.967295  0.847431              241      Bad             0   \n",
       "5   0.163484 -0.121190  0.171427              495      Bad             0   \n",
       "7   0.903971  0.967295  0.847431              184      Bad             0   \n",
       "8  -1.876633 -1.209675 -0.931528              443      Bad             0   \n",
       "9  -0.440995 -0.940611  0.633956              476      Bad             0   \n",
       "11  0.465724  0.551470  0.633956              472      Bad             0   \n",
       "17  1.145763  1.236359  0.847431              140      Bad             0   \n",
       "19  1.145763  1.236359  0.847431              635      Bad             0   \n",
       "\n",
       "    fraud_alert     sigma  Intercept  \n",
       "2      0.046711 -0.188250          1  \n",
       "4      0.049339  0.814614          1  \n",
       "5      0.047391 -0.250145          1  \n",
       "7      0.051540 -0.763943          1  \n",
       "8      0.036357  0.598011          1  \n",
       "9      0.045656  1.185467          1  \n",
       "11     0.049272 -0.468137          1  \n",
       "17     0.053368 -1.823278          1  \n",
       "19     0.053368 -1.823278          1  "
      ]
     },
     "execution_count": 73,
     "metadata": {},
     "output_type": "execute_result"
    }
   ],
   "source": [
    "bad_peeps=df[df[\"Category\"]==\"Bad\"]\n",
    "bad_peeps"
   ]
  },
  {
   "cell_type": "code",
   "execution_count": 74,
   "id": "acf62027",
   "metadata": {
    "scrolled": true
   },
   "outputs": [
    {
     "data": {
      "image/png": "[encoded data removed]",
      "text/plain": [
       "<Figure size 640x480 with 1 Axes>"
      ]
     },
     "metadata": {},
     "output_type": "display_data"
    }
   ],
   "source": [
    "#scatter plot with trendline \n",
    "sns.regplot(x=\"fraud_alert\", y=\"Days_in_Program\",data=df, ci=None)\n",
    "plt.show()"
   ]
  },
  {
   "cell_type": "code",
   "execution_count": 75,
   "id": "4a72ba91",
   "metadata": {},
   "outputs": [
    {
     "data": {
      "text/plain": [
       "<statsmodels.regression.linear_model.RegressionResultsWrapper at 0x7fe1b266f610>"
      ]
     },
     "execution_count": 75,
     "metadata": {},
     "output_type": "execute_result"
    }
   ],
   "source": [
    "#Create model and fit\n",
    "mdl_fraud_vs_Days_in_Program=ols(\"fraud_alert~Days_in_Program\", data=df).fit()\n",
    "mdl_fraud_vs_Days_in_Program"
   ]
  },
  {
   "cell_type": "code",
   "execution_count": 76,
   "id": "f80a7503",
   "metadata": {},
   "outputs": [
    {
     "data": {
      "text/html": [
       "<div>\n",
       "<style scoped>\n",
       "    .dataframe tbody tr th:only-of-type {\n",
       "        vertical-align: middle;\n",
       "    }\n",
       "\n",
       "    .dataframe tbody tr th {\n",
       "        vertical-align: top;\n",
       "    }\n",
       "\n",
       "    .dataframe thead th {\n",
       "        text-align: right;\n",
       "    }\n",
       "</style>\n",
       "<table border=\"1\" class=\"dataframe\">\n",
       "  <thead>\n",
       "    <tr style=\"text-align: right;\">\n",
       "      <th></th>\n",
       "      <th>Days_in_Program</th>\n",
       "    </tr>\n",
       "  </thead>\n",
       "  <tbody>\n",
       "    <tr>\n",
       "      <th>0</th>\n",
       "      <td>-12</td>\n",
       "    </tr>\n",
       "    <tr>\n",
       "      <th>1</th>\n",
       "      <td>-11</td>\n",
       "    </tr>\n",
       "    <tr>\n",
       "      <th>2</th>\n",
       "      <td>-10</td>\n",
       "    </tr>\n",
       "    <tr>\n",
       "      <th>3</th>\n",
       "      <td>-9</td>\n",
       "    </tr>\n",
       "    <tr>\n",
       "      <th>4</th>\n",
       "      <td>-8</td>\n",
       "    </tr>\n",
       "  </tbody>\n",
       "</table>\n",
       "</div>"
      ],
      "text/plain": [
       "   Days_in_Program\n",
       "0              -12\n",
       "1              -11\n",
       "2              -10\n",
       "3               -9\n",
       "4               -8"
      ]
     },
     "execution_count": 76,
     "metadata": {},
     "output_type": "execute_result"
    }
   ],
   "source": [
    "##choosing explanatory variables \n",
    "explanatory_data=pd.DataFrame({\"Days_in_Program\":np.arange(-12,10)})\n",
    "explanatory_data.head()"
   ]
  },
  {
   "cell_type": "code",
   "execution_count": 77,
   "id": "042f9104",
   "metadata": {
    "scrolled": true
   },
   "outputs": [
    {
     "name": "stdout",
     "output_type": "stream",
     "text": [
      "0     0.051667\n",
      "1     0.051654\n",
      "2     0.051641\n",
      "3     0.051629\n",
      "4     0.051616\n",
      "5     0.051603\n",
      "6     0.051590\n",
      "7     0.051578\n",
      "8     0.051565\n",
      "9     0.051552\n",
      "10    0.051539\n",
      "11    0.051527\n",
      "12    0.051514\n",
      "13    0.051501\n",
      "14    0.051489\n",
      "15    0.051476\n",
      "16    0.051463\n",
      "17    0.051450\n",
      "18    0.051438\n",
      "19    0.051425\n",
      "20    0.051412\n",
      "21    0.051399\n",
      "dtype: float64\n"
     ]
    }
   ],
   "source": [
    "#making predictions\n",
    "print(mdl_fraud_vs_Days_in_Program.predict(explanatory_data))"
   ]
  },
  {
   "cell_type": "markdown",
   "id": "1f88185f",
   "metadata": {},
   "source": [
    "#### The predict function returns a Series of predictions, one for each row of the explanatory data."
   ]
  },
  {
   "cell_type": "code",
   "execution_count": 78,
   "id": "b2e0570a",
   "metadata": {
    "scrolled": true
   },
   "outputs": [
    {
     "name": "stdout",
     "output_type": "stream",
     "text": [
      "    Days_in_Program  fraud_alert\n",
      "0               -12     0.051667\n",
      "1               -11     0.051654\n",
      "2               -10     0.051641\n",
      "3                -9     0.051629\n",
      "4                -8     0.051616\n",
      "5                -7     0.051603\n",
      "6                -6     0.051590\n",
      "7                -5     0.051578\n",
      "8                -4     0.051565\n",
      "9                -3     0.051552\n",
      "10               -2     0.051539\n",
      "11               -1     0.051527\n",
      "12                0     0.051514\n",
      "13                1     0.051501\n",
      "14                2     0.051489\n",
      "15                3     0.051476\n",
      "16                4     0.051463\n",
      "17                5     0.051450\n",
      "18                6     0.051438\n",
      "19                7     0.051425\n",
      "20                8     0.051412\n",
      "21                9     0.051399\n"
     ]
    }
   ],
   "source": [
    "#create side by side analysis with explanatory data & fraud_alert predictions\n",
    "prediction_data= explanatory_data.assign(fraud_alert=mdl_fraud_vs_Days_in_Program.predict(explanatory_data))\n",
    "print(prediction_data)"
   ]
  },
  {
   "cell_type": "code",
   "execution_count": 79,
   "id": "c4586ea0",
   "metadata": {},
   "outputs": [
    {
     "data": {
      "image/png": "[encoded data removed]",
      "text/plain": [
       "<Figure size 640x480 with 1 Axes>"
      ]
     },
     "metadata": {},
     "output_type": "display_data"
    }
   ],
   "source": [
    "#visualize predictions on scatter plt with real results. \n",
    "fig=plt.figure()\n",
    "sns.regplot(x=\"fraud_alert\", y=\"Days_in_Program\",data=df, ci=None)\n",
    "sns.scatterplot(x= \"fraud_alert\", y=\"Days_in_Program\", data=prediction_data, color='red', marker='s')\n",
    "plt.show()"
   ]
  },
  {
   "cell_type": "code",
   "execution_count": 80,
   "id": "86448618",
   "metadata": {},
   "outputs": [
    {
     "name": "stdout",
     "output_type": "stream",
     "text": [
      "   Days_in_Program  fraud_alert\n",
      "0              500     0.045141\n"
     ]
    }
   ],
   "source": [
    "# Extrapolating with predictions outside of range\n",
    "small_days=pd.DataFrame({\"Days_in_Program\":[500] })\n",
    "pred_small_days=small_days.assign(fraud_alert=mdl_fraud_vs_Days_in_Program.predict(small_days))\n",
    "print(pred_small_days)"
   ]
  },
  {
   "cell_type": "code",
   "execution_count": 98,
   "id": "9d5d05a1",
   "metadata": {},
   "outputs": [
    {
     "name": "stdout",
     "output_type": "stream",
     "text": [
      "0    -0.001358\n",
      "1    -0.000305\n",
      "2    -0.004179\n",
      "3    -0.009947\n",
      "4     0.000897\n",
      "5     0.002187\n",
      "6    -0.000015\n",
      "7     0.002372\n",
      "8    -0.009510\n",
      "9     0.000210\n",
      "10   -0.002129\n",
      "11    0.003775\n",
      "12    0.006311\n",
      "13    0.004309\n",
      "14    0.005647\n",
      "15    0.003496\n",
      "16   -0.005585\n",
      "17    0.003639\n",
      "18   -0.001952\n",
      "19    0.009949\n",
      "20    0.000834\n",
      "21   -0.008643\n",
      "dtype: float64\n"
     ]
    }
   ],
   "source": [
    "## Working with Model Objects with residuals. \n",
    "## Is the model of quality? \n",
    "print(mdl_fraud_vs_Days_in_Program.resid)"
   ]
  },
  {
   "cell_type": "code",
   "execution_count": 81,
   "id": "0af19343",
   "metadata": {},
   "outputs": [
    {
     "data": {
      "text/html": [
       "<table class=\"simpletable\">\n",
       "<caption>OLS Regression Results</caption>\n",
       "<tr>\n",
       "  <th>Dep. Variable:</th>       <td>fraud_alert</td>   <th>  R-squared:         </th> <td>   0.326</td>\n",
       "</tr>\n",
       "<tr>\n",
       "  <th>Model:</th>                   <td>OLS</td>       <th>  Adj. R-squared:    </th> <td>   0.292</td>\n",
       "</tr>\n",
       "<tr>\n",
       "  <th>Method:</th>             <td>Least Squares</td>  <th>  F-statistic:       </th> <td>   9.655</td>\n",
       "</tr>\n",
       "<tr>\n",
       "  <th>Date:</th>             <td>Thu, 16 May 2024</td> <th>  Prob (F-statistic):</th>  <td>0.00555</td>\n",
       "</tr>\n",
       "<tr>\n",
       "  <th>Time:</th>                 <td>08:30:10</td>     <th>  Log-Likelihood:    </th> <td>  85.071</td>\n",
       "</tr>\n",
       "<tr>\n",
       "  <th>No. Observations:</th>      <td>    22</td>      <th>  AIC:               </th> <td>  -166.1</td>\n",
       "</tr>\n",
       "<tr>\n",
       "  <th>Df Residuals:</th>          <td>    20</td>      <th>  BIC:               </th> <td>  -164.0</td>\n",
       "</tr>\n",
       "<tr>\n",
       "  <th>Df Model:</th>              <td>     1</td>      <th>                     </th>     <td> </td>   \n",
       "</tr>\n",
       "<tr>\n",
       "  <th>Covariance Type:</th>      <td>nonrobust</td>    <th>                     </th>     <td> </td>   \n",
       "</tr>\n",
       "</table>\n",
       "<table class=\"simpletable\">\n",
       "<tr>\n",
       "         <td></td>            <th>coef</th>     <th>std err</th>      <th>t</th>      <th>P>|t|</th>  <th>[0.025</th>    <th>0.975]</th>  \n",
       "</tr>\n",
       "<tr>\n",
       "  <th>Intercept</th>       <td>    0.0515</td> <td>    0.002</td> <td>   22.846</td> <td> 0.000</td> <td>    0.047</td> <td>    0.056</td>\n",
       "</tr>\n",
       "<tr>\n",
       "  <th>Days_in_Program</th> <td>-1.275e-05</td> <td>  4.1e-06</td> <td>   -3.107</td> <td> 0.006</td> <td>-2.13e-05</td> <td>-4.19e-06</td>\n",
       "</tr>\n",
       "</table>\n",
       "<table class=\"simpletable\">\n",
       "<tr>\n",
       "  <th>Omnibus:</th>       <td> 0.775</td> <th>  Durbin-Watson:     </th> <td>   1.747</td>\n",
       "</tr>\n",
       "<tr>\n",
       "  <th>Prob(Omnibus):</th> <td> 0.679</td> <th>  Jarque-Bera (JB):  </th> <td>   0.653</td>\n",
       "</tr>\n",
       "<tr>\n",
       "  <th>Skew:</th>          <td>-0.382</td> <th>  Prob(JB):          </th> <td>   0.722</td>\n",
       "</tr>\n",
       "<tr>\n",
       "  <th>Kurtosis:</th>      <td> 2.642</td> <th>  Cond. No.          </th> <td>1.09e+03</td>\n",
       "</tr>\n",
       "</table><br/><br/>Notes:<br/>[1] Standard Errors assume that the covariance matrix of the errors is correctly specified.<br/>[2] The condition number is large, 1.09e+03. This might indicate that there are<br/>strong multicollinearity or other numerical problems."
      ],
      "text/plain": [
       "<class 'statsmodels.iolib.summary.Summary'>\n",
       "\"\"\"\n",
       "                            OLS Regression Results                            \n",
       "==============================================================================\n",
       "Dep. Variable:            fraud_alert   R-squared:                       0.326\n",
       "Model:                            OLS   Adj. R-squared:                  0.292\n",
       "Method:                 Least Squares   F-statistic:                     9.655\n",
       "Date:                Thu, 16 May 2024   Prob (F-statistic):            0.00555\n",
       "Time:                        08:30:10   Log-Likelihood:                 85.071\n",
       "No. Observations:                  22   AIC:                            -166.1\n",
       "Df Residuals:                      20   BIC:                            -164.0\n",
       "Df Model:                           1                                         \n",
       "Covariance Type:            nonrobust                                         \n",
       "===================================================================================\n",
       "                      coef    std err          t      P>|t|      [0.025      0.975]\n",
       "-----------------------------------------------------------------------------------\n",
       "Intercept           0.0515      0.002     22.846      0.000       0.047       0.056\n",
       "Days_in_Program -1.275e-05    4.1e-06     -3.107      0.006   -2.13e-05   -4.19e-06\n",
       "==============================================================================\n",
       "Omnibus:                        0.775   Durbin-Watson:                   1.747\n",
       "Prob(Omnibus):                  0.679   Jarque-Bera (JB):                0.653\n",
       "Skew:                          -0.382   Prob(JB):                        0.722\n",
       "Kurtosis:                       2.642   Cond. No.                     1.09e+03\n",
       "==============================================================================\n",
       "\n",
       "Notes:\n",
       "[1] Standard Errors assume that the covariance matrix of the errors is correctly specified.\n",
       "[2] The condition number is large, 1.09e+03. This might indicate that there are\n",
       "strong multicollinearity or other numerical problems.\n",
       "\"\"\""
      ]
     },
     "execution_count": 81,
     "metadata": {},
     "output_type": "execute_result"
    }
   ],
   "source": [
    "mdl_fraud_vs_Days_in_Program.summary()"
   ]
  },
  {
   "cell_type": "markdown",
   "id": "8865505a",
   "metadata": {},
   "source": [
    "# OLS Regression Results Explanation\n",
    "\n",
    "## Summary\n",
    "This section provides a detailed explanation of the Ordinary Least Squares (OLS) regression results for predicting the `fraud_alert` dependent variable.\n",
    "\n",
    "### Model Summary\n",
    "- **Dependent Variable**: `fraud_alert`\n",
    "- **Model**: Ordinary Least Squares (OLS)\n",
    "- **Method**: Least Squares\n",
    "- **Date**: Wed, 15 May 2024\n",
    "- **Time**: 20:29:26\n",
    "- **Number of Observations**: 22\n",
    "- **Degrees of Freedom (Residuals)**: 20\n",
    "- **Degrees of Freedom (Model)**: 1\n",
    "\n",
    "### Goodness of Fit\n",
    "- **R-squared**: 0.326\n",
    "  - This indicates that approximately 32.6% of the variability in the `fraud_alert` variable is explained by the model.\n",
    "- **Adjusted R-squared**: 0.292\n",
    "  - Adjusted for the number of predictors in the model, this value is slightly lower, indicating a moderate fit.\n",
    "- **F-statistic**: 9.655\n",
    "  - The F-statistic tests whether at least one predictor variable has a non-zero coefficient.\n",
    "- **Prob (F-statistic)**: 0.00555\n",
    "  - This p-value indicates that the overall model is statistically significant at the 0.05 significance level.\n",
    "\n",
    "### Model Coefficients\n",
    "| Variable           | Coefficient | Std. Error | t-Statistic | P-value | [0.025 | 0.975] |\n",
    "|--------------------|-------------|------------|-------------|---------|--------|--------|\n",
    "| Intercept          | 0.0515      | 0.002      | 22.846      | 0.000   | 0.047  | 0.056  |\n",
    "| Days_in_Program    | -1.275e-05  | 4.1e-06    | -3.107      | 0.006   | -2.13e-05 | -4.19e-06 |\n",
    "\n",
    "- **Intercept**: The intercept value is 0.0515, with a standard error of 0.002. This value is highly significant (p < 0.001).\n",
    "- **Days_in_Program**: The coefficient for `Days_in_Program` is -1.275e-05, with a standard error of 4.1e-06. This indicates that for each additional day in the program, the `fraud_alert` value decreases by approximately 0.00001275. This coefficient is statistically significant (p = 0.006).\n",
    "\n",
    "### Statistical Tests\n",
    "- **Omnibus Test**: 0.775 (Prob: 0.679)\n",
    "  - This test checks for skewness and kurtosis. A higher p-value indicates that the residuals are normally distributed.\n",
    "- **Durbin-Watson**: 1.747\n",
    "  - This statistic tests for autocorrelation in the residuals. A value close to 2 suggests no autocorrelation.\n",
    "- **Jarque-Bera (JB) Test**: 0.653 (Prob: 0.722)\n",
    "  - This test also checks for normality of residuals. A higher p-value supports the hypothesis that residuals are normally distributed.\n",
    "- **Skew**: -0.382\n",
    "  - Measures the asymmetry of the residuals. A value close to 0 indicates symmetry.\n",
    "- **Kurtosis**: 2.642\n",
    "  - Measures the tailedness of the residual distribution. A value close to 3 indicates a normal distribution.\n",
    "\n",
    "### Model Diagnostics\n",
    "- **AIC**: -166.1\n",
    "  - Akaike Information Criterion, used for model comparison. Lower values indicate a better fit.\n",
    "- **BIC**: -164.0\n",
    "  - Bayesian Information Criterion, similar to AIC but includes a penalty for the number of parameters. Lower values are preferred.\n",
    "- **Condition Number**: 1.09e+03\n",
    "  - Indicates potential multicollinearity. A high value (greater than 30) suggests multicollinearity issues.\n",
    "\n",
    "## Conclusion\n",
    "The OLS regression results suggest that the `Days_in_Program` variable has a statistically significant negative impact on the `fraud_alert` dependent variable. The model explains approximately 32.6% of the variability in `fraud_alert`, and the overall model is statistically significant.\n",
    "\n",
    "Further analysis and additional predictors may be needed to improve the model's explanatory power and predictive accuracy.\n"
   ]
  },
  {
   "cell_type": "code",
   "execution_count": 82,
   "id": "4ca4b82b",
   "metadata": {},
   "outputs": [
    {
     "data": {
      "text/plain": [
       "0.3255837753359106"
      ]
     },
     "execution_count": 82,
     "metadata": {},
     "output_type": "execute_result"
    }
   ],
   "source": [
    "## Quantifying model fit \n",
    "# interpretation in simple linear regression\n",
    "coeffr_determination=df[\"Days_in_Program\"].corr(df[\"fraud_alert\"])**2\n",
    "coeffr_determination"
   ]
  },
  {
   "cell_type": "code",
   "execution_count": 83,
   "id": "f8309846",
   "metadata": {},
   "outputs": [
    {
     "name": "stdout",
     "output_type": "stream",
     "text": [
      "mse: 0    -0.001358\n",
      "1    -0.000305\n",
      "2    -0.004179\n",
      "3    -0.009947\n",
      "4     0.000897\n",
      "5     0.002187\n",
      "6    -0.000015\n",
      "7     0.002372\n",
      "8    -0.009510\n",
      "9     0.000210\n",
      "10   -0.002129\n",
      "11    0.003775\n",
      "12    0.006311\n",
      "13    0.004309\n",
      "14    0.005647\n",
      "15    0.003496\n",
      "16   -0.005585\n",
      "17    0.003639\n",
      "18   -0.001952\n",
      "19    0.009949\n",
      "20    0.000834\n",
      "21   -0.008643\n",
      "dtype: float64\n"
     ]
    }
   ],
   "source": [
    "#Calculate the residuale standard error \n",
    "mse=mdl_fraud_vs_Days_in_Program.resid\n",
    "print('mse:', mse)"
   ]
  },
  {
   "cell_type": "code",
   "execution_count": 84,
   "id": "a9ab0476",
   "metadata": {},
   "outputs": [
    {
     "name": "stdout",
     "output_type": "stream",
     "text": [
      "res: 0          NaN\n",
      "1          NaN\n",
      "2          NaN\n",
      "3          NaN\n",
      "4     0.029949\n",
      "5     0.046762\n",
      "6          NaN\n",
      "7     0.048701\n",
      "8          NaN\n",
      "9     0.014494\n",
      "10         NaN\n",
      "11    0.061439\n",
      "12    0.079443\n",
      "13    0.065640\n",
      "14    0.075143\n",
      "15    0.059126\n",
      "16         NaN\n",
      "17    0.060322\n",
      "18         NaN\n",
      "19    0.099742\n",
      "20    0.028878\n",
      "21         NaN\n",
      "dtype: float64\n"
     ]
    },
    {
     "name": "stderr",
     "output_type": "stream",
     "text": [
      "/Users/oakmoreroadinc./anaconda3/lib/python3.10/site-packages/pandas/core/arraylike.py:402: RuntimeWarning: invalid value encountered in sqrt\n",
      "  result = getattr(ufunc, method)(*inputs, **kwargs)\n"
     ]
    }
   ],
   "source": [
    "rse=np.sqrt(mse)\n",
    "print('res:',rse)"
   ]
  },
  {
   "cell_type": "code",
   "execution_count": null,
   "id": "0e6a8ba0",
   "metadata": {},
   "outputs": [],
   "source": [
    "## Visualizing model fit "
   ]
  },
  {
   "cell_type": "code",
   "execution_count": 85,
   "id": "a188283f",
   "metadata": {
    "scrolled": false
   },
   "outputs": [
    {
     "data": {
      "text/plain": [
       "Text(0, 0.5, 'Residuals')"
      ]
     },
     "execution_count": 85,
     "metadata": {},
     "output_type": "execute_result"
    },
    {
     "data": {
      "image/png": "[encoded data removed]",
      "text/plain": [
       "<Figure size 640x480 with 1 Axes>"
      ]
     },
     "metadata": {},
     "output_type": "display_data"
    }
   ],
   "source": [
    "#Residual versus fitted plot\n",
    "sns.residplot(x=\"fraud_alert\", y=\"Days_in_Program\", data=df,lowess=True)\n",
    "plt.xlabel(\"Fitted values\")\n",
    "plt.ylabel(\"Residuals\")"
   ]
  },
  {
   "cell_type": "markdown",
   "id": "472a7188",
   "metadata": {},
   "source": [
    "### The plot above is a good fit becasue the residuals aprox normally distributed with a mean of \"0\".\n",
    "### In addition the lowless trend line closely follows the y=0 line, suggest the residuals are normally distributed with mean zero.\n"
   ]
  },
  {
   "cell_type": "code",
   "execution_count": 86,
   "id": "fd0233cd",
   "metadata": {},
   "outputs": [
    {
     "data": {
      "image/png": "[encoded data removed]",
      "text/plain": [
       "<Figure size 640x480 with 1 Axes>"
      ]
     },
     "metadata": {},
     "output_type": "display_data"
    }
   ],
   "source": [
    "# Creating QQ plot \n",
    "from statsmodels.api import qqplot \n",
    "qqplot(data=mdl_fraud_vs_Days_in_Program.resid, fit=True, line=\"45\")\n",
    "plt.show()"
   ]
  },
  {
   "cell_type": "markdown",
   "id": "16789103",
   "metadata": {},
   "source": [
    "### For QQQ>>> Points track around a straight line indicating a good fit."
   ]
  },
  {
   "cell_type": "code",
   "execution_count": 87,
   "id": "1ddbc28b",
   "metadata": {},
   "outputs": [],
   "source": [
    "df.to_csv(\"log_reg_end.csv\")"
   ]
  },
  {
   "cell_type": "code",
   "execution_count": null,
   "id": "fe763a8c",
   "metadata": {},
   "outputs": [],
   "source": []
  }
 ],
 "metadata": {
  "kernelspec": {
   "display_name": "Python 3",
   "language": "python",
   "name": "python3"
  },
  "language_info": {
   "codemirror_mode": {
    "name": "ipython",
    "version": 3
   },
   "file_extension": ".py",
   "mimetype": "text/x-python",
   "name": "python",
   "nbconvert_exporter": "python",
   "pygments_lexer": "ipython3",
   "version": "3.11.3 (v3.11.3:f3909b8bc8, Apr  4 2023, 20:12:10) [Clang 13.0.0 (clang-1300.0.29.30)]"
  },
  "vscode": {
   "interpreter": {
    "hash": "31f2aee4e71d21fbe5cf8b01ff0e069b9275f58929596ceb00d14d90e3e16cd6"
   }
  }
 },
 "nbformat": 4,
 "nbformat_minor": 5
}
