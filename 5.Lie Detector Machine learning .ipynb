{
 "cells": [
  {
   "cell_type": "markdown",
   "id": "c4ac92c5",
   "metadata": {},
   "source": [
    "For the machine learning stage of my project, considering the specifics of my dataset and the goals I have described, the objective should focus on effectively leveraging machine learning algorithms to improve the predictive accuracy and reliability of classifying outcomes in the lie detector test data. Here is a detailed objective suitable for this stage:\n",
    "\n",
    "### Objective for the \"Lie Detector Machine Learning\" Stage\n",
    "\n",
    "**Objective:** Employ and optimize various machine learning models to accurately predict the outcomes of lie detector tests, classifying whether participants will have a 'Good' or 'Bad' outcome based on quantitative assessments and demographic data. This stage aims to:\n",
    "\n",
    "- **Enhance Prediction Accuracy:** Utilize advanced machine learning techniques to improve the prediction of test outcomes, focusing on reducing false positives and false negatives to enhance the reliability of the program’s assessments.\n",
    "- **Model Diversity:** Explore a range of machine learning models, including Logistic Regression, Support Vector Machines (SVM), Decision Trees, and K-Nearest Neighbors (KNN), to determine the most effective approach based on the dataset's characteristics.\n",
    "- **Feature Engineering:** Refine and select the most informative features from the dataset, potentially developing new features that improve model performance through techniques like principal component analysis (PCA) or factor analysis.\n",
    "- **Model Tuning and Validation:** Implement hyperparameter tuning using methods like GridSearchCV or RandomSearchCV to find optimal model settings. Validate model performance using cross-validation to ensure robustness and prevent overfitting.\n",
    "- **Interpretability and Diagnostics:** Incorporate model interpretation techniques to understand the influence of various predictors on outcomes. Use diagnostic tools such as confusion matrices, ROC curves, and AUC scores to evaluate model performance comprehensively.\n",
    "- **Operational Integration:** Prepare the models for deployment in a real-world setting, ensuring they can run efficiently and provide actionable insights for program administrators.\n",
    "\n",
    "\n",
    "\n",
    "### Execution Strategy:\n",
    "\n",
    "- **Iterative Modeling:** Build and refine models iteratively, using training and testing splits to gauge performance and make adjustments.\n",
    "- **Parameter Optimization:** Use automated techniques for tuning the parameters of each model to optimize performance.\n",
    "- **Validation and Testing:** Employ rigorous validation strategies, including k-fold cross-validation, to ensure that the models perform well on unseen data and are not overfitted.\n",
    "\n",
    "By achieving these objectives, the machine learning stage of my project will significantly contribute to the effectiveness and efficiency of the lie detector tests, providing reliable, data-driven insights for enhancing program outcomes."
   ]
  },
  {
   "cell_type": "code",
   "execution_count": 1,
   "id": "d7697234",
   "metadata": {},
   "outputs": [],
   "source": [
    "# Pandas is a software library written for the Python programming language for data manipulation and analysis.\n",
    "import pandas as pd\n",
    "# NumPy is a library for the Python programming language, adding support for large, multi-dimensional arrays and matrices, along with a large collection of high-level mathematical functions to operate on these arrays\n",
    "import numpy as np\n",
    "# Matplotlib is a plotting library for python and pyplot gives us a MatLab like plotting framework. We will use this in our plotter function to plot data.\n",
    "import matplotlib.pyplot as plt\n",
    "#Seaborn is a Python data visualization library based on matplotlib. It provides a high-level interface for drawing attractive and informative statistical graphics\n",
    "import seaborn as sns\n",
    "# Preprocessing allows us to standarsize our data\n",
    "from sklearn import preprocessing\n",
    "# Allows us to split our data into training and testing data\n",
    "from sklearn.model_selection import train_test_split\n",
    "# Allows us to test parameters of classification algorithms and find the best one\n",
    "from sklearn.model_selection import GridSearchCV\n",
    "# Logistic Regression classification algorithm\n",
    "from sklearn.linear_model import LogisticRegression\n",
    "# Support Vector Machine classification algorithm\n",
    "from sklearn.svm import SVC\n",
    "# Decision Tree classification algorithm\n",
    "from sklearn import metrics\n",
    "import matplotlib.pyplot as plt\n",
    "from sklearn.tree import DecisionTreeClassifier\n",
    "# K Nearest Neighbors classification algorithm\n",
    "from sklearn.neighbors import KNeighborsClassifier"
   ]
  },
  {
   "cell_type": "code",
   "execution_count": 2,
   "id": "0a31ce60",
   "metadata": {},
   "outputs": [],
   "source": [
    "df=pd.read_csv(\"/Users/oakmoreroadinc./Desktop/Data Science /Portfolio Data Science /simple_lin_log_reg.csv\",index_col=0)"
   ]
  },
  {
   "cell_type": "code",
   "execution_count": 3,
   "id": "cf141006",
   "metadata": {},
   "outputs": [
    {
     "data": {
      "text/html": [
       "<div>\n",
       "<style scoped>\n",
       "    .dataframe tbody tr th:only-of-type {\n",
       "        vertical-align: middle;\n",
       "    }\n",
       "\n",
       "    .dataframe tbody tr th {\n",
       "        vertical-align: top;\n",
       "    }\n",
       "\n",
       "    .dataframe thead th {\n",
       "        text-align: right;\n",
       "    }\n",
       "</style>\n",
       "<table border=\"1\" class=\"dataframe\">\n",
       "  <thead>\n",
       "    <tr style=\"text-align: right;\">\n",
       "      <th></th>\n",
       "      <th>Youth ID</th>\n",
       "      <th>gender</th>\n",
       "      <th>PWS</th>\n",
       "      <th>DL</th>\n",
       "      <th>SC</th>\n",
       "      <th>RC</th>\n",
       "      <th>HMM</th>\n",
       "      <th>WSL</th>\n",
       "      <th>CEP</th>\n",
       "      <th>LF</th>\n",
       "      <th>grand_total</th>\n",
       "      <th>days_spent</th>\n",
       "      <th>Category</th>\n",
       "      <th>result_score</th>\n",
       "      <th>fraud_alert</th>\n",
       "      <th>row_std</th>\n",
       "    </tr>\n",
       "  </thead>\n",
       "  <tbody>\n",
       "    <tr>\n",
       "      <th>0</th>\n",
       "      <td>1</td>\n",
       "      <td>M</td>\n",
       "      <td>3.8</td>\n",
       "      <td>4.47</td>\n",
       "      <td>4.41</td>\n",
       "      <td>4.33</td>\n",
       "      <td>3.96</td>\n",
       "      <td>4.10</td>\n",
       "      <td>5.00</td>\n",
       "      <td>5.00</td>\n",
       "      <td>35.07</td>\n",
       "      <td>264</td>\n",
       "      <td>Good</td>\n",
       "      <td>1</td>\n",
       "      <td>0.046791</td>\n",
       "      <td>0.442620</td>\n",
       "    </tr>\n",
       "    <tr>\n",
       "      <th>1</th>\n",
       "      <td>2</td>\n",
       "      <td>M</td>\n",
       "      <td>4.0</td>\n",
       "      <td>4.41</td>\n",
       "      <td>4.53</td>\n",
       "      <td>4.78</td>\n",
       "      <td>3.70</td>\n",
       "      <td>4.40</td>\n",
       "      <td>4.10</td>\n",
       "      <td>4.00</td>\n",
       "      <td>33.92</td>\n",
       "      <td>467</td>\n",
       "      <td>Good</td>\n",
       "      <td>1</td>\n",
       "      <td>0.045256</td>\n",
       "      <td>0.349816</td>\n",
       "    </tr>\n",
       "    <tr>\n",
       "      <th>2</th>\n",
       "      <td>3</td>\n",
       "      <td>M</td>\n",
       "      <td>4.3</td>\n",
       "      <td>4.65</td>\n",
       "      <td>4.29</td>\n",
       "      <td>4.78</td>\n",
       "      <td>3.78</td>\n",
       "      <td>4.60</td>\n",
       "      <td>4.11</td>\n",
       "      <td>4.50</td>\n",
       "      <td>35.01</td>\n",
       "      <td>49</td>\n",
       "      <td>Bad</td>\n",
       "      <td>0</td>\n",
       "      <td>0.046711</td>\n",
       "      <td>0.325793</td>\n",
       "    </tr>\n",
       "    <tr>\n",
       "      <th>4</th>\n",
       "      <td>5</td>\n",
       "      <td>F</td>\n",
       "      <td>4.9</td>\n",
       "      <td>4.71</td>\n",
       "      <td>4.76</td>\n",
       "      <td>4.83</td>\n",
       "      <td>3.35</td>\n",
       "      <td>4.65</td>\n",
       "      <td>4.78</td>\n",
       "      <td>5.00</td>\n",
       "      <td>36.98</td>\n",
       "      <td>241</td>\n",
       "      <td>Bad</td>\n",
       "      <td>0</td>\n",
       "      <td>0.049339</td>\n",
       "      <td>0.525622</td>\n",
       "    </tr>\n",
       "    <tr>\n",
       "      <th>5</th>\n",
       "      <td>6</td>\n",
       "      <td>M</td>\n",
       "      <td>4.5</td>\n",
       "      <td>4.59</td>\n",
       "      <td>4.65</td>\n",
       "      <td>4.83</td>\n",
       "      <td>4.09</td>\n",
       "      <td>4.35</td>\n",
       "      <td>3.89</td>\n",
       "      <td>4.62</td>\n",
       "      <td>35.52</td>\n",
       "      <td>495</td>\n",
       "      <td>Bad</td>\n",
       "      <td>0</td>\n",
       "      <td>0.047391</td>\n",
       "      <td>0.313460</td>\n",
       "    </tr>\n",
       "  </tbody>\n",
       "</table>\n",
       "</div>"
      ],
      "text/plain": [
       "   Youth ID gender  PWS    DL    SC    RC   HMM   WSL   CEP    LF  \\\n",
       "0         1      M  3.8  4.47  4.41  4.33  3.96  4.10  5.00  5.00   \n",
       "1         2      M  4.0  4.41  4.53  4.78  3.70  4.40  4.10  4.00   \n",
       "2         3      M  4.3  4.65  4.29  4.78  3.78  4.60  4.11  4.50   \n",
       "4         5      F  4.9  4.71  4.76  4.83  3.35  4.65  4.78  5.00   \n",
       "5         6      M  4.5  4.59  4.65  4.83  4.09  4.35  3.89  4.62   \n",
       "\n",
       "   grand_total  days_spent Category  result_score  fraud_alert   row_std  \n",
       "0        35.07         264     Good             1     0.046791  0.442620  \n",
       "1        33.92         467     Good             1     0.045256  0.349816  \n",
       "2        35.01          49      Bad             0     0.046711  0.325793  \n",
       "4        36.98         241      Bad             0     0.049339  0.525622  \n",
       "5        35.52         495      Bad             0     0.047391  0.313460  "
      ]
     },
     "execution_count": 3,
     "metadata": {},
     "output_type": "execute_result"
    }
   ],
   "source": [
    "df.head()"
   ]
  },
  {
   "cell_type": "markdown",
   "id": "9578902b",
   "metadata": {},
   "source": [
    "In this Python script, we start by initializing a pandas DataFrame named `my_data`. Next, we define a function called `generate_new_data()` that accepts a parameter `x`, doubles it, and then adds one to produce a new value.\n",
    "\n",
    "We apply this transformation to each element in `my_data` using the `apply()` method, resulting in a new DataFrame named `new_data` that contains the transformed values.\n",
    "\n",
    "Following this, we utilize the `np.tile()` function from NumPy to replicate `new_data` ten times, creating an expanded array of data. This array is then converted back into a pandas DataFrame using the `pd.DataFrame()` constructor.\n",
    "\n",
    "The final DataFrame displays 30 rows and 2 columns, representing the replicated data. Each value in this DataFrame is derived by applying the `generate_new_data()` function to the corresponding entry in the original `my_data`.\n"
   ]
  },
  {
   "cell_type": "code",
   "execution_count": 4,
   "id": "97f06cd7",
   "metadata": {},
   "outputs": [
    {
     "name": "stdout",
     "output_type": "stream",
     "text": [
      "There are 160 observations in the inflated lie detector dataset.\n",
      "There are 16 variables in the dataset.\n"
     ]
    }
   ],
   "source": [
    "import random\n",
    "\n",
    "n_replicas = 10\n",
    "\n",
    "def generate_new_data(x):\n",
    "    if isinstance(x, (int, float)):\n",
    "        # Generate a random number between x and x + 1\n",
    "        return random.uniform(x, x + 1)\n",
    "    elif isinstance(x, str):\n",
    "        # Return the original value\n",
    "        return x\n",
    "    else:\n",
    "        # Randomly select a value from the unique values in the column\n",
    "        unique_values = x.dropna().unique()\n",
    "        if len(unique_values) == 0:\n",
    "            return x\n",
    "        else:\n",
    "            return random.choice(unique_values)\n",
    "\n",
    "# Apply the function to each element in the DataFrame\n",
    "new_data = df.applymap(generate_new_data)\n",
    "\n",
    "# Randomly select rows from the new DataFrame and repeat them\n",
    "indices = np.random.choice(len(new_data), len(new_data) * n_replicas)\n",
    "big_raw_data = new_data.iloc[indices].reset_index(drop=True)\n",
    "\n",
    "\n",
    "# Print the inflated DataFrame\n",
    "print(\"There are \" + str(len(big_raw_data)) + \" observations in the inflated lie detector dataset.\")\n",
    "print(\"There are \" + str(len(big_raw_data.columns)) + \" variables in the dataset.\")"
   ]
  },
  {
   "cell_type": "code",
   "execution_count": 5,
   "id": "e0c5a0f9",
   "metadata": {},
   "outputs": [
    {
     "data": {
      "text/html": [
       "<div>\n",
       "<style scoped>\n",
       "    .dataframe tbody tr th:only-of-type {\n",
       "        vertical-align: middle;\n",
       "    }\n",
       "\n",
       "    .dataframe tbody tr th {\n",
       "        vertical-align: top;\n",
       "    }\n",
       "\n",
       "    .dataframe thead th {\n",
       "        text-align: right;\n",
       "    }\n",
       "</style>\n",
       "<table border=\"1\" class=\"dataframe\">\n",
       "  <thead>\n",
       "    <tr style=\"text-align: right;\">\n",
       "      <th></th>\n",
       "      <th>Youth ID</th>\n",
       "      <th>gender</th>\n",
       "      <th>PWS</th>\n",
       "      <th>DL</th>\n",
       "      <th>SC</th>\n",
       "      <th>RC</th>\n",
       "      <th>HMM</th>\n",
       "      <th>WSL</th>\n",
       "      <th>CEP</th>\n",
       "      <th>LF</th>\n",
       "      <th>grand_total</th>\n",
       "      <th>days_spent</th>\n",
       "      <th>Category</th>\n",
       "      <th>result_score</th>\n",
       "      <th>fraud_alert</th>\n",
       "      <th>row_std</th>\n",
       "    </tr>\n",
       "  </thead>\n",
       "  <tbody>\n",
       "    <tr>\n",
       "      <th>0</th>\n",
       "      <td>19.776368</td>\n",
       "      <td>F</td>\n",
       "      <td>3.668208</td>\n",
       "      <td>4.809485</td>\n",
       "      <td>5.591675</td>\n",
       "      <td>5.250800</td>\n",
       "      <td>4.778485</td>\n",
       "      <td>5.209933</td>\n",
       "      <td>4.290064</td>\n",
       "      <td>5.263411</td>\n",
       "      <td>35.244429</td>\n",
       "      <td>253.343500</td>\n",
       "      <td>Good</td>\n",
       "      <td>1.430519</td>\n",
       "      <td>0.531826</td>\n",
       "      <td>1.179465</td>\n",
       "    </tr>\n",
       "    <tr>\n",
       "      <th>1</th>\n",
       "      <td>11.669783</td>\n",
       "      <td>M</td>\n",
       "      <td>3.463779</td>\n",
       "      <td>4.486738</td>\n",
       "      <td>4.840462</td>\n",
       "      <td>3.864121</td>\n",
       "      <td>3.882074</td>\n",
       "      <td>4.045802</td>\n",
       "      <td>3.733794</td>\n",
       "      <td>4.926509</td>\n",
       "      <td>30.379852</td>\n",
       "      <td>708.884498</td>\n",
       "      <td>Good</td>\n",
       "      <td>1.171892</td>\n",
       "      <td>1.009901</td>\n",
       "      <td>1.083644</td>\n",
       "    </tr>\n",
       "    <tr>\n",
       "      <th>2</th>\n",
       "      <td>3.126374</td>\n",
       "      <td>M</td>\n",
       "      <td>4.409367</td>\n",
       "      <td>5.269952</td>\n",
       "      <td>4.823921</td>\n",
       "      <td>5.385812</td>\n",
       "      <td>4.253616</td>\n",
       "      <td>5.194477</td>\n",
       "      <td>4.651426</td>\n",
       "      <td>5.445488</td>\n",
       "      <td>35.564033</td>\n",
       "      <td>49.945286</td>\n",
       "      <td>Bad</td>\n",
       "      <td>0.001376</td>\n",
       "      <td>0.115445</td>\n",
       "      <td>1.005675</td>\n",
       "    </tr>\n",
       "    <tr>\n",
       "      <th>3</th>\n",
       "      <td>10.761903</td>\n",
       "      <td>F</td>\n",
       "      <td>4.792631</td>\n",
       "      <td>4.518274</td>\n",
       "      <td>4.469291</td>\n",
       "      <td>5.610923</td>\n",
       "      <td>4.115852</td>\n",
       "      <td>4.840002</td>\n",
       "      <td>3.700324</td>\n",
       "      <td>4.960490</td>\n",
       "      <td>34.509112</td>\n",
       "      <td>476.163571</td>\n",
       "      <td>Bad</td>\n",
       "      <td>0.577482</td>\n",
       "      <td>0.526432</td>\n",
       "      <td>1.078606</td>\n",
       "    </tr>\n",
       "    <tr>\n",
       "      <th>4</th>\n",
       "      <td>21.854005</td>\n",
       "      <td>M</td>\n",
       "      <td>3.648190</td>\n",
       "      <td>5.109006</td>\n",
       "      <td>4.323521</td>\n",
       "      <td>4.346811</td>\n",
       "      <td>3.687732</td>\n",
       "      <td>4.905294</td>\n",
       "      <td>4.373738</td>\n",
       "      <td>4.803498</td>\n",
       "      <td>31.263277</td>\n",
       "      <td>885.256608</td>\n",
       "      <td>Good</td>\n",
       "      <td>1.492481</td>\n",
       "      <td>0.298744</td>\n",
       "      <td>0.641813</td>\n",
       "    </tr>\n",
       "  </tbody>\n",
       "</table>\n",
       "</div>"
      ],
      "text/plain": [
       "    Youth ID gender       PWS        DL        SC        RC       HMM  \\\n",
       "0  19.776368      F  3.668208  4.809485  5.591675  5.250800  4.778485   \n",
       "1  11.669783      M  3.463779  4.486738  4.840462  3.864121  3.882074   \n",
       "2   3.126374      M  4.409367  5.269952  4.823921  5.385812  4.253616   \n",
       "3  10.761903      F  4.792631  4.518274  4.469291  5.610923  4.115852   \n",
       "4  21.854005      M  3.648190  5.109006  4.323521  4.346811  3.687732   \n",
       "\n",
       "        WSL       CEP        LF  grand_total  days_spent Category  \\\n",
       "0  5.209933  4.290064  5.263411    35.244429  253.343500     Good   \n",
       "1  4.045802  3.733794  4.926509    30.379852  708.884498     Good   \n",
       "2  5.194477  4.651426  5.445488    35.564033   49.945286      Bad   \n",
       "3  4.840002  3.700324  4.960490    34.509112  476.163571      Bad   \n",
       "4  4.905294  4.373738  4.803498    31.263277  885.256608     Good   \n",
       "\n",
       "   result_score  fraud_alert   row_std  \n",
       "0      1.430519     0.531826  1.179465  \n",
       "1      1.171892     1.009901  1.083644  \n",
       "2      0.001376     0.115445  1.005675  \n",
       "3      0.577482     0.526432  1.078606  \n",
       "4      1.492481     0.298744  0.641813  "
      ]
     },
     "execution_count": 5,
     "metadata": {},
     "output_type": "execute_result"
    }
   ],
   "source": [
    "big_raw_data.head()"
   ]
  },
  {
   "cell_type": "code",
   "execution_count": 6,
   "id": "e32ab537",
   "metadata": {},
   "outputs": [
    {
     "data": {
      "text/plain": [
       "Index(['Youth ID', 'gender', 'PWS', 'DL', 'SC', 'RC', 'HMM', 'WSL', 'CEP',\n",
       "       'LF', 'grand_total', 'days_spent', 'Category', 'result_score',\n",
       "       'fraud_alert', 'row_std'],\n",
       "      dtype='object')"
      ]
     },
     "execution_count": 6,
     "metadata": {},
     "output_type": "execute_result"
    }
   ],
   "source": [
    "big_raw_data.columns"
   ]
  },
  {
   "cell_type": "code",
   "execution_count": 7,
   "id": "922178f9",
   "metadata": {},
   "outputs": [],
   "source": [
    "import matplotlib.pyplot as plt\n",
    "import seaborn as sns\n",
    "from sklearn.metrics import confusion_matrix\n",
    "\n",
    "def plot_confusion_matrix(y_true, y_pred):\n",
    "    \"\"\"\n",
    "    This function plots the confusion matrix.\n",
    "    Parameters:\n",
    "        y_true: array-like of true labels\n",
    "        y_pred: array-like of predicted labels\n",
    "    \"\"\"\n",
    "    cm = confusion_matrix(y_true, y_pred)\n",
    "    fig, ax = plt.subplots()\n",
    "    sns.heatmap(cm, annot=True, fmt='d', ax=ax, cmap='Blues')  # 'fmt' is added to format numbers as integers in annotation\n",
    "    ax.set_xlabel('Predicted labels')\n",
    "    ax.set_ylabel('True labels')\n",
    "    ax.set_title('Confusion Matrix')\n",
    "    ax.xaxis.set_ticklabels(['Bad (0)', 'Good (1)'])  # Ensure labels order matches the confusion matrix\n",
    "    ax.yaxis.set_ticklabels(['Bad (0)', 'Good (1)'])\n",
    "    plt.show()\n",
    "\n",
    "# Example usage:\n",
    "# plot_confusion_matrix(actual_labels, predicted_labels)\n"
   ]
  },
  {
   "cell_type": "code",
   "execution_count": 8,
   "id": "f09d843e",
   "metadata": {},
   "outputs": [
    {
     "name": "stdout",
     "output_type": "stream",
     "text": [
      "    Youth ID gender       PWS        DL        SC        RC       HMM  \\\n",
      "0  19.776368      F  3.668208  4.809485  5.591675  5.250800  4.778485   \n",
      "1  11.669783      M  3.463779  4.486738  4.840462  3.864121  3.882074   \n",
      "2   3.126374      M  4.409367  5.269952  4.823921  5.385812  4.253616   \n",
      "3  10.761903      F  4.792631  4.518274  4.469291  5.610923  4.115852   \n",
      "4  21.854005      M  3.648190  5.109006  4.323521  4.346811  3.687732   \n",
      "\n",
      "        WSL       CEP        LF  grand_total  days_spent Category  \\\n",
      "0  5.209933  4.290064  5.263411    35.244429  253.343500     Good   \n",
      "1  4.045802  3.733794  4.926509    30.379852  708.884498     Good   \n",
      "2  5.194477  4.651426  5.445488    35.564033   49.945286      Bad   \n",
      "3  4.840002  3.700324  4.960490    34.509112  476.163571      Bad   \n",
      "4  4.905294  4.373738  4.803498    31.263277  885.256608     Good   \n",
      "\n",
      "   result_score  fraud_alert   row_std  Class  Sex  \n",
      "0      1.430519     0.531826  1.179465      1    0  \n",
      "1      1.171892     1.009901  1.083644      1    1  \n",
      "2      0.001376     0.115445  1.005675      0    1  \n",
      "3      0.577482     0.526432  1.078606      0    0  \n",
      "4      1.492481     0.298744  0.641813      1    1  \n"
     ]
    }
   ],
   "source": [
    "import pandas as pd\n",
    "\n",
    "# Example DataFrame loading (ensure to load your actual data)\n",
    "# big_raw_data = pd.read_csv(\"path_to_your_data.csv\")\n",
    "\n",
    "# Replace 'Category' labels\n",
    "class_replace_values = {'Good': 1, 'Bad': 0}\n",
    "big_raw_data['Class'] = big_raw_data['Category'].replace(class_replace_values)\n",
    "\n",
    "# Replace 'gender' labels\n",
    "sex_replace_values = {'M': 1, 'F': 0}\n",
    "big_raw_data['Sex'] = big_raw_data['gender'].replace(sex_replace_values)\n",
    "\n",
    "# Display the first few rows to confirm changes\n",
    "print(big_raw_data.head())\n"
   ]
  },
  {
   "cell_type": "code",
   "execution_count": 9,
   "id": "be0e504f",
   "metadata": {},
   "outputs": [
    {
     "data": {
      "text/plain": [
       "array([1, 1, 0, 0, 1, 1, 1, 1, 1, 1, 1, 1, 0, 1, 1, 1, 1, 1, 0, 1, 0, 0,\n",
       "       1, 0, 1, 1, 0, 1, 0, 0, 0, 0, 0, 1, 0, 1, 1, 0, 0, 0, 1, 1, 1, 1,\n",
       "       1, 1, 0, 1, 1, 1, 1, 1, 1, 1, 1, 0, 0, 0, 0, 0, 0, 0, 1, 1, 1, 1,\n",
       "       1, 1, 1, 0, 0, 0, 1, 0, 1, 1, 1, 0, 1, 1, 1, 0, 0, 1, 0, 1, 0, 1,\n",
       "       0, 1, 1, 1, 1, 0, 1, 0, 1, 0, 0, 1, 1, 1, 1, 1, 0, 0, 0, 0, 0, 0,\n",
       "       0, 0, 1, 0, 1, 1, 1, 1, 0, 1, 0, 0, 0, 1, 0, 0, 1, 1, 0, 1, 1, 0,\n",
       "       0, 1, 1, 1, 1, 1, 0, 0, 0, 0, 1, 1, 1, 1, 1, 1, 1, 1, 0, 0, 1, 1,\n",
       "       1, 1, 1, 1, 0, 0])"
      ]
     },
     "execution_count": 9,
     "metadata": {},
     "output_type": "execute_result"
    }
   ],
   "source": [
    "Y=big_raw_data['Class'].to_numpy()\n",
    "Y"
   ]
  },
  {
   "cell_type": "code",
   "execution_count": 10,
   "id": "16801003",
   "metadata": {},
   "outputs": [
    {
     "data": {
      "text/plain": [
       "Index(['Youth ID', 'gender', 'PWS', 'DL', 'SC', 'RC', 'HMM', 'WSL', 'CEP',\n",
       "       'LF', 'grand_total', 'days_spent', 'Category', 'result_score',\n",
       "       'fraud_alert', 'row_std', 'Class', 'Sex'],\n",
       "      dtype='object')"
      ]
     },
     "execution_count": 10,
     "metadata": {},
     "output_type": "execute_result"
    }
   ],
   "source": [
    "big_raw_data.columns"
   ]
  },
  {
   "cell_type": "code",
   "execution_count": 11,
   "id": "643dc546",
   "metadata": {},
   "outputs": [
    {
     "name": "stdout",
     "output_type": "stream",
     "text": [
      "Data types before any transformation:\n",
      " Youth ID        float64\n",
      "gender           object\n",
      "PWS             float64\n",
      "DL              float64\n",
      "SC              float64\n",
      "RC              float64\n",
      "HMM             float64\n",
      "WSL             float64\n",
      "CEP             float64\n",
      "LF              float64\n",
      "grand_total     float64\n",
      "days_spent      float64\n",
      "Category         object\n",
      "result_score    float64\n",
      "fraud_alert     float64\n",
      "row_std         float64\n",
      "Class             int64\n",
      "Sex               int64\n",
      "dtype: object\n",
      "First few rows of scaled features:\n",
      " [[-1.4832397   0.03587722  0.14578406]\n",
      " [ 0.67419986 -1.75251656  1.92465771]\n",
      " [ 0.67419986  0.15337498 -1.40353125]\n",
      " [-1.4832397  -0.23445172  0.12571252]\n",
      " [ 0.67419986 -1.42773791 -0.7214932 ]\n",
      " [ 0.67419986 -0.74262862  0.97768253]\n",
      " [ 0.67419986 -1.42773791 -0.7214932 ]\n",
      " [ 0.67419986  0.29628002 -1.53721334]\n",
      " [ 0.67419986 -1.09878388 -0.27484501]\n",
      " [ 0.67419986 -1.09878388 -0.27484501]\n",
      " [ 0.67419986 -1.75251656  1.92465771]\n",
      " [ 0.67419986 -0.74262862  0.97768253]\n",
      " [-1.4832397  -0.23445172  0.12571252]\n",
      " [ 0.67419986 -1.09878388 -0.27484501]]\n"
     ]
    }
   ],
   "source": [
    "import pandas as pd  # Ensures pandas is imported\n",
    "from sklearn.preprocessing import StandardScaler  # Importing the StandardScaler class\n",
    "\n",
    "# Assuming big_raw_data is already loaded and is a pandas DataFrame\n",
    "print(\"Data types before any transformation:\\n\", big_raw_data.dtypes)\n",
    "\n",
    "# Define features to be used in the model\n",
    "features = ['Sex', 'grand_total', 'fraud_alert']\n",
    "\n",
    "\n",
    "# Extract features for X\n",
    "X = big_raw_data[features].values\n",
    "\n",
    "# Scale the features\n",
    "scaler = StandardScaler()\n",
    "X_scaled = scaler.fit_transform(X)\n",
    "\n",
    "# Print the first few rows to check the transformation\n",
    "print(\"First few rows of scaled features:\\n\", X_scaled[:14])\n",
    "\n",
    "# Set up the target variable Y\n",
    "Y = big_raw_data['Class'].values  \n"
   ]
  },
  {
   "cell_type": "code",
   "execution_count": 12,
   "id": "d47c674f",
   "metadata": {},
   "outputs": [
    {
     "name": "stdout",
     "output_type": "stream",
     "text": [
      "Train set: (128, 3) (128,)\n",
      "Test set: (32, 3) (32,)\n"
     ]
    }
   ],
   "source": [
    "from sklearn.model_selection import train_test_split\n",
    "X_train, X_test, Y_train, Y_test = train_test_split(X, Y, test_size=0.2, random_state=2)\n",
    "print ('Train set:', X_train.shape,  Y_train.shape)\n",
    "print ('Test set:', X_test.shape,  Y_test.shape)\n",
    "\n"
   ]
  },
  {
   "cell_type": "code",
   "execution_count": 13,
   "id": "87d41bdd",
   "metadata": {},
   "outputs": [
    {
     "data": {
      "text/plain": [
       "(32,)"
      ]
     },
     "execution_count": 13,
     "metadata": {},
     "output_type": "execute_result"
    }
   ],
   "source": [
    "Y_test.shape"
   ]
  },
  {
   "cell_type": "markdown",
   "id": "fd6fb0bf",
   "metadata": {},
   "source": [
    "###### Create a logistic regression object then create a GridSearchCV object logreg_cv with cv = 10. Fit the object to find the best parameters from the dictionary parameters."
   ]
  },
  {
   "cell_type": "code",
   "execution_count": 16,
   "id": "ae42730e",
   "metadata": {},
   "outputs": [
    {
     "name": "stdout",
     "output_type": "stream",
     "text": [
      "Best parameters found:  {'C': 1, 'penalty': 'l2', 'solver': 'lbfgs'}\n",
      "Best cross-validation accuracy: 0.70\n"
     ]
    }
   ],
   "source": [
    "from sklearn.linear_model import LogisticRegression\n",
    "from sklearn.model_selection import GridSearchCV\n",
    "\n",
    "# Define the logistic regression model\n",
    "lr = LogisticRegression(max_iter=1000)  # Increase max_iter if convergence issues occur\n",
    "\n",
    "# Define the parameter grid\n",
    "parameters = {\n",
    "    'C': [0.01, 0.1, 1],  # Regularization strengths\n",
    "    'penalty': ['l2'],    # L2 regularization\n",
    "    'solver': ['lbfgs']   # Solver compatible with L2 penalty\n",
    "}\n",
    "\n",
    "# Initialize GridSearchCV with 10-fold cross-validation\n",
    "grid_search = GridSearchCV(lr, parameters, cv=10, scoring='accuracy')  # Optionally define a scoring metric\n",
    "\n",
    "# Fit GridSearchCV to the training data\n",
    "logreg_cv = grid_search.fit(X_train, Y_train)\n",
    "\n",
    "# Output the best parameters and the best score\n",
    "print(\"Best parameters found: \", logreg_cv.best_params_)\n",
    "print(\"Best cross-validation accuracy: {:.2f}\".format(logreg_cv.best_score_))\n"
   ]
  },
  {
   "cell_type": "code",
   "execution_count": 17,
   "id": "9ae0e832",
   "metadata": {},
   "outputs": [
    {
     "data": {
      "image/png": "[encoded data removed]",
      "text/plain": [
       "<Figure size 640x480 with 2 Axes>"
      ]
     },
     "metadata": {},
     "output_type": "display_data"
    }
   ],
   "source": [
    "#look at the confusion metrix\n",
    "yhat=logreg_cv.predict(X_test)\n",
    "plot_confusion_matrix(Y_test,yhat)\n"
   ]
  },
  {
   "cell_type": "markdown",
   "id": "e5cbfe7c",
   "metadata": {},
   "source": [
    "### Confusion Matrix Analysis\n",
    "\n",
    "This confusion matrix provides a detailed look at the predictions made by a classifier, categorizing applicants into 'Bad (0)' and 'Good (1)' outcomes. The matrix includes a total of 32 predictions (2 + 6 + 3 + 21 = 32 applicants).\n",
    "\n",
    "**Matrix Details:**\n",
    "- **True Negatives (TN):** The classifier correctly predicted 6 applicants as 'Bad (0)'. These true negatives represent instances where both the actual and predicted outcomes were negative, demonstrating the classifier's effectiveness in identifying applicants who did not have a successful outcome in the program.\n",
    "- **False Positives (FP):** There were 2 instances where the classifier incorrectly predicted 'Good (1)' for applicants who were actually 'Bad (0)'. These are false positives, indicating errors in predicting negative outcomes.\n",
    "- **False Negatives (FN):** There were 3 cases where the classifier incorrectly predicted 'Bad (0)' for applicants who were actually 'Good (1)'. These are false negatives, showing areas where the model failed to recognize positive outcomes.\n",
    "- **True Positives (TP):** The classifier correctly identified 21 applicants as 'Good (1)'. These true positives confirm the classifier's ability to accurately predict applicants who had a positive experience in the program.\n",
    "\n",
    "**Summary:**\n",
    "The classifier performed with a high level of accuracy, correctly predicting a majority of the outcomes. However, the presence of 2 false positives and 3 false negatives highlights areas for potential improvement in the model’s predictive accuracy. Overall, the classifier was effective in distinguishing between 'Bad' and 'Good' outcomes for most of the dataset.\n"
   ]
  },
  {
   "cell_type": "code",
   "execution_count": 163,
   "id": "63efed27",
   "metadata": {
    "scrolled": false
   },
   "outputs": [
    {
     "data": {
      "text/plain": [
       "array([[0.29175994, 0.70824006],\n",
       "       [0.06977517, 0.93022483],\n",
       "       [0.64819021, 0.35180979],\n",
       "       [0.13756663, 0.86243337],\n",
       "       [0.23742176, 0.76257824],\n",
       "       [0.23742176, 0.76257824],\n",
       "       [0.0761595 , 0.9238405 ],\n",
       "       [0.1644478 , 0.8355522 ],\n",
       "       [0.13756663, 0.86243337],\n",
       "       [0.87735957, 0.12264043],\n",
       "       [0.59601856, 0.40398144],\n",
       "       [0.0761595 , 0.9238405 ],\n",
       "       [0.59601856, 0.40398144],\n",
       "       [0.59601856, 0.40398144],\n",
       "       [0.87735957, 0.12264043],\n",
       "       [0.23742176, 0.76257824],\n",
       "       [0.0761595 , 0.9238405 ],\n",
       "       [0.0761595 , 0.9238405 ],\n",
       "       [0.42348549, 0.57651451],\n",
       "       [0.13756663, 0.86243337],\n",
       "       [0.64819021, 0.35180979],\n",
       "       [0.1644478 , 0.8355522 ],\n",
       "       [0.64819021, 0.35180979],\n",
       "       [0.87738493, 0.12261507],\n",
       "       [0.1644478 , 0.8355522 ],\n",
       "       [0.59601856, 0.40398144],\n",
       "       [0.6000016 , 0.3999984 ],\n",
       "       [0.13756663, 0.86243337],\n",
       "       [0.42200927, 0.57799073],\n",
       "       [0.87738493, 0.12261507],\n",
       "       [0.23742176, 0.76257824],\n",
       "       [0.42200927, 0.57799073]])"
      ]
     },
     "execution_count": 163,
     "metadata": {},
     "output_type": "execute_result"
    }
   ],
   "source": [
    "#predict_proba returns estimates for all classes, ordered by the label of classes. \n",
    "#So, the first column is the probability of class 0, P(Y=0|X), \n",
    "#and second column is probability of class 1, P(Y=1|X):\n",
    "LR = LogisticRegression(C=0.01, solver='lbfgs').fit(X_train,Y_train)\n",
    "yhat_prob = logreg_cv.predict_proba(X_test)\n",
    "yhat_prob\n"
   ]
  },
  {
   "cell_type": "markdown",
   "id": "288d9cdf",
   "metadata": {},
   "source": [
    "### Create a support vector machine object then create a GridSearchCV object svm_cv with cv - 10. Fit the object to find the best parameters from the dictionary parameters."
   ]
  },
  {
   "cell_type": "code",
   "execution_count": 27,
   "id": "7450409f",
   "metadata": {},
   "outputs": [
    {
     "name": "stdout",
     "output_type": "stream",
     "text": [
      "Fitting 3 folds for each of 9 candidates, totalling 27 fits\n",
      "Best parameters found:  {'C': 1.0, 'gamma': 10.0, 'kernel': 'rbf'}\n",
      "Best cross-validation score: 1.00\n"
     ]
    }
   ],
   "source": [
    "# Create a support vector machine object then create a GridSearchCV object svm_cv with cv - 10. Fit the object to find the best parameters from the dictionary parameters.\n",
    "\n",
    "from sklearn.svm import SVC\n",
    "from sklearn.model_selection import GridSearchCV\n",
    "import numpy as np\n",
    "\n",
    "# Setup SVM and parameters\n",
    "svm = SVC(probability=True)\n",
    "parameters = {\n",
    "    'kernel': ['rbf'],\n",
    "    'C': np.logspace(0, 2, 3),\n",
    "    'gamma': np.logspace(-1, 1, 3)\n",
    "}\n",
    "\n",
    "# Configure GridSearchCV\n",
    "grid_search = GridSearchCV(svm, parameters, cv=3, n_jobs=-1, verbose=3)\n",
    "\n",
    "# Run the grid search\n",
    "svm_cv = grid_search.fit(X_train, Y_train)\n",
    "\n",
    "# Output results\n",
    "print(\"Best parameters found: \", svm_cv.best_params_)\n",
    "print(\"Best cross-validation score: {:.2f}\".format(svm_cv.best_score_))\n"
   ]
  },
  {
   "cell_type": "code",
   "execution_count": 28,
   "id": "0c8e092d",
   "metadata": {},
   "outputs": [
    {
     "data": {
      "image/png": "[encoded data removed]",
      "text/plain": [
       "<Figure size 640x480 with 2 Axes>"
      ]
     },
     "metadata": {},
     "output_type": "display_data"
    }
   ],
   "source": [
    "yhat=svm_cv.predict(X_test)\n",
    "plot_confusion_matrix(Y_test,yhat)"
   ]
  },
  {
   "cell_type": "markdown",
   "id": "b7666f6a",
   "metadata": {},
   "source": [
    "### SVC Classifier Performance Summary\n",
    "\n",
    "The confusion matrix depicts the performance of the SVC classifier on a dataset of 32 applicants (14 + 18 = 32). The matrix indicates how the classifier categorized these applicants into 'Bad (0)' and 'Good (1)' outcomes, achieving perfect classification with no mispredictions.\n",
    "\n",
    "**Matrix Details:**\n",
    "- **True Negatives (TN):** The classifier correctly identified 14 applicants as 'Bad (0)'. These true negatives indicate that the classifier was effective in accurately predicting negative outcomes where the actual and predicted results matched.\n",
    "- **False Positives (FP):** There were no instances of false positives. This means no applicants were incorrectly predicted as 'Good (1)' when they were actually 'Bad (0)', underscoring the classifier's precision.\n",
    "- **False Negatives (FN):** Similarly, there were no false negatives; the classifier did not mistakenly predict any applicants as 'Bad (0)' when they were actually 'Good (1)'. This demonstrates the model’s effectiveness in recognizing all positive outcomes.\n",
    "- **True Positives (TP):** The classifier correctly predicted 18 applicants as 'Good (1)'. These true positives affirm the classifier's capability to identify applicants who had a positive experience in the program correctly.\n",
    "\n",
    "**Summary:**\n",
    "The SVC classifier exhibited flawless performance in this evaluation, correctly categorizing all 32 applicants with 100% accuracy. The absence of any false positives or false negatives highlights the model’s exceptional ability to distinguish accurately between 'Bad' and 'Good' outcomes.\n"
   ]
  },
  {
   "cell_type": "code",
   "execution_count": null,
   "id": "d8ff9068",
   "metadata": {},
   "outputs": [],
   "source": []
  },
  {
   "cell_type": "code",
   "execution_count": 29,
   "id": "6d65b399",
   "metadata": {},
   "outputs": [],
   "source": [
    "#Create a decision tree classifier object then create a GridSearchCV object tree_cv with cv = 10. Fit the object to find the best parameters from the dictionary parameters.\n",
    "\n",
    "#parameters prior to change\n",
    "parameters1 = {'criterion': ['gini', 'entropy'],\n",
    "     'splitter': ['best', 'random'],\n",
    "     'max_depth': [2*n for n in range(1,10)],\n",
    "     'max_features': ['auto', 'sqrt'],\n",
    "     'min_samples_leaf': [1, 2, 4],\n",
    "     'min_samples_split': [2, 5, 10]}\n",
    "\n",
    "#Define the Model\n",
    "tree = DecisionTreeClassifier()"
   ]
  },
  {
   "cell_type": "code",
   "execution_count": 30,
   "id": "5b533fef",
   "metadata": {},
   "outputs": [
    {
     "name": "stdout",
     "output_type": "stream",
     "text": [
      "Tuned hyperparameters: (best parameters) {'max_depth': None, 'min_samples_leaf': 1, 'min_samples_split': 2}\n",
      "Accuracy: 1.00\n"
     ]
    }
   ],
   "source": [
    "# Define the parameter grid\n",
    "parameters1 = {\n",
    "    'max_depth': [None, 10, 20, 30],\n",
    "    'min_samples_split': [2, 10, 20],\n",
    "    'min_samples_leaf': [1, 5, 10]\n",
    "}\n",
    "\n",
    "# Create GridSearchCV object\n",
    "grid_search = GridSearchCV(tree, parameters1, cv=10)\n",
    "\n",
    "# Fit GridSearchCV to the training data\n",
    "tree_cv = grid_search.fit(X_train, Y_train)\n",
    "\n",
    "# Output the best parameters and the best cross-validation accuracy\n",
    "print(\"Tuned hyperparameters: (best parameters)\", tree_cv.best_params_)\n",
    "print(\"Accuracy: {:.2f}\".format(tree_cv.best_score_))\n"
   ]
  },
  {
   "cell_type": "code",
   "execution_count": 31,
   "id": "b4ab9cc5",
   "metadata": {},
   "outputs": [],
   "source": [
    "grid_search = GridSearchCV(tree, parameters1, cv=10, verbose=1)\n"
   ]
  },
  {
   "cell_type": "code",
   "execution_count": 33,
   "id": "3a8909a1",
   "metadata": {
    "scrolled": false
   },
   "outputs": [
    {
     "data": {
      "image/png": "[encoded data removed]",
      "text/plain": [
       "<Figure size 640x480 with 2 Axes>"
      ]
     },
     "metadata": {},
     "output_type": "display_data"
    }
   ],
   "source": [
    "yhat = tree_cv.predict(X_test)\n",
    "plot_confusion_matrix(Y_test,yhat)"
   ]
  },
  {
   "cell_type": "markdown",
   "id": "7f3f465a",
   "metadata": {},
   "source": [
    "### Decision tree Performance Summary\n",
    "\n",
    "The confusion matrix depicts the performance of the DT classifier on a dataset of 32 applicants (14 + 18 = 32). The matrix indicates how the classifier categorized these applicants into 'Bad (0)' and 'Good (1)' outcomes, achieving perfect classification with no mispredictions.\n",
    "\n",
    "**Matrix Details:**\n",
    "- **True Negatives (TN):** The classifier correctly identified 14 applicants as 'Bad (0)'. These true negatives indicate that the classifier was effective in accurately predicting negative outcomes where the actual and predicted results matched.\n",
    "- **False Positives (FP):** There were no instances of false positives. This means no applicants were incorrectly predicted as 'Good (1)' when they were actually 'Bad (0)', underscoring the classifier's precision.\n",
    "- **False Negatives (FN):** Similarly, there were no false negatives; the classifier did not mistakenly predict any applicants as 'Bad (0)' when they were actually 'Good (1)'. This demonstrates the model’s effectiveness in recognizing all positive outcomes.\n",
    "- **True Positives (TP):** The classifier correctly predicted 18 applicants as 'Good (1)'. These true positives affirm the classifier's capability to identify applicants who had a positive experience in the program correctly.\n",
    "\n",
    "**Summary:**\n",
    "The Decision tree classifier exhibited flawless performance in this evaluation, correctly categorizing all 32 applicants with 100% accuracy. The absence of any false positives or false negatives highlights the model’s exceptional ability to distinguish accurately between 'Bad' and 'Good' outcomes.\n"
   ]
  },
  {
   "cell_type": "markdown",
   "id": "2739f67d",
   "metadata": {},
   "source": [
    " \n",
    "- **Create a k nearest neighbors object then create a GridSearchCV object knn_cv with cv = 10. Fit the object to find the best parameters from the dictionary parameters.**\n"
   ]
  },
  {
   "cell_type": "code",
   "execution_count": 34,
   "id": "947f76ab",
   "metadata": {},
   "outputs": [],
   "source": [
    "#Create a k nearest neighbors object\n",
    "parameters = {'n_neighbors': [1, 2, 3, 4, 5, 6, 7, 8, 9, 10],\n",
    "              'algorithm': ['auto', 'ball_tree', 'kd_tree', 'brute'],\n",
    "              'p': [1,2]}\n",
    "KNN = KNeighborsClassifier()"
   ]
  },
  {
   "cell_type": "code",
   "execution_count": 35,
   "id": "5f6f298f",
   "metadata": {},
   "outputs": [],
   "source": [
    "#create a GridSearchCV object knn_cv with cv = 10. Fit the object to find the best parameters from the dictionary parameters.\n",
    "grid_search = GridSearchCV(KNN, parameters, cv=10)\n",
    "knn_cv = grid_search.fit(X_train, Y_train)\n"
   ]
  },
  {
   "cell_type": "code",
   "execution_count": 38,
   "id": "9dfaebff",
   "metadata": {},
   "outputs": [
    {
     "name": "stdout",
     "output_type": "stream",
     "text": [
      "tuned hpyerparameters :(best parameters)  {'algorithm': 'auto', 'n_neighbors': 1, 'p': 1}\n",
      "accuracy : 1.0\n"
     ]
    }
   ],
   "source": [
    "print(\"tuned hpyerparameters :(best parameters) \",knn_cv.best_params_)\n",
    "print(\"accuracy :\",knn_cv.best_score_)\n"
   ]
  },
  {
   "cell_type": "code",
   "execution_count": 39,
   "id": "3df2e2c7",
   "metadata": {},
   "outputs": [
    {
     "data": {
      "image/png": "[encoded data removed]",
      "text/plain": [
       "<Figure size 640x480 with 2 Axes>"
      ]
     },
     "metadata": {},
     "output_type": "display_data"
    }
   ],
   "source": [
    "yhat = knn_cv.predict(X_test)\n",
    "plot_confusion_matrix(Y_test,yhat)\n"
   ]
  },
  {
   "cell_type": "markdown",
   "id": "6a176e8b",
   "metadata": {},
   "source": [
    "### KNN Classifier Performance Summary\n",
    "\n",
    "This confusion matrix reflects the performance of the KNN classifier on a dataset of 32 applicants, accurately categorizing each applicant as either 'Bad (0)' or 'Good (1)'. The classifier achieved perfect classification without any mispredictions.\n",
    "\n",
    "**Matrix Details:**\n",
    "- **True Negatives (TN):** The classifier correctly predicted 14 applicants as 'Bad (0)'. These true negatives confirm the classifier's effectiveness in accurately identifying those who did not meet the criteria for a positive outcome.\n",
    "- **False Positives (FP):** There were no instances where the classifier incorrectly predicted an applicant as 'Good (1)' when they were actually 'Bad (0)'. This indicates zero false positives, highlighting the classifier’s precision.\n",
    "- **False Negatives (FN):** There were also no false negatives, where the classifier might have incorrectly predicted 'Bad (0)' for an applicant who was actually 'Good (1)'. The absence of false negatives demonstrates the classifier's accuracy in recognizing all positive cases.\n",
    "- **True Positives (TP):** The classifier accurately identified 18 applicants as 'Good (1)'. These true positives show the classifier's capability to correctly identify those applicants who had a successful experience in the program.\n",
    "\n",
    "**Summary:**\n",
    "The KNN classifier exhibited flawless performance with a total prediction accuracy of 100%, correctly classifying all 32 applicants with no false positives or negatives. This result showcases the classifier's exceptional ability to distinguish accurately between 'Bad' and 'Good' outcomes.\n",
    "\n",
    "**Comparison:**\n",
    "Given the perfect performance of this KNN classifier, it can be considered the best performing model in this specific evaluation scenario, assuming no other classifiers demonstrated similar accuracy or better performance.\n"
   ]
  },
  {
   "cell_type": "markdown",
   "id": "eb44563e",
   "metadata": {},
   "source": [
    "* By printing the accuracy of these models, you can determine which model best fits your data based on its ability to accurately predict outcomes on the test set. This step is crucial in the model selection process where you might choose the model that performs the best for deployment in production, or for further development and tuning."
   ]
  },
  {
   "cell_type": "code",
   "execution_count": 41,
   "id": "7d8a3274",
   "metadata": {},
   "outputs": [
    {
     "name": "stdout",
     "output_type": "stream",
     "text": [
      "Accuracy for Logistics Regression method: 0.75\n",
      "Accuracy for Support Vector Machine method: 1.0\n",
      "Accuracy for Decision tree method: 1.0\n",
      "Accuracy for K nearest neighbors method: 1.0\n"
     ]
    }
   ],
   "source": [
    "print('Accuracy for Logistics Regression method:', logreg_cv.score(X_test, Y_test))\n",
    "print( 'Accuracy for Support Vector Machine method:', svm_cv.score(X_test, Y_test))\n",
    "print('Accuracy for Decision tree method:', tree_cv.score(X_test, Y_test))\n",
    "print('Accuracy for K nearest neighbors method:', knn_cv.score(X_test, Y_test))\n"
   ]
  },
  {
   "cell_type": "code",
   "execution_count": 42,
   "id": "772b6589",
   "metadata": {},
   "outputs": [
    {
     "data": {
      "text/html": [
       "<div>\n",
       "<style scoped>\n",
       "    .dataframe tbody tr th:only-of-type {\n",
       "        vertical-align: middle;\n",
       "    }\n",
       "\n",
       "    .dataframe tbody tr th {\n",
       "        vertical-align: top;\n",
       "    }\n",
       "\n",
       "    .dataframe thead th {\n",
       "        text-align: right;\n",
       "    }\n",
       "</style>\n",
       "<table border=\"1\" class=\"dataframe\">\n",
       "  <thead>\n",
       "    <tr style=\"text-align: right;\">\n",
       "      <th></th>\n",
       "      <th>Metric</th>\n",
       "      <th>Accuracy Score</th>\n",
       "    </tr>\n",
       "  </thead>\n",
       "  <tbody>\n",
       "    <tr>\n",
       "      <th>0</th>\n",
       "      <td>LogisR</td>\n",
       "      <td>0.75</td>\n",
       "    </tr>\n",
       "    <tr>\n",
       "      <th>1</th>\n",
       "      <td>SVM</td>\n",
       "      <td>1.00</td>\n",
       "    </tr>\n",
       "    <tr>\n",
       "      <th>2</th>\n",
       "      <td>DTree</td>\n",
       "      <td>1.00</td>\n",
       "    </tr>\n",
       "    <tr>\n",
       "      <th>3</th>\n",
       "      <td>KNN</td>\n",
       "      <td>1.00</td>\n",
       "    </tr>\n",
       "  </tbody>\n",
       "</table>\n",
       "</div>"
      ],
      "text/plain": [
       "   Metric  Accuracy Score\n",
       "0  LogisR            0.75\n",
       "1     SVM            1.00\n",
       "2   DTree            1.00\n",
       "3     KNN            1.00"
      ]
     },
     "execution_count": 42,
     "metadata": {},
     "output_type": "execute_result"
    }
   ],
   "source": [
    "AccuracyScore=[0.75,1.0,1.0,1.0]\n",
    "Metric=['LogisR','SVM','DTree','KNN']\n",
    "Accuracy_Metrics={'Metric':Metric,'Accuracy Score':AccuracyScore}\n",
    "Metrics_df=pd.DataFrame(Accuracy_Metrics)\n",
    "Metrics_df\n"
   ]
  },
  {
   "cell_type": "code",
   "execution_count": null,
   "id": "81fee684",
   "metadata": {},
   "outputs": [],
   "source": [
    "\n",
    "\n",
    "\n"
   ]
  },
  {
   "cell_type": "code",
   "execution_count": 59,
   "id": "7a0efc84",
   "metadata": {},
   "outputs": [
    {
     "name": "stdout",
     "output_type": "stream",
     "text": [
      "[[1, 39, 9]] [1]\n",
      "Predicted class label:  1\n",
      "Predicted probability of class 0:  22.42 %\n",
      "Predicted probability of class 1:  77.58 %\n"
     ]
    }
   ],
   "source": [
    "new_input=[[1,39,9]]\n",
    "#get perdiction from new input\n",
    "new_output=svm_cv.predict(new_input)\n",
    "\n",
    "\n",
    "#Summarize input and output  \n",
    "print(new_input, new_output)\n",
    "\n",
    "# Predict the probabilities of the new input data for each class\n",
    "proba = svm_cv.predict_proba(new_input)\n",
    "\n",
    "# Extract the predicted probabilities of the first and second class\n",
    "predicted_prob_0 = round(proba[0, 0] * 100, 2)\n",
    "predicted_prob_1 = round(proba[0, 1] * 100, 2)\n",
    "\n",
    "# Print the predicted class labels and probabilities as percentages\n",
    "print(\"Predicted class label: \", new_output[0])\n",
    "print(\"Predicted probability of class 0: \", predicted_prob_0, \"%\")\n",
    "print(\"Predicted probability of class 1: \", predicted_prob_1, \"%\")\n"
   ]
  },
  {
   "cell_type": "code",
   "execution_count": null,
   "id": "e065b445",
   "metadata": {},
   "outputs": [],
   "source": []
  }
 ],
 "metadata": {
  "kernelspec": {
   "display_name": "Python 3",
   "language": "python",
   "name": "python3"
  },
  "language_info": {
   "codemirror_mode": {
    "name": "ipython",
    "version": 3
   },
   "file_extension": ".py",
   "mimetype": "text/x-python",
   "name": "python",
   "nbconvert_exporter": "python",
   "pygments_lexer": "ipython3",
   "version": "3.11.3 (v3.11.3:f3909b8bc8, Apr  4 2023, 20:12:10) [Clang 13.0.0 (clang-1300.0.29.30)]"
  },
  "vscode": {
   "interpreter": {
    "hash": "31f2aee4e71d21fbe5cf8b01ff0e069b9275f58929596ceb00d14d90e3e16cd6"
   }
  }
 },
 "nbformat": 4,
 "nbformat_minor": 5
}
