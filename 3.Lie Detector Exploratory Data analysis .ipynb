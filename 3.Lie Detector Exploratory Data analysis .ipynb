{
 "cells": [
  {
   "cell_type": "markdown",
   "id": "62a71637",
   "metadata": {},
   "source": [
    "### Objective: Build a Lie Detector Model\n",
    "\n",
    "**Purpose:** Predict the future outcome for an individual in the program:\n",
    "- **Complete Program Successfully:** 1\n",
    "- **Discharge from the Program on Bad Terms:** 0\n",
    "\n",
    "**Tasks:**\n",
    "\n",
    "1. **Understanding the Distribution of Data:** \n",
    "   - Analyze key variables to identify their central tendencies and spread. This helps in understanding how the data is distributed, which is crucial for any form of modeling.\n",
    "\n",
    "2. **Identifying Relationships Between Variables:**\n",
    "   - Explore potential relationships between different variables using tools such as scatter plots, correlation matrices, and pivot tables. This helps in understanding which factors are most influential in determining the outcomes.\n",
    "\n",
    "3. **Detecting Outliers:**\n",
    "   - Identify and handle outliers in the data. Outliers can skew the results and could potentially lead to inaccurate models.\n",
    "\n",
    "4. **Testing Assumptions:**\n",
    "   - Verify the assumptions required for subsequent statistical tests and modeling. For instance, checking for normality if using techniques that assume normally distributed data.\n",
    "\n",
    "5. **Visualizing Patterns and Trends:**\n",
    "   - Use various visualization techniques to uncover hidden patterns and trends within the data. This can involve the use of line graphs, bar charts, and cluster diagrams.\n",
    "\n",
    "6. **Generating Hypotheses:**\n",
    "   - Based on initial findings, formulate hypotheses about the data which can later be tested using more detailed statistical models.\n",
    "\n",
    "7. **Preparing for Further Analysis:**\n",
    "   - Use insights from EDA to prepare the data further for modeling. This might include deciding on which features to include, which data transformations are necessary, and how best to split the data for training and testing.\n",
    "\n",
    "**Columns and Their Acronyms:**\n",
    "- **Permanency/Navigating Welfare System (PWS)**\n",
    "- **Daily Living (DL)**\n",
    "- **Self Care (SC)**\n",
    "- **Relationships & Communication (RC)**\n",
    "- **Housing & Money Management (HMM)**\n",
    "- **Work & Study Life (WSL)**\n",
    "- **Career & Education Planning (CEP)**\n",
    "- **Looking Forward (LF)**\n",
    "\n"
   ]
  },
  {
   "cell_type": "code",
   "execution_count": 5,
   "id": "41f3b801",
   "metadata": {},
   "outputs": [],
   "source": [
    "# Pandas is a software library written for the Python programming language for data manipulation and analysis.\n",
    "import pandas as pd\n",
    "# NumPy is a library for the Python programming language, adding support for large, multi-dimensional arrays and matrices, along with a large collection of high-level mathematical functions to operate on these arrays\n",
    "import numpy as np\n",
    "# Matplotlib is a plotting library for python and pyplot gives us a MatLab like plotting framework. We will use this in our plotter function to plot data.\n",
    "import matplotlib.pyplot as plt\n",
    "#Seaborn is a Python data visualization library based on matplotlib. It provides a high-level interface for drawing attractive and informative statistical graphics\n",
    "import seaborn as sns\n",
    "# Preprocessing allows us to standarsize our data\n",
    "from sklearn import preprocessing\n",
    "# Allows us to split our data into training and testing data\n",
    "from sklearn.model_selection import train_test_split\n",
    "# Allows us to test parameters of classification algorithms and find the best one\n",
    "from sklearn.model_selection import GridSearchCV\n",
    "# Logistic Regression classification algorithm\n",
    "from sklearn.linear_model import LogisticRegression\n",
    "# Support Vector Machine classification algorithm\n",
    "from sklearn.svm import SVC\n",
    "# Decision Tree classification algorithm\n",
    "from sklearn import metrics\n",
    "import matplotlib.pyplot as plt\n",
    "from sklearn.tree import DecisionTreeClassifier\n",
    "# K Nearest Neighbors classification algorithm\n",
    "from sklearn.neighbors import KNeighborsClassifier"
   ]
  },
  {
   "cell_type": "markdown",
   "id": "0b5bfb77",
   "metadata": {},
   "source": [
    "### ***Initial Exploration*** "
   ]
  },
  {
   "cell_type": "code",
   "execution_count": 6,
   "id": "61607fee",
   "metadata": {
    "scrolled": true
   },
   "outputs": [
    {
     "data": {
      "text/html": [
       "<div>\n",
       "<style scoped>\n",
       "    .dataframe tbody tr th:only-of-type {\n",
       "        vertical-align: middle;\n",
       "    }\n",
       "\n",
       "    .dataframe tbody tr th {\n",
       "        vertical-align: top;\n",
       "    }\n",
       "\n",
       "    .dataframe thead th {\n",
       "        text-align: right;\n",
       "    }\n",
       "</style>\n",
       "<table border=\"1\" class=\"dataframe\">\n",
       "  <thead>\n",
       "    <tr style=\"text-align: right;\">\n",
       "      <th></th>\n",
       "      <th>Youth ID</th>\n",
       "      <th>gender</th>\n",
       "      <th>PWS</th>\n",
       "      <th>DL</th>\n",
       "      <th>SC</th>\n",
       "      <th>RC</th>\n",
       "      <th>HMM</th>\n",
       "      <th>WSL</th>\n",
       "      <th>CEP</th>\n",
       "      <th>LF</th>\n",
       "      <th>grand_total</th>\n",
       "      <th>days_spent</th>\n",
       "      <th>Category</th>\n",
       "      <th>result_score</th>\n",
       "      <th>fraud_alert</th>\n",
       "      <th>row_std</th>\n",
       "    </tr>\n",
       "  </thead>\n",
       "  <tbody>\n",
       "    <tr>\n",
       "      <th>0</th>\n",
       "      <td>1</td>\n",
       "      <td>M</td>\n",
       "      <td>3.80</td>\n",
       "      <td>4.47</td>\n",
       "      <td>4.41</td>\n",
       "      <td>4.33</td>\n",
       "      <td>3.96</td>\n",
       "      <td>4.10</td>\n",
       "      <td>5.00</td>\n",
       "      <td>5.00</td>\n",
       "      <td>35.07</td>\n",
       "      <td>264</td>\n",
       "      <td>Good</td>\n",
       "      <td>1</td>\n",
       "      <td>0.046791</td>\n",
       "      <td>0.442620</td>\n",
       "    </tr>\n",
       "    <tr>\n",
       "      <th>1</th>\n",
       "      <td>2</td>\n",
       "      <td>M</td>\n",
       "      <td>4.00</td>\n",
       "      <td>4.41</td>\n",
       "      <td>4.53</td>\n",
       "      <td>4.78</td>\n",
       "      <td>3.70</td>\n",
       "      <td>4.40</td>\n",
       "      <td>4.10</td>\n",
       "      <td>4.00</td>\n",
       "      <td>33.92</td>\n",
       "      <td>467</td>\n",
       "      <td>Good</td>\n",
       "      <td>1</td>\n",
       "      <td>0.045256</td>\n",
       "      <td>0.349816</td>\n",
       "    </tr>\n",
       "    <tr>\n",
       "      <th>2</th>\n",
       "      <td>3</td>\n",
       "      <td>M</td>\n",
       "      <td>4.30</td>\n",
       "      <td>4.65</td>\n",
       "      <td>4.29</td>\n",
       "      <td>4.78</td>\n",
       "      <td>3.78</td>\n",
       "      <td>4.60</td>\n",
       "      <td>4.11</td>\n",
       "      <td>4.50</td>\n",
       "      <td>35.01</td>\n",
       "      <td>49</td>\n",
       "      <td>Bad</td>\n",
       "      <td>0</td>\n",
       "      <td>0.046711</td>\n",
       "      <td>0.325793</td>\n",
       "    </tr>\n",
       "    <tr>\n",
       "      <th>3</th>\n",
       "      <td>4</td>\n",
       "      <td>M</td>\n",
       "      <td>3.55</td>\n",
       "      <td>2.24</td>\n",
       "      <td>2.71</td>\n",
       "      <td>3.83</td>\n",
       "      <td>2.09</td>\n",
       "      <td>2.70</td>\n",
       "      <td>2.11</td>\n",
       "      <td>3.25</td>\n",
       "      <td>22.48</td>\n",
       "      <td>908</td>\n",
       "      <td>Good</td>\n",
       "      <td>1</td>\n",
       "      <td>0.029993</td>\n",
       "      <td>0.669435</td>\n",
       "    </tr>\n",
       "    <tr>\n",
       "      <th>4</th>\n",
       "      <td>5</td>\n",
       "      <td>F</td>\n",
       "      <td>4.90</td>\n",
       "      <td>4.71</td>\n",
       "      <td>4.76</td>\n",
       "      <td>4.83</td>\n",
       "      <td>3.35</td>\n",
       "      <td>4.65</td>\n",
       "      <td>4.78</td>\n",
       "      <td>5.00</td>\n",
       "      <td>36.98</td>\n",
       "      <td>241</td>\n",
       "      <td>Bad</td>\n",
       "      <td>0</td>\n",
       "      <td>0.049339</td>\n",
       "      <td>0.525622</td>\n",
       "    </tr>\n",
       "  </tbody>\n",
       "</table>\n",
       "</div>"
      ],
      "text/plain": [
       "   Youth ID gender   PWS    DL    SC    RC   HMM   WSL   CEP    LF  \\\n",
       "0         1      M  3.80  4.47  4.41  4.33  3.96  4.10  5.00  5.00   \n",
       "1         2      M  4.00  4.41  4.53  4.78  3.70  4.40  4.10  4.00   \n",
       "2         3      M  4.30  4.65  4.29  4.78  3.78  4.60  4.11  4.50   \n",
       "3         4      M  3.55  2.24  2.71  3.83  2.09  2.70  2.11  3.25   \n",
       "4         5      F  4.90  4.71  4.76  4.83  3.35  4.65  4.78  5.00   \n",
       "\n",
       "   grand_total  days_spent Category  result_score  fraud_alert   row_std  \n",
       "0        35.07         264     Good             1     0.046791  0.442620  \n",
       "1        33.92         467     Good             1     0.045256  0.349816  \n",
       "2        35.01          49      Bad             0     0.046711  0.325793  \n",
       "3        22.48         908     Good             1     0.029993  0.669435  \n",
       "4        36.98         241      Bad             0     0.049339  0.525622  "
      ]
     },
     "execution_count": 6,
     "metadata": {},
     "output_type": "execute_result"
    }
   ],
   "source": [
    "thp_df2 = pd.read_csv(\"/Users/oakmoreroadinc./Desktop/Data Science /Portfolio Data Science /clean_thp_df2.csv\")\n",
    "thp_df2.head()"
   ]
  },
  {
   "cell_type": "code",
   "execution_count": 7,
   "id": "cb179e57",
   "metadata": {
    "scrolled": true
   },
   "outputs": [
    {
     "name": "stdout",
     "output_type": "stream",
     "text": [
      "<class 'pandas.core.frame.DataFrame'>\n",
      "RangeIndex: 22 entries, 0 to 21\n",
      "Data columns (total 16 columns):\n",
      " #   Column        Non-Null Count  Dtype  \n",
      "---  ------        --------------  -----  \n",
      " 0   Youth ID      22 non-null     int64  \n",
      " 1   gender        22 non-null     object \n",
      " 2   PWS           22 non-null     float64\n",
      " 3   DL            22 non-null     float64\n",
      " 4   SC            22 non-null     float64\n",
      " 5   RC            22 non-null     float64\n",
      " 6   HMM           22 non-null     float64\n",
      " 7   WSL           22 non-null     float64\n",
      " 8   CEP           22 non-null     float64\n",
      " 9   LF            22 non-null     float64\n",
      " 10  grand_total   22 non-null     float64\n",
      " 11  days_spent    22 non-null     int64  \n",
      " 12  Category      22 non-null     object \n",
      " 13  result_score  22 non-null     int64  \n",
      " 14  fraud_alert   22 non-null     float64\n",
      " 15  row_std       22 non-null     float64\n",
      "dtypes: float64(11), int64(3), object(2)\n",
      "memory usage: 2.9+ KB\n"
     ]
    }
   ],
   "source": [
    "#check for missing values \n",
    "#check data types\n",
    "thp_df2.info()"
   ]
  },
  {
   "cell_type": "code",
   "execution_count": null,
   "id": "d25f52c8",
   "metadata": {},
   "outputs": [],
   "source": [
    "# 'thp_df2' contains 22 rows of youth data and assesment scores . \n",
    "# no youth's are missing information. "
   ]
  },
  {
   "cell_type": "code",
   "execution_count": 9,
   "id": "c8973abd",
   "metadata": {
    "scrolled": true
   },
   "outputs": [
    {
     "data": {
      "text/plain": [
       "gender  Category\n",
       "M       Good        9\n",
       "        Bad         7\n",
       "F       Good        4\n",
       "        Bad         2\n",
       "dtype: int64"
      ]
     },
     "execution_count": 9,
     "metadata": {},
     "output_type": "execute_result"
    }
   ],
   "source": [
    "#How Many data points do we have in each categorical variable?\n",
    "thp_df2.value_counts([\"gender\",\"Category\"])"
   ]
  },
  {
   "cell_type": "code",
   "execution_count": 10,
   "id": "1358a882",
   "metadata": {},
   "outputs": [
    {
     "name": "stdout",
     "output_type": "stream",
     "text": [
      "gender  Category\n",
      "M       Good        9\n",
      "        Bad         7\n",
      "F       Good        4\n",
      "        Bad         2\n",
      "dtype: int64\n"
     ]
    }
   ],
   "source": [
    "#another syntax for getting value counts\n",
    "print(thp_df2[[\"gender\",\"Category\"]].value_counts())"
   ]
  },
  {
   "cell_type": "code",
   "execution_count": 11,
   "id": "a784a3ac",
   "metadata": {},
   "outputs": [
    {
     "data": {
      "text/html": [
       "<div>\n",
       "<style scoped>\n",
       "    .dataframe tbody tr th:only-of-type {\n",
       "        vertical-align: middle;\n",
       "    }\n",
       "\n",
       "    .dataframe tbody tr th {\n",
       "        vertical-align: top;\n",
       "    }\n",
       "\n",
       "    .dataframe thead th {\n",
       "        text-align: right;\n",
       "    }\n",
       "</style>\n",
       "<table border=\"1\" class=\"dataframe\">\n",
       "  <thead>\n",
       "    <tr style=\"text-align: right;\">\n",
       "      <th></th>\n",
       "      <th>Youth ID</th>\n",
       "      <th>PWS</th>\n",
       "      <th>DL</th>\n",
       "      <th>SC</th>\n",
       "      <th>RC</th>\n",
       "      <th>HMM</th>\n",
       "      <th>WSL</th>\n",
       "      <th>CEP</th>\n",
       "      <th>LF</th>\n",
       "      <th>grand_total</th>\n",
       "      <th>days_spent</th>\n",
       "      <th>result_score</th>\n",
       "      <th>fraud_alert</th>\n",
       "      <th>row_std</th>\n",
       "    </tr>\n",
       "  </thead>\n",
       "  <tbody>\n",
       "    <tr>\n",
       "      <th>count</th>\n",
       "      <td>22.000000</td>\n",
       "      <td>22.000000</td>\n",
       "      <td>22.000000</td>\n",
       "      <td>22.000000</td>\n",
       "      <td>22.000000</td>\n",
       "      <td>22.000000</td>\n",
       "      <td>22.000000</td>\n",
       "      <td>22.000000</td>\n",
       "      <td>22.000000</td>\n",
       "      <td>22.000000</td>\n",
       "      <td>22.000000</td>\n",
       "      <td>22.000000</td>\n",
       "      <td>22.000000</td>\n",
       "      <td>22.000000</td>\n",
       "    </tr>\n",
       "    <tr>\n",
       "      <th>mean</th>\n",
       "      <td>11.500000</td>\n",
       "      <td>4.115909</td>\n",
       "      <td>4.392273</td>\n",
       "      <td>4.400909</td>\n",
       "      <td>4.551364</td>\n",
       "      <td>3.853636</td>\n",
       "      <td>4.241818</td>\n",
       "      <td>3.989091</td>\n",
       "      <td>4.523636</td>\n",
       "      <td>34.068636</td>\n",
       "      <td>475.363636</td>\n",
       "      <td>0.590909</td>\n",
       "      <td>0.045455</td>\n",
       "      <td>0.363303</td>\n",
       "    </tr>\n",
       "    <tr>\n",
       "      <th>std</th>\n",
       "      <td>6.493587</td>\n",
       "      <td>0.742965</td>\n",
       "      <td>0.683241</td>\n",
       "      <td>0.617953</td>\n",
       "      <td>0.477466</td>\n",
       "      <td>0.719739</td>\n",
       "      <td>0.661727</td>\n",
       "      <td>0.817650</td>\n",
       "      <td>0.562126</td>\n",
       "      <td>4.729559</td>\n",
       "      <td>282.466778</td>\n",
       "      <td>0.503236</td>\n",
       "      <td>0.006310</td>\n",
       "      <td>0.199258</td>\n",
       "    </tr>\n",
       "    <tr>\n",
       "      <th>min</th>\n",
       "      <td>1.000000</td>\n",
       "      <td>2.500000</td>\n",
       "      <td>2.240000</td>\n",
       "      <td>2.710000</td>\n",
       "      <td>3.440000</td>\n",
       "      <td>2.090000</td>\n",
       "      <td>2.700000</td>\n",
       "      <td>2.110000</td>\n",
       "      <td>3.250000</td>\n",
       "      <td>22.480000</td>\n",
       "      <td>49.000000</td>\n",
       "      <td>0.000000</td>\n",
       "      <td>0.029993</td>\n",
       "      <td>0.000000</td>\n",
       "    </tr>\n",
       "    <tr>\n",
       "      <th>25%</th>\n",
       "      <td>6.250000</td>\n",
       "      <td>3.562500</td>\n",
       "      <td>4.410000</td>\n",
       "      <td>4.027500</td>\n",
       "      <td>4.247500</td>\n",
       "      <td>3.502500</td>\n",
       "      <td>4.062500</td>\n",
       "      <td>3.357500</td>\n",
       "      <td>4.030000</td>\n",
       "      <td>32.047500</td>\n",
       "      <td>244.000000</td>\n",
       "      <td>0.000000</td>\n",
       "      <td>0.042758</td>\n",
       "      <td>0.277717</td>\n",
       "    </tr>\n",
       "    <tr>\n",
       "      <th>50%</th>\n",
       "      <td>11.500000</td>\n",
       "      <td>4.150000</td>\n",
       "      <td>4.560000</td>\n",
       "      <td>4.590000</td>\n",
       "      <td>4.780000</td>\n",
       "      <td>3.740000</td>\n",
       "      <td>4.375000</td>\n",
       "      <td>3.945000</td>\n",
       "      <td>4.750000</td>\n",
       "      <td>34.870000</td>\n",
       "      <td>469.500000</td>\n",
       "      <td>1.000000</td>\n",
       "      <td>0.046524</td>\n",
       "      <td>0.377422</td>\n",
       "    </tr>\n",
       "    <tr>\n",
       "      <th>75%</th>\n",
       "      <td>16.750000</td>\n",
       "      <td>4.862500</td>\n",
       "      <td>4.717500</td>\n",
       "      <td>4.820000</td>\n",
       "      <td>4.940000</td>\n",
       "      <td>4.097500</td>\n",
       "      <td>4.725000</td>\n",
       "      <td>4.780000</td>\n",
       "      <td>5.000000</td>\n",
       "      <td>36.967500</td>\n",
       "      <td>694.000000</td>\n",
       "      <td>1.000000</td>\n",
       "      <td>0.049322</td>\n",
       "      <td>0.513529</td>\n",
       "    </tr>\n",
       "    <tr>\n",
       "      <th>max</th>\n",
       "      <td>22.000000</td>\n",
       "      <td>5.000000</td>\n",
       "      <td>5.000000</td>\n",
       "      <td>5.000000</td>\n",
       "      <td>5.000000</td>\n",
       "      <td>5.000000</td>\n",
       "      <td>5.000000</td>\n",
       "      <td>5.000000</td>\n",
       "      <td>5.000000</td>\n",
       "      <td>40.000000</td>\n",
       "      <td>1026.000000</td>\n",
       "      <td>1.000000</td>\n",
       "      <td>0.053368</td>\n",
       "      <td>0.669435</td>\n",
       "    </tr>\n",
       "  </tbody>\n",
       "</table>\n",
       "</div>"
      ],
      "text/plain": [
       "        Youth ID        PWS         DL         SC         RC        HMM  \\\n",
       "count  22.000000  22.000000  22.000000  22.000000  22.000000  22.000000   \n",
       "mean   11.500000   4.115909   4.392273   4.400909   4.551364   3.853636   \n",
       "std     6.493587   0.742965   0.683241   0.617953   0.477466   0.719739   \n",
       "min     1.000000   2.500000   2.240000   2.710000   3.440000   2.090000   \n",
       "25%     6.250000   3.562500   4.410000   4.027500   4.247500   3.502500   \n",
       "50%    11.500000   4.150000   4.560000   4.590000   4.780000   3.740000   \n",
       "75%    16.750000   4.862500   4.717500   4.820000   4.940000   4.097500   \n",
       "max    22.000000   5.000000   5.000000   5.000000   5.000000   5.000000   \n",
       "\n",
       "             WSL        CEP         LF  grand_total   days_spent  \\\n",
       "count  22.000000  22.000000  22.000000    22.000000    22.000000   \n",
       "mean    4.241818   3.989091   4.523636    34.068636   475.363636   \n",
       "std     0.661727   0.817650   0.562126     4.729559   282.466778   \n",
       "min     2.700000   2.110000   3.250000    22.480000    49.000000   \n",
       "25%     4.062500   3.357500   4.030000    32.047500   244.000000   \n",
       "50%     4.375000   3.945000   4.750000    34.870000   469.500000   \n",
       "75%     4.725000   4.780000   5.000000    36.967500   694.000000   \n",
       "max     5.000000   5.000000   5.000000    40.000000  1026.000000   \n",
       "\n",
       "       result_score  fraud_alert    row_std  \n",
       "count     22.000000    22.000000  22.000000  \n",
       "mean       0.590909     0.045455   0.363303  \n",
       "std        0.503236     0.006310   0.199258  \n",
       "min        0.000000     0.029993   0.000000  \n",
       "25%        0.000000     0.042758   0.277717  \n",
       "50%        1.000000     0.046524   0.377422  \n",
       "75%        1.000000     0.049322   0.513529  \n",
       "max        1.000000     0.053368   0.669435  "
      ]
     },
     "execution_count": 11,
     "metadata": {},
     "output_type": "execute_result"
    }
   ],
   "source": [
    "thp_df2.describe()"
   ]
  },
  {
   "cell_type": "code",
   "execution_count": 13,
   "id": "af5cb3d2",
   "metadata": {
    "scrolled": true
   },
   "outputs": [
    {
     "data": {
      "image/png": "[encoded data removed]",
      "text/plain": [
       "<Figure size 640x480 with 1 Axes>"
      ]
     },
     "metadata": {},
     "output_type": "display_data"
    }
   ],
   "source": [
    "sns.histplot(data=thp_df2, x=\"grand_total\")\n",
    "plt.show()"
   ]
  },
  {
   "cell_type": "code",
   "execution_count": null,
   "id": "8d24e894",
   "metadata": {},
   "outputs": [],
   "source": [
    "# looks like assesment 'total_score' hovered around 32 to 40 for most youths in the dataset\n",
    "# but a few youth's experienced very low assesment total scores of 22 to 30."
   ]
  },
  {
   "cell_type": "code",
   "execution_count": 16,
   "id": "e944bdfa",
   "metadata": {},
   "outputs": [
    {
     "data": {
      "image/png": "[encoded data removed]",
      "text/plain": [
       "<Figure size 640x480 with 1 Axes>"
      ]
     },
     "metadata": {},
     "output_type": "display_data"
    }
   ],
   "source": [
    "sns.histplot(data=thp_df2, x=\"days_spent\")\n",
    "plt.show()"
   ]
  },
  {
   "cell_type": "markdown",
   "id": "f118479b",
   "metadata": {},
   "source": [
    "### **Most youth's spent at least 200 to 400 days in the program before exit.** \n",
    "\n",
    "### **A few youth's experienced 600 to 1000 days in the program before exit.**"
   ]
  },
  {
   "cell_type": "markdown",
   "id": "62dd2f9b",
   "metadata": {},
   "source": [
    "## Data Validation \n",
    "###### Are data types and ranges are as expected? \n"
   ]
  },
  {
   "cell_type": "code",
   "execution_count": 17,
   "id": "72232e59",
   "metadata": {},
   "outputs": [
    {
     "data": {
      "text/plain": [
       "Youth ID          int64\n",
       "gender           object\n",
       "PWS             float64\n",
       "DL              float64\n",
       "SC              float64\n",
       "RC              float64\n",
       "HMM             float64\n",
       "WSL             float64\n",
       "CEP             float64\n",
       "LF              float64\n",
       "grand_total     float64\n",
       "days_spent        int64\n",
       "Category         object\n",
       "result_score      int64\n",
       "fraud_alert     float64\n",
       "row_std         float64\n",
       "dtype: object"
      ]
     },
     "execution_count": 17,
     "metadata": {},
     "output_type": "execute_result"
    }
   ],
   "source": [
    "thp_df2.dtypes"
   ]
  },
  {
   "cell_type": "code",
   "execution_count": 19,
   "id": "05d984b6",
   "metadata": {
    "scrolled": false
   },
   "outputs": [
    {
     "data": {
      "text/plain": [
       "0     True\n",
       "1     True\n",
       "2     True\n",
       "3     True\n",
       "4     True\n",
       "5     True\n",
       "6     True\n",
       "7     True\n",
       "8     True\n",
       "9     True\n",
       "10    True\n",
       "11    True\n",
       "12    True\n",
       "13    True\n",
       "14    True\n",
       "15    True\n",
       "16    True\n",
       "17    True\n",
       "18    True\n",
       "19    True\n",
       "20    True\n",
       "21    True\n",
       "Name: gender, dtype: bool"
      ]
     },
     "execution_count": 19,
     "metadata": {},
     "output_type": "execute_result"
    }
   ],
   "source": [
    "#validating categorical data\n",
    "# is there a False in the list? \n",
    "thp_df2[\"gender\"].isin([\"M\", \"F\"])"
   ]
  },
  {
   "cell_type": "code",
   "execution_count": 21,
   "id": "e2a70b6c",
   "metadata": {
    "scrolled": false
   },
   "outputs": [
    {
     "data": {
      "text/plain": [
       "0     False\n",
       "1     False\n",
       "2     False\n",
       "3     False\n",
       "4     False\n",
       "5     False\n",
       "6     False\n",
       "7     False\n",
       "8     False\n",
       "9     False\n",
       "10    False\n",
       "11    False\n",
       "12    False\n",
       "13    False\n",
       "14    False\n",
       "15    False\n",
       "16    False\n",
       "17    False\n",
       "18    False\n",
       "19    False\n",
       "20    False\n",
       "21    False\n",
       "Name: gender, dtype: bool"
      ]
     },
     "execution_count": 21,
     "metadata": {},
     "output_type": "execute_result"
    }
   ],
   "source": [
    "## identifying values not on the list. Do you see a True?\n",
    "~thp_df2[\"gender\"].isin([\"M\", \"F\"])"
   ]
  },
  {
   "cell_type": "code",
   "execution_count": 22,
   "id": "bc370c6e",
   "metadata": {
    "scrolled": true
   },
   "outputs": [
    {
     "data": {
      "text/html": [
       "<div>\n",
       "<style scoped>\n",
       "    .dataframe tbody tr th:only-of-type {\n",
       "        vertical-align: middle;\n",
       "    }\n",
       "\n",
       "    .dataframe tbody tr th {\n",
       "        vertical-align: top;\n",
       "    }\n",
       "\n",
       "    .dataframe thead th {\n",
       "        text-align: right;\n",
       "    }\n",
       "</style>\n",
       "<table border=\"1\" class=\"dataframe\">\n",
       "  <thead>\n",
       "    <tr style=\"text-align: right;\">\n",
       "      <th></th>\n",
       "      <th>Youth ID</th>\n",
       "      <th>gender</th>\n",
       "      <th>PWS</th>\n",
       "      <th>DL</th>\n",
       "      <th>SC</th>\n",
       "      <th>RC</th>\n",
       "      <th>HMM</th>\n",
       "      <th>WSL</th>\n",
       "      <th>CEP</th>\n",
       "      <th>LF</th>\n",
       "      <th>grand_total</th>\n",
       "      <th>days_spent</th>\n",
       "      <th>Category</th>\n",
       "      <th>result_score</th>\n",
       "      <th>fraud_alert</th>\n",
       "      <th>row_std</th>\n",
       "    </tr>\n",
       "  </thead>\n",
       "  <tbody>\n",
       "    <tr>\n",
       "      <th>0</th>\n",
       "      <td>1</td>\n",
       "      <td>M</td>\n",
       "      <td>3.80</td>\n",
       "      <td>4.47</td>\n",
       "      <td>4.41</td>\n",
       "      <td>4.33</td>\n",
       "      <td>3.96</td>\n",
       "      <td>4.10</td>\n",
       "      <td>5.00</td>\n",
       "      <td>5.00</td>\n",
       "      <td>35.07</td>\n",
       "      <td>264</td>\n",
       "      <td>Good</td>\n",
       "      <td>1</td>\n",
       "      <td>0.046791</td>\n",
       "      <td>0.442620</td>\n",
       "    </tr>\n",
       "    <tr>\n",
       "      <th>1</th>\n",
       "      <td>2</td>\n",
       "      <td>M</td>\n",
       "      <td>4.00</td>\n",
       "      <td>4.41</td>\n",
       "      <td>4.53</td>\n",
       "      <td>4.78</td>\n",
       "      <td>3.70</td>\n",
       "      <td>4.40</td>\n",
       "      <td>4.10</td>\n",
       "      <td>4.00</td>\n",
       "      <td>33.92</td>\n",
       "      <td>467</td>\n",
       "      <td>Good</td>\n",
       "      <td>1</td>\n",
       "      <td>0.045256</td>\n",
       "      <td>0.349816</td>\n",
       "    </tr>\n",
       "    <tr>\n",
       "      <th>2</th>\n",
       "      <td>3</td>\n",
       "      <td>M</td>\n",
       "      <td>4.30</td>\n",
       "      <td>4.65</td>\n",
       "      <td>4.29</td>\n",
       "      <td>4.78</td>\n",
       "      <td>3.78</td>\n",
       "      <td>4.60</td>\n",
       "      <td>4.11</td>\n",
       "      <td>4.50</td>\n",
       "      <td>35.01</td>\n",
       "      <td>49</td>\n",
       "      <td>Bad</td>\n",
       "      <td>0</td>\n",
       "      <td>0.046711</td>\n",
       "      <td>0.325793</td>\n",
       "    </tr>\n",
       "    <tr>\n",
       "      <th>3</th>\n",
       "      <td>4</td>\n",
       "      <td>M</td>\n",
       "      <td>3.55</td>\n",
       "      <td>2.24</td>\n",
       "      <td>2.71</td>\n",
       "      <td>3.83</td>\n",
       "      <td>2.09</td>\n",
       "      <td>2.70</td>\n",
       "      <td>2.11</td>\n",
       "      <td>3.25</td>\n",
       "      <td>22.48</td>\n",
       "      <td>908</td>\n",
       "      <td>Good</td>\n",
       "      <td>1</td>\n",
       "      <td>0.029993</td>\n",
       "      <td>0.669435</td>\n",
       "    </tr>\n",
       "    <tr>\n",
       "      <th>4</th>\n",
       "      <td>5</td>\n",
       "      <td>F</td>\n",
       "      <td>4.90</td>\n",
       "      <td>4.71</td>\n",
       "      <td>4.76</td>\n",
       "      <td>4.83</td>\n",
       "      <td>3.35</td>\n",
       "      <td>4.65</td>\n",
       "      <td>4.78</td>\n",
       "      <td>5.00</td>\n",
       "      <td>36.98</td>\n",
       "      <td>241</td>\n",
       "      <td>Bad</td>\n",
       "      <td>0</td>\n",
       "      <td>0.049339</td>\n",
       "      <td>0.525622</td>\n",
       "    </tr>\n",
       "  </tbody>\n",
       "</table>\n",
       "</div>"
      ],
      "text/plain": [
       "   Youth ID gender   PWS    DL    SC    RC   HMM   WSL   CEP    LF  \\\n",
       "0         1      M  3.80  4.47  4.41  4.33  3.96  4.10  5.00  5.00   \n",
       "1         2      M  4.00  4.41  4.53  4.78  3.70  4.40  4.10  4.00   \n",
       "2         3      M  4.30  4.65  4.29  4.78  3.78  4.60  4.11  4.50   \n",
       "3         4      M  3.55  2.24  2.71  3.83  2.09  2.70  2.11  3.25   \n",
       "4         5      F  4.90  4.71  4.76  4.83  3.35  4.65  4.78  5.00   \n",
       "\n",
       "   grand_total  days_spent Category  result_score  fraud_alert   row_std  \n",
       "0        35.07         264     Good             1     0.046791  0.442620  \n",
       "1        33.92         467     Good             1     0.045256  0.349816  \n",
       "2        35.01          49      Bad             0     0.046711  0.325793  \n",
       "3        22.48         908     Good             1     0.029993  0.669435  \n",
       "4        36.98         241      Bad             0     0.049339  0.525622  "
      ]
     },
     "execution_count": 22,
     "metadata": {},
     "output_type": "execute_result"
    }
   ],
   "source": [
    "thp_df2[thp_df2[\"gender\"].isin([\"M\", \"F\"])].head()"
   ]
  },
  {
   "cell_type": "code",
   "execution_count": 23,
   "id": "c6071657",
   "metadata": {},
   "outputs": [
    {
     "name": "stdout",
     "output_type": "stream",
     "text": [
      "    Youth ID gender   PWS    DL    SC    RC   HMM   WSL   CEP    LF  \\\n",
      "0          1      M  3.80  4.47  4.41  4.33  3.96  4.10  5.00  5.00   \n",
      "1          2      M  4.00  4.41  4.53  4.78  3.70  4.40  4.10  4.00   \n",
      "3          4      M  3.55  2.24  2.71  3.83  2.09  2.70  2.11  3.25   \n",
      "6          7      M  3.50  4.53  4.82  4.44  3.70  4.05  3.33  4.00   \n",
      "10        11      M  3.35  4.00  3.88  3.83  3.57  3.65  3.22  4.75   \n",
      "12        13      F  4.35  4.53  4.82  4.67  3.70  4.80  3.89  4.88   \n",
      "13        14      F  5.00  4.94  5.00  5.00  5.00  4.75  5.00  5.00   \n",
      "14        15      M  3.95  4.47  4.47  4.50  3.43  4.10  4.00  4.12   \n",
      "15        16      F  4.95  5.00  4.94  4.94  4.91  5.00  5.00  5.00   \n",
      "16        17      M  3.60  4.65  3.94  4.22  3.57  4.10  3.11  4.75   \n",
      "18        19      F  3.40  4.72  4.78  5.00  4.10  4.58  3.44  4.71   \n",
      "20        21      M  3.60  4.35  3.82  3.94  3.48  4.15  3.56  3.88   \n",
      "21        22      M  2.50  3.35  3.12  3.44  2.83  3.00  3.78  3.30   \n",
      "\n",
      "    grand_total  days_spent Category  result_score  fraud_alert   row_std  \n",
      "0         35.07         264     Good             1     0.046791  0.442620  \n",
      "1         33.92         467     Good             1     0.045256  0.349816  \n",
      "3         22.48         908     Good             1     0.029993  0.669435  \n",
      "6         32.37         652     Good             1     0.043188  0.523885  \n",
      "10        30.25         708     Good             1     0.040360  0.472272  \n",
      "12        35.64         806     Good             1     0.047551  0.444811  \n",
      "13        39.69         225     Good             1     0.052955  0.087902  \n",
      "14        33.04        1026     Good             1     0.044082  0.360238  \n",
      "15        39.74         156     Good             1     0.053021  0.036547  \n",
      "16        31.94         260     Good             1     0.042615  0.558512  \n",
      "18        34.73         253     Good             1     0.046337  0.623273  \n",
      "20        30.78         885     Good             1     0.041067  0.300797  \n",
      "21        25.32         713     Good             1     0.033782  0.394606  \n"
     ]
    }
   ],
   "source": [
    "# Define a Series describing whether each Categopry is not Bad.      \n",
    "not_bad=~thp_df2[\"Category\"].isin([\"Bad\"])\n",
    "# Print 'thp_df2' without records related to youth in the 'Bad'category\n",
    "print(thp_df2[not_bad])"
   ]
  },
  {
   "cell_type": "code",
   "execution_count": null,
   "id": "b58f7356",
   "metadata": {},
   "outputs": [],
   "source": []
  },
  {
   "cell_type": "code",
   "execution_count": 24,
   "id": "613dd1ee",
   "metadata": {},
   "outputs": [
    {
     "data": {
      "text/html": [
       "<div>\n",
       "<style scoped>\n",
       "    .dataframe tbody tr th:only-of-type {\n",
       "        vertical-align: middle;\n",
       "    }\n",
       "\n",
       "    .dataframe tbody tr th {\n",
       "        vertical-align: top;\n",
       "    }\n",
       "\n",
       "    .dataframe thead th {\n",
       "        text-align: right;\n",
       "    }\n",
       "</style>\n",
       "<table border=\"1\" class=\"dataframe\">\n",
       "  <thead>\n",
       "    <tr style=\"text-align: right;\">\n",
       "      <th></th>\n",
       "      <th>Youth ID</th>\n",
       "      <th>PWS</th>\n",
       "      <th>DL</th>\n",
       "      <th>SC</th>\n",
       "      <th>RC</th>\n",
       "      <th>HMM</th>\n",
       "      <th>WSL</th>\n",
       "      <th>CEP</th>\n",
       "      <th>LF</th>\n",
       "      <th>grand_total</th>\n",
       "      <th>days_spent</th>\n",
       "      <th>result_score</th>\n",
       "      <th>fraud_alert</th>\n",
       "      <th>row_std</th>\n",
       "    </tr>\n",
       "  </thead>\n",
       "  <tbody>\n",
       "    <tr>\n",
       "      <th>0</th>\n",
       "      <td>1</td>\n",
       "      <td>3.80</td>\n",
       "      <td>4.47</td>\n",
       "      <td>4.41</td>\n",
       "      <td>4.33</td>\n",
       "      <td>3.96</td>\n",
       "      <td>4.10</td>\n",
       "      <td>5.00</td>\n",
       "      <td>5.00</td>\n",
       "      <td>35.07</td>\n",
       "      <td>264</td>\n",
       "      <td>1</td>\n",
       "      <td>0.046791</td>\n",
       "      <td>0.442620</td>\n",
       "    </tr>\n",
       "    <tr>\n",
       "      <th>1</th>\n",
       "      <td>2</td>\n",
       "      <td>4.00</td>\n",
       "      <td>4.41</td>\n",
       "      <td>4.53</td>\n",
       "      <td>4.78</td>\n",
       "      <td>3.70</td>\n",
       "      <td>4.40</td>\n",
       "      <td>4.10</td>\n",
       "      <td>4.00</td>\n",
       "      <td>33.92</td>\n",
       "      <td>467</td>\n",
       "      <td>1</td>\n",
       "      <td>0.045256</td>\n",
       "      <td>0.349816</td>\n",
       "    </tr>\n",
       "    <tr>\n",
       "      <th>2</th>\n",
       "      <td>3</td>\n",
       "      <td>4.30</td>\n",
       "      <td>4.65</td>\n",
       "      <td>4.29</td>\n",
       "      <td>4.78</td>\n",
       "      <td>3.78</td>\n",
       "      <td>4.60</td>\n",
       "      <td>4.11</td>\n",
       "      <td>4.50</td>\n",
       "      <td>35.01</td>\n",
       "      <td>49</td>\n",
       "      <td>0</td>\n",
       "      <td>0.046711</td>\n",
       "      <td>0.325793</td>\n",
       "    </tr>\n",
       "    <tr>\n",
       "      <th>3</th>\n",
       "      <td>4</td>\n",
       "      <td>3.55</td>\n",
       "      <td>2.24</td>\n",
       "      <td>2.71</td>\n",
       "      <td>3.83</td>\n",
       "      <td>2.09</td>\n",
       "      <td>2.70</td>\n",
       "      <td>2.11</td>\n",
       "      <td>3.25</td>\n",
       "      <td>22.48</td>\n",
       "      <td>908</td>\n",
       "      <td>1</td>\n",
       "      <td>0.029993</td>\n",
       "      <td>0.669435</td>\n",
       "    </tr>\n",
       "    <tr>\n",
       "      <th>4</th>\n",
       "      <td>5</td>\n",
       "      <td>4.90</td>\n",
       "      <td>4.71</td>\n",
       "      <td>4.76</td>\n",
       "      <td>4.83</td>\n",
       "      <td>3.35</td>\n",
       "      <td>4.65</td>\n",
       "      <td>4.78</td>\n",
       "      <td>5.00</td>\n",
       "      <td>36.98</td>\n",
       "      <td>241</td>\n",
       "      <td>0</td>\n",
       "      <td>0.049339</td>\n",
       "      <td>0.525622</td>\n",
       "    </tr>\n",
       "  </tbody>\n",
       "</table>\n",
       "</div>"
      ],
      "text/plain": [
       "   Youth ID   PWS    DL    SC    RC   HMM   WSL   CEP    LF  grand_total  \\\n",
       "0         1  3.80  4.47  4.41  4.33  3.96  4.10  5.00  5.00        35.07   \n",
       "1         2  4.00  4.41  4.53  4.78  3.70  4.40  4.10  4.00        33.92   \n",
       "2         3  4.30  4.65  4.29  4.78  3.78  4.60  4.11  4.50        35.01   \n",
       "3         4  3.55  2.24  2.71  3.83  2.09  2.70  2.11  3.25        22.48   \n",
       "4         5  4.90  4.71  4.76  4.83  3.35  4.65  4.78  5.00        36.98   \n",
       "\n",
       "   days_spent  result_score  fraud_alert   row_std  \n",
       "0         264             1     0.046791  0.442620  \n",
       "1         467             1     0.045256  0.349816  \n",
       "2          49             0     0.046711  0.325793  \n",
       "3         908             1     0.029993  0.669435  \n",
       "4         241             0     0.049339  0.525622  "
      ]
     },
     "execution_count": 24,
     "metadata": {},
     "output_type": "execute_result"
    }
   ],
   "source": [
    "#validating numerical data\n",
    "#viewing only numerical columns \n",
    "\n",
    "thp_df2.select_dtypes(\"number\").head()"
   ]
  },
  {
   "cell_type": "markdown",
   "id": "158e087a",
   "metadata": {},
   "source": [
    "## Summarizing Data "
   ]
  },
  {
   "cell_type": "code",
   "execution_count": 25,
   "id": "4b42a44b",
   "metadata": {},
   "outputs": [
    {
     "data": {
      "text/html": [
       "<div>\n",
       "<style scoped>\n",
       "    .dataframe tbody tr th:only-of-type {\n",
       "        vertical-align: middle;\n",
       "    }\n",
       "\n",
       "    .dataframe tbody tr th {\n",
       "        vertical-align: top;\n",
       "    }\n",
       "\n",
       "    .dataframe thead th {\n",
       "        text-align: right;\n",
       "    }\n",
       "</style>\n",
       "<table border=\"1\" class=\"dataframe\">\n",
       "  <thead>\n",
       "    <tr style=\"text-align: right;\">\n",
       "      <th></th>\n",
       "      <th>Youth ID</th>\n",
       "      <th>gender</th>\n",
       "      <th>PWS</th>\n",
       "      <th>DL</th>\n",
       "      <th>SC</th>\n",
       "      <th>RC</th>\n",
       "      <th>HMM</th>\n",
       "      <th>WSL</th>\n",
       "      <th>CEP</th>\n",
       "      <th>LF</th>\n",
       "      <th>grand_total</th>\n",
       "      <th>days_spent</th>\n",
       "      <th>Category</th>\n",
       "      <th>result_score</th>\n",
       "      <th>fraud_alert</th>\n",
       "      <th>row_std</th>\n",
       "    </tr>\n",
       "  </thead>\n",
       "  <tbody>\n",
       "    <tr>\n",
       "      <th>0</th>\n",
       "      <td>1</td>\n",
       "      <td>M</td>\n",
       "      <td>3.80</td>\n",
       "      <td>4.47</td>\n",
       "      <td>4.41</td>\n",
       "      <td>4.33</td>\n",
       "      <td>3.96</td>\n",
       "      <td>4.10</td>\n",
       "      <td>5.00</td>\n",
       "      <td>5.00</td>\n",
       "      <td>35.07</td>\n",
       "      <td>264</td>\n",
       "      <td>Good</td>\n",
       "      <td>1</td>\n",
       "      <td>0.046791</td>\n",
       "      <td>0.442620</td>\n",
       "    </tr>\n",
       "    <tr>\n",
       "      <th>1</th>\n",
       "      <td>2</td>\n",
       "      <td>M</td>\n",
       "      <td>4.00</td>\n",
       "      <td>4.41</td>\n",
       "      <td>4.53</td>\n",
       "      <td>4.78</td>\n",
       "      <td>3.70</td>\n",
       "      <td>4.40</td>\n",
       "      <td>4.10</td>\n",
       "      <td>4.00</td>\n",
       "      <td>33.92</td>\n",
       "      <td>467</td>\n",
       "      <td>Good</td>\n",
       "      <td>1</td>\n",
       "      <td>0.045256</td>\n",
       "      <td>0.349816</td>\n",
       "    </tr>\n",
       "    <tr>\n",
       "      <th>2</th>\n",
       "      <td>3</td>\n",
       "      <td>M</td>\n",
       "      <td>4.30</td>\n",
       "      <td>4.65</td>\n",
       "      <td>4.29</td>\n",
       "      <td>4.78</td>\n",
       "      <td>3.78</td>\n",
       "      <td>4.60</td>\n",
       "      <td>4.11</td>\n",
       "      <td>4.50</td>\n",
       "      <td>35.01</td>\n",
       "      <td>49</td>\n",
       "      <td>Bad</td>\n",
       "      <td>0</td>\n",
       "      <td>0.046711</td>\n",
       "      <td>0.325793</td>\n",
       "    </tr>\n",
       "    <tr>\n",
       "      <th>3</th>\n",
       "      <td>4</td>\n",
       "      <td>M</td>\n",
       "      <td>3.55</td>\n",
       "      <td>2.24</td>\n",
       "      <td>2.71</td>\n",
       "      <td>3.83</td>\n",
       "      <td>2.09</td>\n",
       "      <td>2.70</td>\n",
       "      <td>2.11</td>\n",
       "      <td>3.25</td>\n",
       "      <td>22.48</td>\n",
       "      <td>908</td>\n",
       "      <td>Good</td>\n",
       "      <td>1</td>\n",
       "      <td>0.029993</td>\n",
       "      <td>0.669435</td>\n",
       "    </tr>\n",
       "    <tr>\n",
       "      <th>4</th>\n",
       "      <td>5</td>\n",
       "      <td>F</td>\n",
       "      <td>4.90</td>\n",
       "      <td>4.71</td>\n",
       "      <td>4.76</td>\n",
       "      <td>4.83</td>\n",
       "      <td>3.35</td>\n",
       "      <td>4.65</td>\n",
       "      <td>4.78</td>\n",
       "      <td>5.00</td>\n",
       "      <td>36.98</td>\n",
       "      <td>241</td>\n",
       "      <td>Bad</td>\n",
       "      <td>0</td>\n",
       "      <td>0.049339</td>\n",
       "      <td>0.525622</td>\n",
       "    </tr>\n",
       "  </tbody>\n",
       "</table>\n",
       "</div>"
      ],
      "text/plain": [
       "   Youth ID gender   PWS    DL    SC    RC   HMM   WSL   CEP    LF  \\\n",
       "0         1      M  3.80  4.47  4.41  4.33  3.96  4.10  5.00  5.00   \n",
       "1         2      M  4.00  4.41  4.53  4.78  3.70  4.40  4.10  4.00   \n",
       "2         3      M  4.30  4.65  4.29  4.78  3.78  4.60  4.11  4.50   \n",
       "3         4      M  3.55  2.24  2.71  3.83  2.09  2.70  2.11  3.25   \n",
       "4         5      F  4.90  4.71  4.76  4.83  3.35  4.65  4.78  5.00   \n",
       "\n",
       "   grand_total  days_spent Category  result_score  fraud_alert   row_std  \n",
       "0        35.07         264     Good             1     0.046791  0.442620  \n",
       "1        33.92         467     Good             1     0.045256  0.349816  \n",
       "2        35.01          49      Bad             0     0.046711  0.325793  \n",
       "3        22.48         908     Good             1     0.029993  0.669435  \n",
       "4        36.98         241      Bad             0     0.049339  0.525622  "
      ]
     },
     "execution_count": 25,
     "metadata": {},
     "output_type": "execute_result"
    }
   ],
   "source": [
    "thp_df2.head()"
   ]
  },
  {
   "cell_type": "code",
   "execution_count": 26,
   "id": "3d0c81e9",
   "metadata": {},
   "outputs": [
    {
     "name": "stderr",
     "output_type": "stream",
     "text": [
      "/var/folders/zx/f1n4qhss7qq5b_ypxdtf1xr00000gn/T/ipykernel_1683/3563244261.py:1: FutureWarning: The default value of numeric_only in DataFrameGroupBy.mean is deprecated. In a future version, numeric_only will default to False. Either specify numeric_only or select only columns which should be valid for the function.\n",
      "  thp_df2.groupby(\"gender\").mean()\n"
     ]
    },
    {
     "data": {
      "text/html": [
       "<div>\n",
       "<style scoped>\n",
       "    .dataframe tbody tr th:only-of-type {\n",
       "        vertical-align: middle;\n",
       "    }\n",
       "\n",
       "    .dataframe tbody tr th {\n",
       "        vertical-align: top;\n",
       "    }\n",
       "\n",
       "    .dataframe thead th {\n",
       "        text-align: right;\n",
       "    }\n",
       "</style>\n",
       "<table border=\"1\" class=\"dataframe\">\n",
       "  <thead>\n",
       "    <tr style=\"text-align: right;\">\n",
       "      <th></th>\n",
       "      <th>Youth ID</th>\n",
       "      <th>PWS</th>\n",
       "      <th>DL</th>\n",
       "      <th>SC</th>\n",
       "      <th>RC</th>\n",
       "      <th>HMM</th>\n",
       "      <th>WSL</th>\n",
       "      <th>CEP</th>\n",
       "      <th>LF</th>\n",
       "      <th>grand_total</th>\n",
       "      <th>days_spent</th>\n",
       "      <th>result_score</th>\n",
       "      <th>fraud_alert</th>\n",
       "      <th>row_std</th>\n",
       "    </tr>\n",
       "    <tr>\n",
       "      <th>gender</th>\n",
       "      <th></th>\n",
       "      <th></th>\n",
       "      <th></th>\n",
       "      <th></th>\n",
       "      <th></th>\n",
       "      <th></th>\n",
       "      <th></th>\n",
       "      <th></th>\n",
       "      <th></th>\n",
       "      <th></th>\n",
       "      <th></th>\n",
       "      <th></th>\n",
       "      <th></th>\n",
       "      <th></th>\n",
       "    </tr>\n",
       "  </thead>\n",
       "  <tbody>\n",
       "    <tr>\n",
       "      <th>F</th>\n",
       "      <td>12.833333</td>\n",
       "      <td>4.558333</td>\n",
       "      <td>4.718333</td>\n",
       "      <td>4.765000</td>\n",
       "      <td>4.896667</td>\n",
       "      <td>4.14000</td>\n",
       "      <td>4.621667</td>\n",
       "      <td>4.221667</td>\n",
       "      <td>4.911667</td>\n",
       "      <td>36.833333</td>\n",
       "      <td>359.5000</td>\n",
       "      <td>0.666667</td>\n",
       "      <td>0.049143</td>\n",
       "      <td>0.386279</td>\n",
       "    </tr>\n",
       "    <tr>\n",
       "      <th>M</th>\n",
       "      <td>11.000000</td>\n",
       "      <td>3.950000</td>\n",
       "      <td>4.270000</td>\n",
       "      <td>4.264375</td>\n",
       "      <td>4.421875</td>\n",
       "      <td>3.74625</td>\n",
       "      <td>4.099375</td>\n",
       "      <td>3.901875</td>\n",
       "      <td>4.378125</td>\n",
       "      <td>33.031875</td>\n",
       "      <td>518.8125</td>\n",
       "      <td>0.562500</td>\n",
       "      <td>0.044071</td>\n",
       "      <td>0.354688</td>\n",
       "    </tr>\n",
       "  </tbody>\n",
       "</table>\n",
       "</div>"
      ],
      "text/plain": [
       "         Youth ID       PWS        DL        SC        RC      HMM       WSL  \\\n",
       "gender                                                                         \n",
       "F       12.833333  4.558333  4.718333  4.765000  4.896667  4.14000  4.621667   \n",
       "M       11.000000  3.950000  4.270000  4.264375  4.421875  3.74625  4.099375   \n",
       "\n",
       "             CEP        LF  grand_total  days_spent  result_score  \\\n",
       "gender                                                              \n",
       "F       4.221667  4.911667    36.833333    359.5000      0.666667   \n",
       "M       3.901875  4.378125    33.031875    518.8125      0.562500   \n",
       "\n",
       "        fraud_alert   row_std  \n",
       "gender                         \n",
       "F          0.049143  0.386279  \n",
       "M          0.044071  0.354688  "
      ]
     },
     "execution_count": 26,
     "metadata": {},
     "output_type": "execute_result"
    }
   ],
   "source": [
    "thp_df2.groupby(\"gender\").mean()"
   ]
  },
  {
   "cell_type": "markdown",
   "id": "187e35c4",
   "metadata": {},
   "source": [
    "#### **AS you can see Females have higher total assesment & fraud_alert scores then Men.**"
   ]
  },
  {
   "cell_type": "code",
   "execution_count": 27,
   "id": "0c915282",
   "metadata": {},
   "outputs": [
    {
     "name": "stderr",
     "output_type": "stream",
     "text": [
      "/var/folders/zx/f1n4qhss7qq5b_ypxdtf1xr00000gn/T/ipykernel_1683/606738719.py:1: FutureWarning: ['gender', 'Category'] did not aggregate successfully. If any error is raised this will raise in a future version of pandas. Drop these columns/ops to avoid this warning.\n",
      "  thp_df2.agg([\"mean\", \"std\"])\n"
     ]
    },
    {
     "data": {
      "text/html": [
       "<div>\n",
       "<style scoped>\n",
       "    .dataframe tbody tr th:only-of-type {\n",
       "        vertical-align: middle;\n",
       "    }\n",
       "\n",
       "    .dataframe tbody tr th {\n",
       "        vertical-align: top;\n",
       "    }\n",
       "\n",
       "    .dataframe thead th {\n",
       "        text-align: right;\n",
       "    }\n",
       "</style>\n",
       "<table border=\"1\" class=\"dataframe\">\n",
       "  <thead>\n",
       "    <tr style=\"text-align: right;\">\n",
       "      <th></th>\n",
       "      <th>Youth ID</th>\n",
       "      <th>PWS</th>\n",
       "      <th>DL</th>\n",
       "      <th>SC</th>\n",
       "      <th>RC</th>\n",
       "      <th>HMM</th>\n",
       "      <th>WSL</th>\n",
       "      <th>CEP</th>\n",
       "      <th>LF</th>\n",
       "      <th>grand_total</th>\n",
       "      <th>days_spent</th>\n",
       "      <th>result_score</th>\n",
       "      <th>fraud_alert</th>\n",
       "      <th>row_std</th>\n",
       "    </tr>\n",
       "  </thead>\n",
       "  <tbody>\n",
       "    <tr>\n",
       "      <th>mean</th>\n",
       "      <td>11.500000</td>\n",
       "      <td>4.115909</td>\n",
       "      <td>4.392273</td>\n",
       "      <td>4.400909</td>\n",
       "      <td>4.551364</td>\n",
       "      <td>3.853636</td>\n",
       "      <td>4.241818</td>\n",
       "      <td>3.989091</td>\n",
       "      <td>4.523636</td>\n",
       "      <td>34.068636</td>\n",
       "      <td>475.363636</td>\n",
       "      <td>0.590909</td>\n",
       "      <td>0.045455</td>\n",
       "      <td>0.363303</td>\n",
       "    </tr>\n",
       "    <tr>\n",
       "      <th>std</th>\n",
       "      <td>6.493587</td>\n",
       "      <td>0.742965</td>\n",
       "      <td>0.683241</td>\n",
       "      <td>0.617953</td>\n",
       "      <td>0.477466</td>\n",
       "      <td>0.719739</td>\n",
       "      <td>0.661727</td>\n",
       "      <td>0.817650</td>\n",
       "      <td>0.562126</td>\n",
       "      <td>4.729559</td>\n",
       "      <td>282.466778</td>\n",
       "      <td>0.503236</td>\n",
       "      <td>0.006310</td>\n",
       "      <td>0.199258</td>\n",
       "    </tr>\n",
       "  </tbody>\n",
       "</table>\n",
       "</div>"
      ],
      "text/plain": [
       "       Youth ID       PWS        DL        SC        RC       HMM       WSL  \\\n",
       "mean  11.500000  4.115909  4.392273  4.400909  4.551364  3.853636  4.241818   \n",
       "std    6.493587  0.742965  0.683241  0.617953  0.477466  0.719739  0.661727   \n",
       "\n",
       "           CEP        LF  grand_total  days_spent  result_score  fraud_alert  \\\n",
       "mean  3.989091  4.523636    34.068636  475.363636      0.590909     0.045455   \n",
       "std   0.817650  0.562126     4.729559  282.466778      0.503236     0.006310   \n",
       "\n",
       "       row_std  \n",
       "mean  0.363303  \n",
       "std   0.199258  "
      ]
     },
     "execution_count": 27,
     "metadata": {},
     "output_type": "execute_result"
    }
   ],
   "source": [
    "thp_df2.agg([\"mean\", \"std\"])"
   ]
  },
  {
   "cell_type": "code",
   "execution_count": 29,
   "id": "317aead1",
   "metadata": {},
   "outputs": [
    {
     "data": {
      "text/html": [
       "<div>\n",
       "<style scoped>\n",
       "    .dataframe tbody tr th:only-of-type {\n",
       "        vertical-align: middle;\n",
       "    }\n",
       "\n",
       "    .dataframe tbody tr th {\n",
       "        vertical-align: top;\n",
       "    }\n",
       "\n",
       "    .dataframe thead th {\n",
       "        text-align: right;\n",
       "    }\n",
       "</style>\n",
       "<table border=\"1\" class=\"dataframe\">\n",
       "  <thead>\n",
       "    <tr style=\"text-align: right;\">\n",
       "      <th></th>\n",
       "      <th>grand_total</th>\n",
       "      <th>fraud_alert</th>\n",
       "    </tr>\n",
       "  </thead>\n",
       "  <tbody>\n",
       "    <tr>\n",
       "      <th>mean</th>\n",
       "      <td>34.068636</td>\n",
       "      <td>NaN</td>\n",
       "    </tr>\n",
       "    <tr>\n",
       "      <th>std</th>\n",
       "      <td>4.729559</td>\n",
       "      <td>NaN</td>\n",
       "    </tr>\n",
       "    <tr>\n",
       "      <th>median</th>\n",
       "      <td>NaN</td>\n",
       "      <td>0.046524</td>\n",
       "    </tr>\n",
       "  </tbody>\n",
       "</table>\n",
       "</div>"
      ],
      "text/plain": [
       "        grand_total  fraud_alert\n",
       "mean      34.068636          NaN\n",
       "std        4.729559          NaN\n",
       "median          NaN     0.046524"
      ]
     },
     "execution_count": 29,
     "metadata": {},
     "output_type": "execute_result"
    }
   ],
   "source": [
    "#Creat a dict to specify aggregations for columns \n",
    "thp_df2.agg({\"grand_total\":[\"mean\", \"std\"], \"fraud_alert\":[\"median\"]})"
   ]
  },
  {
   "cell_type": "code",
   "execution_count": 30,
   "id": "ff8e0c9f",
   "metadata": {},
   "outputs": [
    {
     "data": {
      "text/html": [
       "<div>\n",
       "<style scoped>\n",
       "    .dataframe tbody tr th:only-of-type {\n",
       "        vertical-align: middle;\n",
       "    }\n",
       "\n",
       "    .dataframe tbody tr th {\n",
       "        vertical-align: top;\n",
       "    }\n",
       "\n",
       "    .dataframe thead th {\n",
       "        text-align: right;\n",
       "    }\n",
       "</style>\n",
       "<table border=\"1\" class=\"dataframe\">\n",
       "  <thead>\n",
       "    <tr style=\"text-align: right;\">\n",
       "      <th></th>\n",
       "      <th>mean_total_score</th>\n",
       "      <th>std_total_score</th>\n",
       "      <th>median_fraud_alert</th>\n",
       "    </tr>\n",
       "    <tr>\n",
       "      <th>Category</th>\n",
       "      <th></th>\n",
       "      <th></th>\n",
       "      <th></th>\n",
       "    </tr>\n",
       "  </thead>\n",
       "  <tbody>\n",
       "    <tr>\n",
       "      <th>Bad</th>\n",
       "      <td>36.06</td>\n",
       "      <td>3.899538</td>\n",
       "      <td>0.049272</td>\n",
       "    </tr>\n",
       "    <tr>\n",
       "      <th>Good</th>\n",
       "      <td>32.69</td>\n",
       "      <td>4.896376</td>\n",
       "      <td>0.044082</td>\n",
       "    </tr>\n",
       "  </tbody>\n",
       "</table>\n",
       "</div>"
      ],
      "text/plain": [
       "          mean_total_score  std_total_score  median_fraud_alert\n",
       "Category                                                       \n",
       "Bad                  36.06         3.899538            0.049272\n",
       "Good                 32.69         4.896376            0.044082"
      ]
     },
     "execution_count": 30,
     "metadata": {},
     "output_type": "execute_result"
    }
   ],
   "source": [
    "thp_df2.groupby(\"Category\").agg(\n",
    "    mean_total_score=(\"grand_total\", \"mean\"),\n",
    "    std_total_score=(\"grand_total\" , \"std\"),\n",
    "    median_fraud_alert=(\"fraud_alert\", \"median\")\n",
    ")\n"
   ]
  },
  {
   "cell_type": "markdown",
   "id": "2cac859c",
   "metadata": {},
   "source": [
    "###  We can see that the 'Good' category has the lowest average 'grand_total' as well as the largest variation in 'total_score'."
   ]
  },
  {
   "cell_type": "code",
   "execution_count": 32,
   "id": "c1cac439",
   "metadata": {},
   "outputs": [
    {
     "data": {
      "image/png": "[encoded data removed]",
      "text/plain": [
       "<Figure size 640x480 with 1 Axes>"
      ]
     },
     "metadata": {},
     "output_type": "display_data"
    }
   ],
   "source": [
    "# create bar plot with confidence intervals for categorical data \n",
    "sns.barplot(data=thp_df2, x=\"Category\", y=\"grand_total\")\n",
    "plt.show()"
   ]
  },
  {
   "cell_type": "markdown",
   "id": "726de19c",
   "metadata": {},
   "source": [
    "### The bar plot confirms that while 'Good' youth have the lowest 'grand_total'.  The 'Good' category  also has a smaller confidence interval for that average, so the average value is more reliable."
   ]
  },
  {
   "cell_type": "code",
   "execution_count": 34,
   "id": "c825fc49",
   "metadata": {},
   "outputs": [
    {
     "name": "stderr",
     "output_type": "stream",
     "text": [
      "/var/folders/zx/f1n4qhss7qq5b_ypxdtf1xr00000gn/T/ipykernel_1683/243899695.py:2: FutureWarning: The default value of numeric_only in DataFrame.corr is deprecated. In a future version, it will default to False. Select only valid columns or specify the value of numeric_only to silence this warning.\n",
      "  c= thp_df2.corr()\n"
     ]
    },
    {
     "data": {
      "text/plain": [
       "<Axes: >"
      ]
     },
     "execution_count": 34,
     "metadata": {},
     "output_type": "execute_result"
    },
    {
     "data": {
      "image/png": "[encoded data removed]",
      "text/plain": [
       "<Figure size 1000x500 with 2 Axes>"
      ]
     },
     "metadata": {},
     "output_type": "display_data"
    }
   ],
   "source": [
    "plt.figure(figsize=(10,5))\n",
    "c= thp_df2.corr()\n",
    "sns.heatmap(c,cmap=\"BrBG\",annot=True)"
   ]
  },
  {
   "cell_type": "code",
   "execution_count": null,
   "id": "8c736160",
   "metadata": {},
   "outputs": [],
   "source": []
  },
  {
   "cell_type": "code",
   "execution_count": 33,
   "id": "fe971e0d",
   "metadata": {
    "scrolled": false
   },
   "outputs": [
    {
     "data": {
      "text/plain": [
       "<Axes: xlabel='WSL', ylabel='fraud_alert'>"
      ]
     },
     "execution_count": 33,
     "metadata": {},
     "output_type": "execute_result"
    },
    {
     "data": {
      "image/png": "[encoded data removed]",
      "text/plain": [
       "<Figure size 640x480 with 1 Axes>"
      ]
     },
     "metadata": {},
     "output_type": "display_data"
    }
   ],
   "source": [
    "sns.regplot(x='WSL', y='fraud_alert', data=thp_df2)"
   ]
  },
  {
   "cell_type": "code",
   "execution_count": 35,
   "id": "5cfc20af",
   "metadata": {},
   "outputs": [
    {
     "name": "stdout",
     "output_type": "stream",
     "text": [
      "The Pearson Correlation Coefficient is 0.956579554093037 with a P-value of P = 3.5923593163585692e-12\n"
     ]
    }
   ],
   "source": [
    "import scipy.stats as stats\n",
    "\n",
    "pearson_coef, p_value = stats.pearsonr(thp_df2['WSL'], thp_df2['fraud_alert'])\n",
    "print(\"The Pearson Correlation Coefficient is\", pearson_coef, \"with a P-value of P =\", p_value)"
   ]
  },
  {
   "cell_type": "markdown",
   "id": "066354a4",
   "metadata": {},
   "source": [
    "### Statistical Analysis of \"WSL\" and \"fraud_alert\"\n",
    "\n",
    "The Pearson correlation coefficient of 0.956579 indicates an extremely strong positive linear relationship between the variables \"Work & Study Life (WSL)\" and \"fraud_alert.\" This high coefficient suggests that as \"fraud_alert\" increases, \"WSL\" also tends to increase, signifying a strong positive association between these two variables.\n",
    "\n",
    "The p-value associated with this correlation is approximately 0.00000000000359, which is exceedingly small and well below the commonly used significance level of 0.05. This extremely low p-value indicates that the correlation observed is statistically significant and highly unlikely to have occurred by random chance.\n",
    "\n",
    "Given that the p-value is less than 0.001, there is robust evidence supporting the significance of the correlation between \"WSL\" and \"fraud_alert.\" This significant correlation suggests a meaningful and potentially impactful relationship, highlighting that changes in \"fraud_alert\" are closely linked to variations in \"WSL.\""
   ]
  },
  {
   "cell_type": "code",
   "execution_count": 36,
   "id": "47138927",
   "metadata": {
    "scrolled": false
   },
   "outputs": [
    {
     "data": {
      "text/plain": [
       "<Axes: xlabel='LF', ylabel='fraud_alert'>"
      ]
     },
     "execution_count": 36,
     "metadata": {},
     "output_type": "execute_result"
    },
    {
     "data": {
      "image/png": "[encoded data removed]",
      "text/plain": [
       "<Figure size 640x480 with 1 Axes>"
      ]
     },
     "metadata": {},
     "output_type": "display_data"
    }
   ],
   "source": [
    "sns.regplot(x='LF', y='fraud_alert', data=thp_df2)\n"
   ]
  },
  {
   "cell_type": "code",
   "execution_count": 37,
   "id": "0453aa67",
   "metadata": {},
   "outputs": [
    {
     "name": "stdout",
     "output_type": "stream",
     "text": [
      "The Pearson Correlation Coefficient is 0.862067149995417 with a P-value of P = 2.5147359623266146e-07\n"
     ]
    }
   ],
   "source": [
    "pearson_coef, p_value = stats.pearsonr(thp_df2['LF'], thp_df2['fraud_alert'])\n",
    "print(\"The Pearson Correlation Coefficient is\", pearson_coef, \"with a P-value of P =\", p_value)"
   ]
  },
  {
   "cell_type": "code",
   "execution_count": 38,
   "id": "0c0bd689",
   "metadata": {},
   "outputs": [
    {
     "data": {
      "text/plain": [
       "<Axes: xlabel='HMM', ylabel='fraud_alert'>"
      ]
     },
     "execution_count": 38,
     "metadata": {},
     "output_type": "execute_result"
    },
    {
     "data": {
      "image/png": "[encoded data removed]",
      "text/plain": [
       "<Figure size 640x480 with 1 Axes>"
      ]
     },
     "metadata": {},
     "output_type": "display_data"
    }
   ],
   "source": [
    "sns.regplot(x='HMM', y='fraud_alert', data=thp_df2)"
   ]
  },
  {
   "cell_type": "code",
   "execution_count": 39,
   "id": "e64d5168",
   "metadata": {},
   "outputs": [
    {
     "name": "stdout",
     "output_type": "stream",
     "text": [
      "The Pearson Correlation Coefficient is 0.9116836036347798 with a P-value of P = 3.604113634069283e-09\n"
     ]
    }
   ],
   "source": [
    "pearson_coef, p_value = stats.pearsonr(thp_df2['HMM'], thp_df2['fraud_alert'])\n",
    "print(\"The Pearson Correlation Coefficient is\", pearson_coef, \"with a P-value of P =\", p_value)"
   ]
  },
  {
   "cell_type": "code",
   "execution_count": 42,
   "id": "c3b92269",
   "metadata": {},
   "outputs": [
    {
     "name": "stdout",
     "output_type": "stream",
     "text": [
      "Males Success Rate: 0.56\n",
      "Females Success Rate: 0.67\n"
     ]
    }
   ],
   "source": [
    "#This will give you the success rates for males and females separately. Are the rates notiably different? \n",
    "males_success_rate = thp_df2[thp_df2['gender'] == 'M']['result_score'].mean()\n",
    "females_success_rate = thp_df2[thp_df2['gender'] == 'F']['result_score'].mean()\n",
    "\n",
    "print(f\"Males Success Rate: {males_success_rate:.2f}\")\n",
    "print(f\"Females Success Rate: {females_success_rate:.2f}\")"
   ]
  },
  {
   "cell_type": "code",
   "execution_count": 44,
   "id": "2cbc98c1",
   "metadata": {},
   "outputs": [
    {
     "name": "stdout",
     "output_type": "stream",
     "text": [
      "Males fraud Rate: 0.04\n",
      "Females fraud Rate: 0.05\n"
     ]
    }
   ],
   "source": [
    "#This will give you the fraud rates for males and females separately. Are the rates notiably different? \n",
    "males_fraud_rate = thp_df2[thp_df2['gender'] == 'M']['fraud_alert'].mean()\n",
    "females_fraud_rate = thp_df2[thp_df2['gender'] == 'F']['fraud_alert'].mean()\n",
    "\n",
    "print(f\"Males fraud Rate: {males_fraud_rate:.2f}\")\n",
    "print(f\"Females fraud Rate: {females_fraud_rate:.2f}\")"
   ]
  },
  {
   "cell_type": "markdown",
   "id": "ce20cf0d",
   "metadata": {},
   "source": [
    "Here's a refined version of your summary:\n",
    "\n",
    "### Summary of Findings\n",
    "\n",
    "The analysis indicates a notable difference in the average \"fraud_alert\" values between males and females within the dataset. Specifically, males generally exhibit lower \"fraud_alert\" values, averaging 0.04, whereas females display higher averages, at 0.05. These figures represent the extent of the differences on the \"fraud_alert\" scale, highlighting a gender-based disparity in the dataset."
   ]
  },
  {
   "cell_type": "code",
   "execution_count": 47,
   "id": "cee5f409",
   "metadata": {},
   "outputs": [
    {
     "data": {
      "text/plain": [
       "<Axes: xlabel='Category', ylabel='days_spent'>"
      ]
     },
     "execution_count": 47,
     "metadata": {},
     "output_type": "execute_result"
    },
    {
     "data": {
      "image/png": "[encoded data removed]",
      "text/plain": [
       "<Figure size 640x480 with 1 Axes>"
      ]
     },
     "metadata": {},
     "output_type": "display_data"
    }
   ],
   "source": [
    "sns.boxplot(x='Category', y='days_spent', data=thp_df2)"
   ]
  },
  {
   "cell_type": "markdown",
   "id": "0059f129",
   "metadata": {},
   "source": []
  },
  {
   "cell_type": "markdown",
   "id": "8204df49",
   "metadata": {},
   "source": []
  },
  {
   "cell_type": "code",
   "execution_count": 48,
   "id": "32820467",
   "metadata": {
    "scrolled": false
   },
   "outputs": [
    {
     "data": {
      "text/plain": [
       "<Axes: xlabel='Category', ylabel='fraud_alert'>"
      ]
     },
     "execution_count": 48,
     "metadata": {},
     "output_type": "execute_result"
    },
    {
     "data": {
      "image/png": "[encoded data removed]",
      "text/plain": [
       "<Figure size 640x480 with 1 Axes>"
      ]
     },
     "metadata": {},
     "output_type": "display_data"
    }
   ],
   "source": [
    "sns.boxplot(x='Category', y='fraud_alert', data=thp_df2)"
   ]
  },
  {
   "cell_type": "markdown",
   "id": "fe6b0481",
   "metadata": {},
   "source": [
    "### WSL is a potential perdictor for fraud_alert."
   ]
  },
  {
   "cell_type": "code",
   "execution_count": 49,
   "id": "b2403a98",
   "metadata": {},
   "outputs": [
    {
     "data": {
      "text/plain": [
       "<Axes: xlabel='row_std', ylabel='fraud_alert'>"
      ]
     },
     "execution_count": 49,
     "metadata": {},
     "output_type": "execute_result"
    },
    {
     "data": {
      "image/png": "[encoded data removed]",
      "text/plain": [
       "<Figure size 640x480 with 1 Axes>"
      ]
     },
     "metadata": {},
     "output_type": "display_data"
    }
   ],
   "source": [
    "sns.regplot(x='row_std', y='fraud_alert', data=thp_df2)"
   ]
  },
  {
   "cell_type": "code",
   "execution_count": 50,
   "id": "6b84485b",
   "metadata": {},
   "outputs": [
    {
     "data": {
      "text/plain": [
       "<Axes: xlabel='HMM', ylabel='row_std'>"
      ]
     },
     "execution_count": 50,
     "metadata": {},
     "output_type": "execute_result"
    },
    {
     "data": {
      "image/png": "[encoded data removed]",
      "text/plain": [
       "<Figure size 640x480 with 1 Axes>"
      ]
     },
     "metadata": {},
     "output_type": "display_data"
    }
   ],
   "source": [
    "sns.regplot(x='HMM', y='row_std', data=thp_df2)"
   ]
  },
  {
   "cell_type": "code",
   "execution_count": 51,
   "id": "37804e43",
   "metadata": {},
   "outputs": [
    {
     "data": {
      "text/html": [
       "<div>\n",
       "<style scoped>\n",
       "    .dataframe tbody tr th:only-of-type {\n",
       "        vertical-align: middle;\n",
       "    }\n",
       "\n",
       "    .dataframe tbody tr th {\n",
       "        vertical-align: top;\n",
       "    }\n",
       "\n",
       "    .dataframe thead th {\n",
       "        text-align: right;\n",
       "    }\n",
       "</style>\n",
       "<table border=\"1\" class=\"dataframe\">\n",
       "  <thead>\n",
       "    <tr style=\"text-align: right;\">\n",
       "      <th></th>\n",
       "      <th>row_std</th>\n",
       "      <th>fraud_alert</th>\n",
       "    </tr>\n",
       "  </thead>\n",
       "  <tbody>\n",
       "    <tr>\n",
       "      <th>row_std</th>\n",
       "      <td>1.000000</td>\n",
       "      <td>-0.678098</td>\n",
       "    </tr>\n",
       "    <tr>\n",
       "      <th>fraud_alert</th>\n",
       "      <td>-0.678098</td>\n",
       "      <td>1.000000</td>\n",
       "    </tr>\n",
       "  </tbody>\n",
       "</table>\n",
       "</div>"
      ],
      "text/plain": [
       "              row_std  fraud_alert\n",
       "row_std      1.000000    -0.678098\n",
       "fraud_alert -0.678098     1.000000"
      ]
     },
     "execution_count": 51,
     "metadata": {},
     "output_type": "execute_result"
    }
   ],
   "source": [
    "thp_df2[['row_std', 'fraud_alert']].corr()"
   ]
  },
  {
   "cell_type": "markdown",
   "id": "318418c8",
   "metadata": {},
   "source": [
    "### row_std is a potential perdictor for fraud_alert due to a some what strong negative correlation."
   ]
  },
  {
   "cell_type": "code",
   "execution_count": 52,
   "id": "c01a2bb9",
   "metadata": {},
   "outputs": [
    {
     "data": {
      "text/plain": [
       "<Axes: xlabel='Category', ylabel='PWS'>"
      ]
     },
     "execution_count": 52,
     "metadata": {},
     "output_type": "execute_result"
    },
    {
     "data": {
      "image/png": "[encoded data removed]",
      "text/plain": [
       "<Figure size 640x480 with 1 Axes>"
      ]
     },
     "metadata": {},
     "output_type": "display_data"
    }
   ],
   "source": [
    "sns.boxplot(x='Category', y='PWS', data=thp_df2)"
   ]
  },
  {
   "cell_type": "markdown",
   "id": "2386c087",
   "metadata": {},
   "source": [
    "### Analysis Interpretation\n",
    "\n",
    "The data suggests that youth who assessed themselves honestly and without bias tended to take the program more seriously, which correlated with greater success and longer tenure within the program. Conversely, those who assigned themselves higher scores, possibly under the misconception that higher scores would guarantee entry, generally had less successful outcomes, often resulting in discharge from the program. This pattern indicates that higher scores do not necessarily predict positive results; in fact, they may reflect a lack of self-awareness or unrealistic self-perceptions, leading to poorer performance in the program. Conversely, lower scores may indicate a more realistic self-assessment and a more earnest engagement with the program's objectives."
   ]
  },
  {
   "cell_type": "code",
   "execution_count": 54,
   "id": "801842ea",
   "metadata": {},
   "outputs": [
    {
     "data": {
      "text/html": [
       "<div>\n",
       "<style scoped>\n",
       "    .dataframe tbody tr th:only-of-type {\n",
       "        vertical-align: middle;\n",
       "    }\n",
       "\n",
       "    .dataframe tbody tr th {\n",
       "        vertical-align: top;\n",
       "    }\n",
       "\n",
       "    .dataframe thead th {\n",
       "        text-align: right;\n",
       "    }\n",
       "</style>\n",
       "<table border=\"1\" class=\"dataframe\">\n",
       "  <thead>\n",
       "    <tr style=\"text-align: right;\">\n",
       "      <th></th>\n",
       "      <th>PWS</th>\n",
       "      <th>DL</th>\n",
       "      <th>SC</th>\n",
       "      <th>RC</th>\n",
       "      <th>HMM</th>\n",
       "      <th>WSL</th>\n",
       "      <th>CEP</th>\n",
       "      <th>LF</th>\n",
       "      <th>days_spent</th>\n",
       "      <th>row_std</th>\n",
       "      <th>fraud_alert</th>\n",
       "    </tr>\n",
       "    <tr>\n",
       "      <th>Category</th>\n",
       "      <th></th>\n",
       "      <th></th>\n",
       "      <th></th>\n",
       "      <th></th>\n",
       "      <th></th>\n",
       "      <th></th>\n",
       "      <th></th>\n",
       "      <th></th>\n",
       "      <th></th>\n",
       "      <th></th>\n",
       "      <th></th>\n",
       "    </tr>\n",
       "  </thead>\n",
       "  <tbody>\n",
       "    <tr>\n",
       "      <th>Bad</th>\n",
       "      <td>4.555556</td>\n",
       "      <td>4.552222</td>\n",
       "      <td>4.620000</td>\n",
       "      <td>4.801111</td>\n",
       "      <td>4.082222</td>\n",
       "      <td>4.437778</td>\n",
       "      <td>4.246667</td>\n",
       "      <td>4.764444</td>\n",
       "      <td>348.333333</td>\n",
       "      <td>0.303107</td>\n",
       "      <td>0.048111</td>\n",
       "    </tr>\n",
       "    <tr>\n",
       "      <th>Good</th>\n",
       "      <td>3.811538</td>\n",
       "      <td>4.281538</td>\n",
       "      <td>4.249231</td>\n",
       "      <td>4.378462</td>\n",
       "      <td>3.695385</td>\n",
       "      <td>4.106154</td>\n",
       "      <td>3.810769</td>\n",
       "      <td>4.356923</td>\n",
       "      <td>563.307692</td>\n",
       "      <td>0.404978</td>\n",
       "      <td>0.043615</td>\n",
       "    </tr>\n",
       "  </tbody>\n",
       "</table>\n",
       "</div>"
      ],
      "text/plain": [
       "               PWS        DL        SC        RC       HMM       WSL  \\\n",
       "Category                                                               \n",
       "Bad       4.555556  4.552222  4.620000  4.801111  4.082222  4.437778   \n",
       "Good      3.811538  4.281538  4.249231  4.378462  3.695385  4.106154   \n",
       "\n",
       "               CEP        LF  days_spent   row_std  fraud_alert  \n",
       "Category                                                         \n",
       "Bad       4.246667  4.764444  348.333333  0.303107     0.048111  \n",
       "Good      3.810769  4.356923  563.307692  0.404978     0.043615  "
      ]
     },
     "execution_count": 54,
     "metadata": {},
     "output_type": "execute_result"
    }
   ],
   "source": [
    "#Group by 'Category' and calculate mean of selected columns\n",
    "category_groupby = thp_df2.groupby('Category')[['PWS', 'DL', 'SC', 'RC', 'HMM', 'WSL', 'CEP', 'LF', 'days_spent','row_std','fraud_alert']].mean()\n",
    "category_groupby"
   ]
  },
  {
   "cell_type": "code",
   "execution_count": 21,
   "id": "45a450cf",
   "metadata": {},
   "outputs": [
    {
     "data": {
      "image/png": "[encoded data removed]",
      "text/plain": [
       "<Figure size 640x480 with 1 Axes>"
      ]
     },
     "metadata": {},
     "output_type": "display_data"
    }
   ],
   "source": [
    "category_groupby['Days_in_Program'].plot(kind='bar', rot=90)\n",
    "plt.ylabel('AVG Days in Program')\n",
    "plt.title('AVG Days in Program by Category')\n",
    "plt.show()"
   ]
  },
  {
   "cell_type": "code",
   "execution_count": null,
   "id": "76342e4b",
   "metadata": {
    "scrolled": false
   },
   "outputs": [],
   "source": []
  },
  {
   "cell_type": "code",
   "execution_count": 56,
   "id": "26acc831",
   "metadata": {},
   "outputs": [
    {
     "data": {
      "text/html": [
       "<div>\n",
       "<style scoped>\n",
       "    .dataframe tbody tr th:only-of-type {\n",
       "        vertical-align: middle;\n",
       "    }\n",
       "\n",
       "    .dataframe tbody tr th {\n",
       "        vertical-align: top;\n",
       "    }\n",
       "\n",
       "    .dataframe thead th {\n",
       "        text-align: right;\n",
       "    }\n",
       "</style>\n",
       "<table border=\"1\" class=\"dataframe\">\n",
       "  <thead>\n",
       "    <tr style=\"text-align: right;\">\n",
       "      <th></th>\n",
       "      <th>PWS</th>\n",
       "      <th>DL</th>\n",
       "      <th>SC</th>\n",
       "      <th>RC</th>\n",
       "      <th>HMM</th>\n",
       "      <th>WSL</th>\n",
       "      <th>CEP</th>\n",
       "      <th>LF</th>\n",
       "      <th>days_spent</th>\n",
       "      <th>row_std</th>\n",
       "      <th>fraud_alert</th>\n",
       "    </tr>\n",
       "    <tr>\n",
       "      <th>gender</th>\n",
       "      <th></th>\n",
       "      <th></th>\n",
       "      <th></th>\n",
       "      <th></th>\n",
       "      <th></th>\n",
       "      <th></th>\n",
       "      <th></th>\n",
       "      <th></th>\n",
       "      <th></th>\n",
       "      <th></th>\n",
       "      <th></th>\n",
       "    </tr>\n",
       "  </thead>\n",
       "  <tbody>\n",
       "    <tr>\n",
       "      <th>F</th>\n",
       "      <td>4.558333</td>\n",
       "      <td>4.718333</td>\n",
       "      <td>4.765000</td>\n",
       "      <td>4.896667</td>\n",
       "      <td>4.14000</td>\n",
       "      <td>4.621667</td>\n",
       "      <td>4.221667</td>\n",
       "      <td>4.911667</td>\n",
       "      <td>359.5000</td>\n",
       "      <td>0.386279</td>\n",
       "      <td>0.049143</td>\n",
       "    </tr>\n",
       "    <tr>\n",
       "      <th>M</th>\n",
       "      <td>3.950000</td>\n",
       "      <td>4.270000</td>\n",
       "      <td>4.264375</td>\n",
       "      <td>4.421875</td>\n",
       "      <td>3.74625</td>\n",
       "      <td>4.099375</td>\n",
       "      <td>3.901875</td>\n",
       "      <td>4.378125</td>\n",
       "      <td>518.8125</td>\n",
       "      <td>0.354688</td>\n",
       "      <td>0.044071</td>\n",
       "    </tr>\n",
       "  </tbody>\n",
       "</table>\n",
       "</div>"
      ],
      "text/plain": [
       "             PWS        DL        SC        RC      HMM       WSL       CEP  \\\n",
       "gender                                                                        \n",
       "F       4.558333  4.718333  4.765000  4.896667  4.14000  4.621667  4.221667   \n",
       "M       3.950000  4.270000  4.264375  4.421875  3.74625  4.099375  3.901875   \n",
       "\n",
       "              LF  days_spent   row_std  fraud_alert  \n",
       "gender                                               \n",
       "F       4.911667    359.5000  0.386279     0.049143  \n",
       "M       4.378125    518.8125  0.354688     0.044071  "
      ]
     },
     "execution_count": 56,
     "metadata": {},
     "output_type": "execute_result"
    }
   ],
   "source": [
    "#Group by 'Gender' and calculate mean of selected columns\n",
    "gender_groupby = thp_df2.groupby('gender')[['PWS', 'DL', 'SC', 'RC', 'HMM', 'WSL', 'CEP', 'LF', 'days_spent','row_std','fraud_alert']].mean()\n",
    "gender_groupby"
   ]
  },
  {
   "cell_type": "code",
   "execution_count": 57,
   "id": "9cd6f6e9",
   "metadata": {
    "scrolled": false
   },
   "outputs": [
    {
     "data": {
      "image/png": "[encoded data removed]",
      "text/plain": [
       "<Figure size 640x480 with 1 Axes>"
      ]
     },
     "metadata": {},
     "output_type": "display_data"
    }
   ],
   "source": [
    "gender_groupby['days_spent'].plot(kind='bar', rot=360)\n",
    "plt.ylabel('AVG Days in Program')\n",
    "plt.title('AVG Days in Program by Gender')\n",
    "plt.show()"
   ]
  },
  {
   "cell_type": "code",
   "execution_count": 58,
   "id": "0906e721",
   "metadata": {},
   "outputs": [
    {
     "data": {
      "text/html": [
       "<div>\n",
       "<style scoped>\n",
       "    .dataframe tbody tr th:only-of-type {\n",
       "        vertical-align: middle;\n",
       "    }\n",
       "\n",
       "    .dataframe tbody tr th {\n",
       "        vertical-align: top;\n",
       "    }\n",
       "\n",
       "    .dataframe thead th {\n",
       "        text-align: right;\n",
       "    }\n",
       "</style>\n",
       "<table border=\"1\" class=\"dataframe\">\n",
       "  <thead>\n",
       "    <tr style=\"text-align: right;\">\n",
       "      <th></th>\n",
       "      <th>row_std</th>\n",
       "      <th>fraud_alert</th>\n",
       "    </tr>\n",
       "  </thead>\n",
       "  <tbody>\n",
       "    <tr>\n",
       "      <th>row_std</th>\n",
       "      <td>1.000000</td>\n",
       "      <td>-0.678098</td>\n",
       "    </tr>\n",
       "    <tr>\n",
       "      <th>fraud_alert</th>\n",
       "      <td>-0.678098</td>\n",
       "      <td>1.000000</td>\n",
       "    </tr>\n",
       "  </tbody>\n",
       "</table>\n",
       "</div>"
      ],
      "text/plain": [
       "              row_std  fraud_alert\n",
       "row_std      1.000000    -0.678098\n",
       "fraud_alert -0.678098     1.000000"
      ]
     },
     "execution_count": 58,
     "metadata": {},
     "output_type": "execute_result"
    }
   ],
   "source": [
    "thp_df2[['row_std', 'fraud_alert']].corr()"
   ]
  },
  {
   "cell_type": "code",
   "execution_count": 59,
   "id": "5b93bc96",
   "metadata": {},
   "outputs": [
    {
     "data": {
      "text/html": [
       "<div>\n",
       "<style scoped>\n",
       "    .dataframe tbody tr th:only-of-type {\n",
       "        vertical-align: middle;\n",
       "    }\n",
       "\n",
       "    .dataframe tbody tr th {\n",
       "        vertical-align: top;\n",
       "    }\n",
       "\n",
       "    .dataframe thead th {\n",
       "        text-align: right;\n",
       "    }\n",
       "</style>\n",
       "<table border=\"1\" class=\"dataframe\">\n",
       "  <thead>\n",
       "    <tr style=\"text-align: right;\">\n",
       "      <th></th>\n",
       "      <th>Youth ID</th>\n",
       "      <th>PWS</th>\n",
       "      <th>DL</th>\n",
       "      <th>SC</th>\n",
       "      <th>RC</th>\n",
       "      <th>HMM</th>\n",
       "      <th>WSL</th>\n",
       "      <th>CEP</th>\n",
       "      <th>LF</th>\n",
       "      <th>grand_total</th>\n",
       "      <th>days_spent</th>\n",
       "      <th>result_score</th>\n",
       "      <th>fraud_alert</th>\n",
       "      <th>row_std</th>\n",
       "    </tr>\n",
       "  </thead>\n",
       "  <tbody>\n",
       "    <tr>\n",
       "      <th>count</th>\n",
       "      <td>22.000000</td>\n",
       "      <td>22.000000</td>\n",
       "      <td>22.000000</td>\n",
       "      <td>22.000000</td>\n",
       "      <td>22.000000</td>\n",
       "      <td>22.000000</td>\n",
       "      <td>22.000000</td>\n",
       "      <td>22.000000</td>\n",
       "      <td>22.000000</td>\n",
       "      <td>22.000000</td>\n",
       "      <td>22.000000</td>\n",
       "      <td>22.000000</td>\n",
       "      <td>22.000000</td>\n",
       "      <td>22.000000</td>\n",
       "    </tr>\n",
       "    <tr>\n",
       "      <th>mean</th>\n",
       "      <td>11.500000</td>\n",
       "      <td>4.115909</td>\n",
       "      <td>4.392273</td>\n",
       "      <td>4.400909</td>\n",
       "      <td>4.551364</td>\n",
       "      <td>3.853636</td>\n",
       "      <td>4.241818</td>\n",
       "      <td>3.989091</td>\n",
       "      <td>4.523636</td>\n",
       "      <td>34.068636</td>\n",
       "      <td>475.363636</td>\n",
       "      <td>0.590909</td>\n",
       "      <td>0.045455</td>\n",
       "      <td>0.363303</td>\n",
       "    </tr>\n",
       "    <tr>\n",
       "      <th>std</th>\n",
       "      <td>6.493587</td>\n",
       "      <td>0.742965</td>\n",
       "      <td>0.683241</td>\n",
       "      <td>0.617953</td>\n",
       "      <td>0.477466</td>\n",
       "      <td>0.719739</td>\n",
       "      <td>0.661727</td>\n",
       "      <td>0.817650</td>\n",
       "      <td>0.562126</td>\n",
       "      <td>4.729559</td>\n",
       "      <td>282.466778</td>\n",
       "      <td>0.503236</td>\n",
       "      <td>0.006310</td>\n",
       "      <td>0.199258</td>\n",
       "    </tr>\n",
       "    <tr>\n",
       "      <th>min</th>\n",
       "      <td>1.000000</td>\n",
       "      <td>2.500000</td>\n",
       "      <td>2.240000</td>\n",
       "      <td>2.710000</td>\n",
       "      <td>3.440000</td>\n",
       "      <td>2.090000</td>\n",
       "      <td>2.700000</td>\n",
       "      <td>2.110000</td>\n",
       "      <td>3.250000</td>\n",
       "      <td>22.480000</td>\n",
       "      <td>49.000000</td>\n",
       "      <td>0.000000</td>\n",
       "      <td>0.029993</td>\n",
       "      <td>0.000000</td>\n",
       "    </tr>\n",
       "    <tr>\n",
       "      <th>25%</th>\n",
       "      <td>6.250000</td>\n",
       "      <td>3.562500</td>\n",
       "      <td>4.410000</td>\n",
       "      <td>4.027500</td>\n",
       "      <td>4.247500</td>\n",
       "      <td>3.502500</td>\n",
       "      <td>4.062500</td>\n",
       "      <td>3.357500</td>\n",
       "      <td>4.030000</td>\n",
       "      <td>32.047500</td>\n",
       "      <td>244.000000</td>\n",
       "      <td>0.000000</td>\n",
       "      <td>0.042758</td>\n",
       "      <td>0.277717</td>\n",
       "    </tr>\n",
       "    <tr>\n",
       "      <th>50%</th>\n",
       "      <td>11.500000</td>\n",
       "      <td>4.150000</td>\n",
       "      <td>4.560000</td>\n",
       "      <td>4.590000</td>\n",
       "      <td>4.780000</td>\n",
       "      <td>3.740000</td>\n",
       "      <td>4.375000</td>\n",
       "      <td>3.945000</td>\n",
       "      <td>4.750000</td>\n",
       "      <td>34.870000</td>\n",
       "      <td>469.500000</td>\n",
       "      <td>1.000000</td>\n",
       "      <td>0.046524</td>\n",
       "      <td>0.377422</td>\n",
       "    </tr>\n",
       "    <tr>\n",
       "      <th>75%</th>\n",
       "      <td>16.750000</td>\n",
       "      <td>4.862500</td>\n",
       "      <td>4.717500</td>\n",
       "      <td>4.820000</td>\n",
       "      <td>4.940000</td>\n",
       "      <td>4.097500</td>\n",
       "      <td>4.725000</td>\n",
       "      <td>4.780000</td>\n",
       "      <td>5.000000</td>\n",
       "      <td>36.967500</td>\n",
       "      <td>694.000000</td>\n",
       "      <td>1.000000</td>\n",
       "      <td>0.049322</td>\n",
       "      <td>0.513529</td>\n",
       "    </tr>\n",
       "    <tr>\n",
       "      <th>max</th>\n",
       "      <td>22.000000</td>\n",
       "      <td>5.000000</td>\n",
       "      <td>5.000000</td>\n",
       "      <td>5.000000</td>\n",
       "      <td>5.000000</td>\n",
       "      <td>5.000000</td>\n",
       "      <td>5.000000</td>\n",
       "      <td>5.000000</td>\n",
       "      <td>5.000000</td>\n",
       "      <td>40.000000</td>\n",
       "      <td>1026.000000</td>\n",
       "      <td>1.000000</td>\n",
       "      <td>0.053368</td>\n",
       "      <td>0.669435</td>\n",
       "    </tr>\n",
       "  </tbody>\n",
       "</table>\n",
       "</div>"
      ],
      "text/plain": [
       "        Youth ID        PWS         DL         SC         RC        HMM  \\\n",
       "count  22.000000  22.000000  22.000000  22.000000  22.000000  22.000000   \n",
       "mean   11.500000   4.115909   4.392273   4.400909   4.551364   3.853636   \n",
       "std     6.493587   0.742965   0.683241   0.617953   0.477466   0.719739   \n",
       "min     1.000000   2.500000   2.240000   2.710000   3.440000   2.090000   \n",
       "25%     6.250000   3.562500   4.410000   4.027500   4.247500   3.502500   \n",
       "50%    11.500000   4.150000   4.560000   4.590000   4.780000   3.740000   \n",
       "75%    16.750000   4.862500   4.717500   4.820000   4.940000   4.097500   \n",
       "max    22.000000   5.000000   5.000000   5.000000   5.000000   5.000000   \n",
       "\n",
       "             WSL        CEP         LF  grand_total   days_spent  \\\n",
       "count  22.000000  22.000000  22.000000    22.000000    22.000000   \n",
       "mean    4.241818   3.989091   4.523636    34.068636   475.363636   \n",
       "std     0.661727   0.817650   0.562126     4.729559   282.466778   \n",
       "min     2.700000   2.110000   3.250000    22.480000    49.000000   \n",
       "25%     4.062500   3.357500   4.030000    32.047500   244.000000   \n",
       "50%     4.375000   3.945000   4.750000    34.870000   469.500000   \n",
       "75%     4.725000   4.780000   5.000000    36.967500   694.000000   \n",
       "max     5.000000   5.000000   5.000000    40.000000  1026.000000   \n",
       "\n",
       "       result_score  fraud_alert    row_std  \n",
       "count     22.000000    22.000000  22.000000  \n",
       "mean       0.590909     0.045455   0.363303  \n",
       "std        0.503236     0.006310   0.199258  \n",
       "min        0.000000     0.029993   0.000000  \n",
       "25%        0.000000     0.042758   0.277717  \n",
       "50%        1.000000     0.046524   0.377422  \n",
       "75%        1.000000     0.049322   0.513529  \n",
       "max        1.000000     0.053368   0.669435  "
      ]
     },
     "execution_count": 59,
     "metadata": {},
     "output_type": "execute_result"
    }
   ],
   "source": [
    "thp_df2.describe()"
   ]
  },
  {
   "cell_type": "code",
   "execution_count": 62,
   "id": "397e6d18",
   "metadata": {},
   "outputs": [
    {
     "name": "stderr",
     "output_type": "stream",
     "text": [
      "/var/folders/zx/f1n4qhss7qq5b_ypxdtf1xr00000gn/T/ipykernel_1683/2115001068.py:2: FutureWarning: The default value of numeric_only in DataFrameGroupBy.mean is deprecated. In a future version, numeric_only will default to False. Either specify numeric_only or select only columns which should be valid for the function.\n",
      "  grouped_test1=df_gptest.groupby(['gender'], as_index=False).mean()\n"
     ]
    },
    {
     "data": {
      "text/html": [
       "<div>\n",
       "<style scoped>\n",
       "    .dataframe tbody tr th:only-of-type {\n",
       "        vertical-align: middle;\n",
       "    }\n",
       "\n",
       "    .dataframe tbody tr th {\n",
       "        vertical-align: top;\n",
       "    }\n",
       "\n",
       "    .dataframe thead th {\n",
       "        text-align: right;\n",
       "    }\n",
       "</style>\n",
       "<table border=\"1\" class=\"dataframe\">\n",
       "  <thead>\n",
       "    <tr style=\"text-align: right;\">\n",
       "      <th></th>\n",
       "      <th>gender</th>\n",
       "      <th>fraud_alert</th>\n",
       "    </tr>\n",
       "  </thead>\n",
       "  <tbody>\n",
       "    <tr>\n",
       "      <th>0</th>\n",
       "      <td>F</td>\n",
       "      <td>0.049143</td>\n",
       "    </tr>\n",
       "    <tr>\n",
       "      <th>1</th>\n",
       "      <td>M</td>\n",
       "      <td>0.044071</td>\n",
       "    </tr>\n",
       "  </tbody>\n",
       "</table>\n",
       "</div>"
      ],
      "text/plain": [
       "  gender  fraud_alert\n",
       "0      F     0.049143\n",
       "1      M     0.044071"
      ]
     },
     "execution_count": 62,
     "metadata": {},
     "output_type": "execute_result"
    }
   ],
   "source": [
    "df_gptest=thp_df2[['gender','Category', 'fraud_alert']]\n",
    "grouped_test1=df_gptest.groupby(['gender'], as_index=False).mean()\n",
    "grouped_test1"
   ]
  },
  {
   "cell_type": "markdown",
   "id": "ea637986",
   "metadata": {},
   "source": [
    "#### On average it looks like female youth are more likely to lie on their assesment scores then male youth. "
   ]
  },
  {
   "cell_type": "code",
   "execution_count": 63,
   "id": "7ad369a1",
   "metadata": {
    "scrolled": true
   },
   "outputs": [
    {
     "name": "stderr",
     "output_type": "stream",
     "text": [
      "/var/folders/zx/f1n4qhss7qq5b_ypxdtf1xr00000gn/T/ipykernel_1683/3430672403.py:2: FutureWarning: The default value of numeric_only in DataFrameGroupBy.mean is deprecated. In a future version, numeric_only will default to False. Either specify numeric_only or select only columns which should be valid for the function.\n",
      "  grouped_test1=df_gptest.groupby(['Category',], as_index=False).mean()\n"
     ]
    },
    {
     "data": {
      "text/html": [
       "<div>\n",
       "<style scoped>\n",
       "    .dataframe tbody tr th:only-of-type {\n",
       "        vertical-align: middle;\n",
       "    }\n",
       "\n",
       "    .dataframe tbody tr th {\n",
       "        vertical-align: top;\n",
       "    }\n",
       "\n",
       "    .dataframe thead th {\n",
       "        text-align: right;\n",
       "    }\n",
       "</style>\n",
       "<table border=\"1\" class=\"dataframe\">\n",
       "  <thead>\n",
       "    <tr style=\"text-align: right;\">\n",
       "      <th></th>\n",
       "      <th>Category</th>\n",
       "      <th>fraud_alert</th>\n",
       "    </tr>\n",
       "  </thead>\n",
       "  <tbody>\n",
       "    <tr>\n",
       "      <th>0</th>\n",
       "      <td>Bad</td>\n",
       "      <td>0.048111</td>\n",
       "    </tr>\n",
       "    <tr>\n",
       "      <th>1</th>\n",
       "      <td>Good</td>\n",
       "      <td>0.043615</td>\n",
       "    </tr>\n",
       "  </tbody>\n",
       "</table>\n",
       "</div>"
      ],
      "text/plain": [
       "  Category  fraud_alert\n",
       "0      Bad     0.048111\n",
       "1     Good     0.043615"
      ]
     },
     "execution_count": 63,
     "metadata": {},
     "output_type": "execute_result"
    }
   ],
   "source": [
    "df_gptest=thp_df2[['gender','Category', 'fraud_alert']]\n",
    "grouped_test1=df_gptest.groupby(['Category',], as_index=False).mean()\n",
    "grouped_test1"
   ]
  },
  {
   "cell_type": "code",
   "execution_count": 67,
   "id": "6fc8e86a",
   "metadata": {},
   "outputs": [
    {
     "name": "stdout",
     "output_type": "stream",
     "text": [
      "(16, 16)\n"
     ]
    },
    {
     "name": "stderr",
     "output_type": "stream",
     "text": [
      "/var/folders/zx/f1n4qhss7qq5b_ypxdtf1xr00000gn/T/ipykernel_1683/3304878973.py:3: FutureWarning: The default value of numeric_only in DataFrame.quantile is deprecated. In a future version, it will default to False. Select only valid columns or specify the value of numeric_only to silence this warning.\n",
      "  Q1 = thp_df2.quantile(0.25)\n",
      "/var/folders/zx/f1n4qhss7qq5b_ypxdtf1xr00000gn/T/ipykernel_1683/3304878973.py:4: FutureWarning: The default value of numeric_only in DataFrame.quantile is deprecated. In a future version, it will default to False. Select only valid columns or specify the value of numeric_only to silence this warning.\n",
      "  Q3 = thp_df2.quantile(0.75)\n",
      "/var/folders/zx/f1n4qhss7qq5b_ypxdtf1xr00000gn/T/ipykernel_1683/3304878973.py:8: FutureWarning: Automatic reindexing on DataFrame vs Series comparisons is deprecated and will raise ValueError in a future version. Do `left, right = left.align(right, axis=1, copy=False)` before e.g. `left == right`\n",
      "  mask = ~((thp_df2 < (Q1 - 1.5 * IQR)) | (thp_df2 > (Q3 + 1.5 * IQR))).any(axis=1)\n"
     ]
    }
   ],
   "source": [
    "#Removing Outliers\n",
    "# Calculate Q1, Q3 and IQR for each column\n",
    "Q1 = thp_df2.quantile(0.25)\n",
    "Q3 = thp_df2.quantile(0.75)\n",
    "IQR = Q3 - Q1\n",
    "\n",
    "# Define a mask for values that are not outliers\n",
    "mask = ~((thp_df2 < (Q1 - 1.5 * IQR)) | (thp_df2 > (Q3 + 1.5 * IQR))).any(axis=1)\n",
    "\n",
    "# Apply the mask to get a DataFrame without outliers\n",
    "remove_outliers = thp_df2[mask]\n",
    "\n",
    "# Display the shape of the DataFrame without outliers\n",
    "print(remove_outliers.shape)\n"
   ]
  },
  {
   "cell_type": "markdown",
   "id": "565628fa",
   "metadata": {},
   "source": [
    "### Observational Insight\n",
    "\n",
    "Youth with higher scores in the \"fraud_alert\" category generally tend not to complete the program."
   ]
  },
  {
   "cell_type": "code",
   "execution_count": 68,
   "id": "70b5f849",
   "metadata": {},
   "outputs": [],
   "source": [
    "thp_df2.to_csv(\"thp_explored.csv\")"
   ]
  },
  {
   "cell_type": "code",
   "execution_count": 69,
   "id": "a4532130",
   "metadata": {},
   "outputs": [],
   "source": [
    "remove_outliers.to_csv(\"remove_outliers.csv\")"
   ]
  },
  {
   "cell_type": "code",
   "execution_count": null,
   "id": "ac638f5f",
   "metadata": {},
   "outputs": [],
   "source": []
  }
 ],
 "metadata": {
  "kernelspec": {
   "display_name": "Python 3",
   "language": "python",
   "name": "python3"
  },
  "language_info": {
   "codemirror_mode": {
    "name": "ipython",
    "version": 3
   },
   "file_extension": ".py",
   "mimetype": "text/x-python",
   "name": "python",
   "nbconvert_exporter": "python",
   "pygments_lexer": "ipython3",
   "version": "3.11.3 (v3.11.3:f3909b8bc8, Apr  4 2023, 20:12:10) [Clang 13.0.0 (clang-1300.0.29.30)]"
  },
  "vscode": {
   "interpreter": {
    "hash": "31f2aee4e71d21fbe5cf8b01ff0e069b9275f58929596ceb00d14d90e3e16cd6"
   }
  }
 },
 "nbformat": 4,
 "nbformat_minor": 5
}
