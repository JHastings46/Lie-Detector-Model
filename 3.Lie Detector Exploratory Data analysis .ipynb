{
 "cells": [
  {
   "cell_type": "markdown",
   "id": "62a71637",
   "metadata": {},
   "source": [
    "### Objective: Build a Lie Detector Model\n",
    "\n",
    "**Purpose:** Predict the future outcome for an individual in the program:\n",
    "- **Complete Program Successfully:** 1\n",
    "- **Discharge from the Program on Bad Terms:** 0\n",
    "\n",
    "**Tasks:**\n",
    "\n",
    "1. **Understanding the Distribution of Data:** \n",
    "   - Analyze key variables to identify their central tendencies and spread. This helps in understanding how the data is distributed, which is crucial for any form of modeling.\n",
    "\n",
    "2. **Identifying Relationships Between Variables:**\n",
    "   - Explore potential relationships between different variables using tools such as scatter plots, correlation matrices, and pivot tables. This helps in understanding which factors are most influential in determining the outcomes.\n",
    "\n",
    "3. **Detecting Outliers:**\n",
    "   - Identify and handle outliers in the data. Outliers can skew the results and could potentially lead to inaccurate models.\n",
    "\n",
    "4. **Testing Assumptions:**\n",
    "   - Verify the assumptions required for subsequent statistical tests and modeling. For instance, checking for normality if using techniques that assume normally distributed data.\n",
    "\n",
    "5. **Visualizing Patterns and Trends:**\n",
    "   - Use various visualization techniques to uncover hidden patterns and trends within the data. This can involve the use of line graphs, bar charts, and cluster diagrams.\n",
    "\n",
    "6. **Generating Hypotheses:**\n",
    "   - Based on initial findings, formulate hypotheses about the data which can later be tested using more detailed statistical models.\n",
    "\n",
    "7. **Preparing for Further Analysis:**\n",
    "   - Use insights from EDA to prepare the data further for modeling. This might include deciding on which features to include, which data transformations are necessary, and how best to split the data for training and testing.\n",
    "\n",
    "**Columns and Their Acronyms:**\n",
    "- **Permanency/Navigating Welfare System (PWS)**\n",
    "- **Daily Living (DL)**\n",
    "- **Self Care (SC)**\n",
    "- **Relationships & Communication (RC)**\n",
    "- **Housing & Money Management (HMM)**\n",
    "- **Work & Study Life (WSL)**\n",
    "- **Career & Education Planning (CEP)**\n",
    "- **Looking Forward (LF)**\n",
    "\n"
   ]
  },
  {
   "cell_type": "code",
   "execution_count": 2,
   "id": "41f3b801",
   "metadata": {},
   "outputs": [],
   "source": [
    "# Pandas is a software library written for the Python programming language for data manipulation and analysis.\n",
    "import pandas as pd\n",
    "# NumPy is a library for the Python programming language, adding support for large, multi-dimensional arrays and matrices, along with a large collection of high-level mathematical functions to operate on these arrays\n",
    "import numpy as np\n",
    "# Matplotlib is a plotting library for python and pyplot gives us a MatLab like plotting framework. We will use this in our plotter function to plot data.\n",
    "import matplotlib.pyplot as plt\n",
    "#Seaborn is a Python data visualization library based on matplotlib. It provides a high-level interface for drawing attractive and informative statistical graphics\n",
    "import seaborn as sns\n",
    "# Preprocessing allows us to standarsize our data\n",
    "from sklearn import preprocessing\n",
    "# Allows us to split our data into training and testing data\n",
    "from sklearn.model_selection import train_test_split\n",
    "# Allows us to test parameters of classification algorithms and find the best one\n",
    "from sklearn.model_selection import GridSearchCV\n",
    "# Logistic Regression classification algorithm\n",
    "from sklearn.linear_model import LogisticRegression\n",
    "# Support Vector Machine classification algorithm\n",
    "from sklearn.svm import SVC\n",
    "# Decision Tree classification algorithm\n",
    "from sklearn import metrics\n",
    "import matplotlib.pyplot as plt\n",
    "from sklearn.tree import DecisionTreeClassifier\n",
    "# K Nearest Neighbors classification algorithm\n",
    "from sklearn.neighbors import KNeighborsClassifier"
   ]
  },
  {
   "cell_type": "markdown",
   "id": "0b5bfb77",
   "metadata": {},
   "source": [
    "### ***Initial Exploration*** "
   ]
  },
  {
   "cell_type": "code",
   "execution_count": 3,
   "id": "61607fee",
   "metadata": {
    "scrolled": true
   },
   "outputs": [
    {
     "data": {
      "text/html": [
       "<div>\n",
       "<style scoped>\n",
       "    .dataframe tbody tr th:only-of-type {\n",
       "        vertical-align: middle;\n",
       "    }\n",
       "\n",
       "    .dataframe tbody tr th {\n",
       "        vertical-align: top;\n",
       "    }\n",
       "\n",
       "    .dataframe thead th {\n",
       "        text-align: right;\n",
       "    }\n",
       "</style>\n",
       "<table border=\"1\" class=\"dataframe\">\n",
       "  <thead>\n",
       "    <tr style=\"text-align: right;\">\n",
       "      <th></th>\n",
       "      <th>Youth ID</th>\n",
       "      <th>Gender</th>\n",
       "      <th>PWS</th>\n",
       "      <th>DL</th>\n",
       "      <th>SC</th>\n",
       "      <th>RC</th>\n",
       "      <th>HMM</th>\n",
       "      <th>WSL</th>\n",
       "      <th>CEP</th>\n",
       "      <th>LF</th>\n",
       "      <th>total_score</th>\n",
       "      <th>Days_in_Program</th>\n",
       "      <th>Category</th>\n",
       "      <th>Result Score</th>\n",
       "      <th>fraud_score</th>\n",
       "      <th>mean_score</th>\n",
       "    </tr>\n",
       "  </thead>\n",
       "  <tbody>\n",
       "    <tr>\n",
       "      <th>0</th>\n",
       "      <td>1</td>\n",
       "      <td>M</td>\n",
       "      <td>-0.425201</td>\n",
       "      <td>0.113763</td>\n",
       "      <td>0.014711</td>\n",
       "      <td>-0.463621</td>\n",
       "      <td>0.147781</td>\n",
       "      <td>-0.214315</td>\n",
       "      <td>1.236359</td>\n",
       "      <td>0.847431</td>\n",
       "      <td>1.256908</td>\n",
       "      <td>264</td>\n",
       "      <td>Good</td>\n",
       "      <td>1</td>\n",
       "      <td>0.211725</td>\n",
       "      <td>0.211725</td>\n",
       "    </tr>\n",
       "    <tr>\n",
       "      <th>1</th>\n",
       "      <td>2</td>\n",
       "      <td>M</td>\n",
       "      <td>-0.156009</td>\n",
       "      <td>0.025946</td>\n",
       "      <td>0.208901</td>\n",
       "      <td>0.478853</td>\n",
       "      <td>-0.213461</td>\n",
       "      <td>0.239044</td>\n",
       "      <td>0.135644</td>\n",
       "      <td>-0.931528</td>\n",
       "      <td>-0.212610</td>\n",
       "      <td>467</td>\n",
       "      <td>Good</td>\n",
       "      <td>1</td>\n",
       "      <td>-0.031427</td>\n",
       "      <td>-0.031427</td>\n",
       "    </tr>\n",
       "    <tr>\n",
       "      <th>2</th>\n",
       "      <td>3</td>\n",
       "      <td>M</td>\n",
       "      <td>0.247779</td>\n",
       "      <td>0.377213</td>\n",
       "      <td>-0.179478</td>\n",
       "      <td>0.478853</td>\n",
       "      <td>-0.102310</td>\n",
       "      <td>0.541284</td>\n",
       "      <td>0.147874</td>\n",
       "      <td>-0.042048</td>\n",
       "      <td>1.469166</td>\n",
       "      <td>49</td>\n",
       "      <td>Bad</td>\n",
       "      <td>0</td>\n",
       "      <td>0.199038</td>\n",
       "      <td>0.199038</td>\n",
       "    </tr>\n",
       "    <tr>\n",
       "      <th>3</th>\n",
       "      <td>4</td>\n",
       "      <td>M</td>\n",
       "      <td>-0.761690</td>\n",
       "      <td>-3.150093</td>\n",
       "      <td>-2.736307</td>\n",
       "      <td>-1.510815</td>\n",
       "      <td>-2.450383</td>\n",
       "      <td>-2.329992</td>\n",
       "      <td>-2.298160</td>\n",
       "      <td>-2.265747</td>\n",
       "      <td>-17.503189</td>\n",
       "      <td>908</td>\n",
       "      <td>Good</td>\n",
       "      <td>1</td>\n",
       "      <td>-2.450257</td>\n",
       "      <td>-2.450257</td>\n",
       "    </tr>\n",
       "    <tr>\n",
       "      <th>4</th>\n",
       "      <td>5</td>\n",
       "      <td>F</td>\n",
       "      <td>1.055354</td>\n",
       "      <td>0.465030</td>\n",
       "      <td>0.581098</td>\n",
       "      <td>0.583573</td>\n",
       "      <td>-0.699749</td>\n",
       "      <td>0.616843</td>\n",
       "      <td>0.967295</td>\n",
       "      <td>0.847431</td>\n",
       "      <td>4.416875</td>\n",
       "      <td>241</td>\n",
       "      <td>Bad</td>\n",
       "      <td>0</td>\n",
       "      <td>0.615568</td>\n",
       "      <td>0.615568</td>\n",
       "    </tr>\n",
       "  </tbody>\n",
       "</table>\n",
       "</div>"
      ],
      "text/plain": [
       "   Youth ID Gender       PWS        DL        SC        RC       HMM  \\\n",
       "0         1      M -0.425201  0.113763  0.014711 -0.463621  0.147781   \n",
       "1         2      M -0.156009  0.025946  0.208901  0.478853 -0.213461   \n",
       "2         3      M  0.247779  0.377213 -0.179478  0.478853 -0.102310   \n",
       "3         4      M -0.761690 -3.150093 -2.736307 -1.510815 -2.450383   \n",
       "4         5      F  1.055354  0.465030  0.581098  0.583573 -0.699749   \n",
       "\n",
       "        WSL       CEP        LF  total_score  Days_in_Program Category  \\\n",
       "0 -0.214315  1.236359  0.847431     1.256908              264     Good   \n",
       "1  0.239044  0.135644 -0.931528    -0.212610              467     Good   \n",
       "2  0.541284  0.147874 -0.042048     1.469166               49      Bad   \n",
       "3 -2.329992 -2.298160 -2.265747   -17.503189              908     Good   \n",
       "4  0.616843  0.967295  0.847431     4.416875              241      Bad   \n",
       "\n",
       "   Result Score  fraud_score  mean_score  \n",
       "0             1     0.211725    0.211725  \n",
       "1             1    -0.031427   -0.031427  \n",
       "2             0     0.199038    0.199038  \n",
       "3             1    -2.450257   -2.450257  \n",
       "4             0     0.615568    0.615568  "
      ]
     },
     "execution_count": 3,
     "metadata": {},
     "output_type": "execute_result"
    }
   ],
   "source": [
    "# Load the CSV file\n",
    "thp_df2 = pd.read_csv(\"/Users/oakmoreroadinc./Desktop/Data Science /Portfolio Data Science /R_script.R/data/new_clean_norm.csv\")\n",
    "\n",
    "# Drop the 'Unnamed: 0' column\n",
    "thp_df2.drop('Unnamed: 0', axis=1, inplace=True)\n",
    "\n",
    "# Check the DataFrame to ensure the column has been removed\n",
    "thp_df2.head()\n"
   ]
  },
  {
   "cell_type": "code",
   "execution_count": 4,
   "id": "cb179e57",
   "metadata": {
    "scrolled": true
   },
   "outputs": [
    {
     "name": "stdout",
     "output_type": "stream",
     "text": [
      "<class 'pandas.core.frame.DataFrame'>\n",
      "RangeIndex: 22 entries, 0 to 21\n",
      "Data columns (total 16 columns):\n",
      " #   Column           Non-Null Count  Dtype  \n",
      "---  ------           --------------  -----  \n",
      " 0   Youth ID         22 non-null     int64  \n",
      " 1   Gender           22 non-null     object \n",
      " 2   PWS              22 non-null     float64\n",
      " 3   DL               22 non-null     float64\n",
      " 4   SC               22 non-null     float64\n",
      " 5   RC               22 non-null     float64\n",
      " 6   HMM              22 non-null     float64\n",
      " 7   WSL              22 non-null     float64\n",
      " 8   CEP              22 non-null     float64\n",
      " 9   LF               22 non-null     float64\n",
      " 10  total_score      22 non-null     float64\n",
      " 11  Days_in_Program  22 non-null     int64  \n",
      " 12  Category         22 non-null     object \n",
      " 13  Result Score     22 non-null     int64  \n",
      " 14  fraud_score      22 non-null     float64\n",
      " 15  mean_score       22 non-null     float64\n",
      "dtypes: float64(11), int64(3), object(2)\n",
      "memory usage: 2.9+ KB\n"
     ]
    }
   ],
   "source": [
    "#check for missing values \n",
    "#check data types\n",
    "thp_df2.info()"
   ]
  },
  {
   "cell_type": "code",
   "execution_count": null,
   "id": "d25f52c8",
   "metadata": {},
   "outputs": [],
   "source": [
    "# 'thp_df2' contains 22 rows of youth data and assesment scores . \n",
    "# no youth's are missing information. "
   ]
  },
  {
   "cell_type": "code",
   "execution_count": 5,
   "id": "c8973abd",
   "metadata": {
    "scrolled": true
   },
   "outputs": [
    {
     "data": {
      "text/plain": [
       "Gender  Category\n",
       "M       Good        9\n",
       "        Bad         7\n",
       "F       Good        4\n",
       "        Bad         2\n",
       "dtype: int64"
      ]
     },
     "execution_count": 5,
     "metadata": {},
     "output_type": "execute_result"
    }
   ],
   "source": [
    "#How Many data points do we have in each categorical variable?\n",
    "thp_df2.value_counts([\"Gender\",\"Category\"])"
   ]
  },
  {
   "cell_type": "code",
   "execution_count": 6,
   "id": "1358a882",
   "metadata": {},
   "outputs": [
    {
     "name": "stdout",
     "output_type": "stream",
     "text": [
      "Gender  Category\n",
      "M       Good        9\n",
      "        Bad         7\n",
      "F       Good        4\n",
      "        Bad         2\n",
      "dtype: int64\n"
     ]
    }
   ],
   "source": [
    "#another syntax for getting value counts\n",
    "print(thp_df2[[\"Gender\",\"Category\"]].value_counts())"
   ]
  },
  {
   "cell_type": "code",
   "execution_count": 7,
   "id": "a784a3ac",
   "metadata": {},
   "outputs": [
    {
     "data": {
      "text/html": [
       "<div>\n",
       "<style scoped>\n",
       "    .dataframe tbody tr th:only-of-type {\n",
       "        vertical-align: middle;\n",
       "    }\n",
       "\n",
       "    .dataframe tbody tr th {\n",
       "        vertical-align: top;\n",
       "    }\n",
       "\n",
       "    .dataframe thead th {\n",
       "        text-align: right;\n",
       "    }\n",
       "</style>\n",
       "<table border=\"1\" class=\"dataframe\">\n",
       "  <thead>\n",
       "    <tr style=\"text-align: right;\">\n",
       "      <th></th>\n",
       "      <th>Youth ID</th>\n",
       "      <th>PWS</th>\n",
       "      <th>DL</th>\n",
       "      <th>SC</th>\n",
       "      <th>RC</th>\n",
       "      <th>HMM</th>\n",
       "      <th>WSL</th>\n",
       "      <th>CEP</th>\n",
       "      <th>LF</th>\n",
       "      <th>total_score</th>\n",
       "      <th>Days_in_Program</th>\n",
       "      <th>Result Score</th>\n",
       "      <th>fraud_score</th>\n",
       "      <th>mean_score</th>\n",
       "    </tr>\n",
       "  </thead>\n",
       "  <tbody>\n",
       "    <tr>\n",
       "      <th>count</th>\n",
       "      <td>22.000000</td>\n",
       "      <td>2.200000e+01</td>\n",
       "      <td>2.200000e+01</td>\n",
       "      <td>2.200000e+01</td>\n",
       "      <td>2.200000e+01</td>\n",
       "      <td>2.200000e+01</td>\n",
       "      <td>2.200000e+01</td>\n",
       "      <td>2.200000e+01</td>\n",
       "      <td>2.200000e+01</td>\n",
       "      <td>2.200000e+01</td>\n",
       "      <td>22.000000</td>\n",
       "      <td>22.000000</td>\n",
       "      <td>2.200000e+01</td>\n",
       "      <td>2.200000e+01</td>\n",
       "    </tr>\n",
       "    <tr>\n",
       "      <th>mean</th>\n",
       "      <td>11.500000</td>\n",
       "      <td>-3.835316e-16</td>\n",
       "      <td>9.083643e-16</td>\n",
       "      <td>-5.450186e-16</td>\n",
       "      <td>1.271710e-15</td>\n",
       "      <td>7.872491e-16</td>\n",
       "      <td>7.872491e-16</td>\n",
       "      <td>-1.362546e-16</td>\n",
       "      <td>1.857100e-15</td>\n",
       "      <td>4.279405e-15</td>\n",
       "      <td>475.363636</td>\n",
       "      <td>0.590909</td>\n",
       "      <td>-3.027881e-17</td>\n",
       "      <td>1.312082e-15</td>\n",
       "    </tr>\n",
       "    <tr>\n",
       "      <th>std</th>\n",
       "      <td>6.493587</td>\n",
       "      <td>1.000000e+00</td>\n",
       "      <td>1.000000e+00</td>\n",
       "      <td>1.000000e+00</td>\n",
       "      <td>1.000000e+00</td>\n",
       "      <td>1.000000e+00</td>\n",
       "      <td>1.000000e+00</td>\n",
       "      <td>1.000000e+00</td>\n",
       "      <td>1.000000e+00</td>\n",
       "      <td>7.176148e+00</td>\n",
       "      <td>282.466778</td>\n",
       "      <td>0.503236</td>\n",
       "      <td>1.000000e+00</td>\n",
       "      <td>1.000000e+00</td>\n",
       "    </tr>\n",
       "    <tr>\n",
       "      <th>min</th>\n",
       "      <td>1.000000</td>\n",
       "      <td>-2.174947e+00</td>\n",
       "      <td>-3.150093e+00</td>\n",
       "      <td>-2.736307e+00</td>\n",
       "      <td>-2.327626e+00</td>\n",
       "      <td>-2.450383e+00</td>\n",
       "      <td>-2.329992e+00</td>\n",
       "      <td>-2.298160e+00</td>\n",
       "      <td>-2.265747e+00</td>\n",
       "      <td>-1.750319e+01</td>\n",
       "      <td>49.000000</td>\n",
       "      <td>0.000000</td>\n",
       "      <td>-2.450257e+00</td>\n",
       "      <td>-2.450257e+00</td>\n",
       "    </tr>\n",
       "    <tr>\n",
       "      <th>25%</th>\n",
       "      <td>6.250000</td>\n",
       "      <td>-7.448658e-01</td>\n",
       "      <td>2.594585e-02</td>\n",
       "      <td>-6.042679e-01</td>\n",
       "      <td>-6.364083e-01</td>\n",
       "      <td>-4.878662e-01</td>\n",
       "      <td>-2.709853e-01</td>\n",
       "      <td>-7.724465e-01</td>\n",
       "      <td>-8.781589e-01</td>\n",
       "      <td>-2.884273e+00</td>\n",
       "      <td>244.000000</td>\n",
       "      <td>0.000000</td>\n",
       "      <td>-4.273414e-01</td>\n",
       "      <td>-4.273414e-01</td>\n",
       "    </tr>\n",
       "    <tr>\n",
       "      <th>50%</th>\n",
       "      <td>11.500000</td>\n",
       "      <td>4.588496e-02</td>\n",
       "      <td>2.454877e-01</td>\n",
       "      <td>3.059957e-01</td>\n",
       "      <td>4.788532e-01</td>\n",
       "      <td>-1.578855e-01</td>\n",
       "      <td>2.012641e-01</td>\n",
       "      <td>-5.392394e-02</td>\n",
       "      <td>4.026917e-01</td>\n",
       "      <td>1.363037e+00</td>\n",
       "      <td>469.500000</td>\n",
       "      <td>1.000000</td>\n",
       "      <td>1.694373e-01</td>\n",
       "      <td>1.694373e-01</td>\n",
       "    </tr>\n",
       "    <tr>\n",
       "      <th>75%</th>\n",
       "      <td>16.750000</td>\n",
       "      <td>1.004881e+00</td>\n",
       "      <td>4.760066e-01</td>\n",
       "      <td>6.781923e-01</td>\n",
       "      <td>8.139553e-01</td>\n",
       "      <td>3.388223e-01</td>\n",
       "      <td>7.301833e-01</td>\n",
       "      <td>9.672954e-01</td>\n",
       "      <td>8.474315e-01</td>\n",
       "      <td>4.403012e+00</td>\n",
       "      <td>694.000000</td>\n",
       "      <td>1.000000</td>\n",
       "      <td>6.129247e-01</td>\n",
       "      <td>6.129247e-01</td>\n",
       "    </tr>\n",
       "    <tr>\n",
       "      <th>max</th>\n",
       "      <td>22.000000</td>\n",
       "      <td>1.189950e+00</td>\n",
       "      <td>8.894770e-01</td>\n",
       "      <td>9.694766e-01</td>\n",
       "      <td>9.396185e-01</td>\n",
       "      <td>1.592749e+00</td>\n",
       "      <td>1.145763e+00</td>\n",
       "      <td>1.236359e+00</td>\n",
       "      <td>8.474315e-01</td>\n",
       "      <td>8.810825e+00</td>\n",
       "      <td>1026.000000</td>\n",
       "      <td>1.000000</td>\n",
       "      <td>1.254105e+00</td>\n",
       "      <td>1.254105e+00</td>\n",
       "    </tr>\n",
       "  </tbody>\n",
       "</table>\n",
       "</div>"
      ],
      "text/plain": [
       "        Youth ID           PWS            DL            SC            RC  \\\n",
       "count  22.000000  2.200000e+01  2.200000e+01  2.200000e+01  2.200000e+01   \n",
       "mean   11.500000 -3.835316e-16  9.083643e-16 -5.450186e-16  1.271710e-15   \n",
       "std     6.493587  1.000000e+00  1.000000e+00  1.000000e+00  1.000000e+00   \n",
       "min     1.000000 -2.174947e+00 -3.150093e+00 -2.736307e+00 -2.327626e+00   \n",
       "25%     6.250000 -7.448658e-01  2.594585e-02 -6.042679e-01 -6.364083e-01   \n",
       "50%    11.500000  4.588496e-02  2.454877e-01  3.059957e-01  4.788532e-01   \n",
       "75%    16.750000  1.004881e+00  4.760066e-01  6.781923e-01  8.139553e-01   \n",
       "max    22.000000  1.189950e+00  8.894770e-01  9.694766e-01  9.396185e-01   \n",
       "\n",
       "                HMM           WSL           CEP            LF   total_score  \\\n",
       "count  2.200000e+01  2.200000e+01  2.200000e+01  2.200000e+01  2.200000e+01   \n",
       "mean   7.872491e-16  7.872491e-16 -1.362546e-16  1.857100e-15  4.279405e-15   \n",
       "std    1.000000e+00  1.000000e+00  1.000000e+00  1.000000e+00  7.176148e+00   \n",
       "min   -2.450383e+00 -2.329992e+00 -2.298160e+00 -2.265747e+00 -1.750319e+01   \n",
       "25%   -4.878662e-01 -2.709853e-01 -7.724465e-01 -8.781589e-01 -2.884273e+00   \n",
       "50%   -1.578855e-01  2.012641e-01 -5.392394e-02  4.026917e-01  1.363037e+00   \n",
       "75%    3.388223e-01  7.301833e-01  9.672954e-01  8.474315e-01  4.403012e+00   \n",
       "max    1.592749e+00  1.145763e+00  1.236359e+00  8.474315e-01  8.810825e+00   \n",
       "\n",
       "       Days_in_Program  Result Score   fraud_score    mean_score  \n",
       "count        22.000000     22.000000  2.200000e+01  2.200000e+01  \n",
       "mean        475.363636      0.590909 -3.027881e-17  1.312082e-15  \n",
       "std         282.466778      0.503236  1.000000e+00  1.000000e+00  \n",
       "min          49.000000      0.000000 -2.450257e+00 -2.450257e+00  \n",
       "25%         244.000000      0.000000 -4.273414e-01 -4.273414e-01  \n",
       "50%         469.500000      1.000000  1.694373e-01  1.694373e-01  \n",
       "75%         694.000000      1.000000  6.129247e-01  6.129247e-01  \n",
       "max        1026.000000      1.000000  1.254105e+00  1.254105e+00  "
      ]
     },
     "execution_count": 7,
     "metadata": {},
     "output_type": "execute_result"
    }
   ],
   "source": [
    "thp_df2.describe()"
   ]
  },
  {
   "cell_type": "code",
   "execution_count": 8,
   "id": "af5cb3d2",
   "metadata": {
    "scrolled": true
   },
   "outputs": [
    {
     "data": {
      "image/png": "[encoded data removed]",
      "text/plain": [
       "<Figure size 640x480 with 1 Axes>"
      ]
     },
     "metadata": {},
     "output_type": "display_data"
    }
   ],
   "source": [
    "sns.histplot(data=thp_df2, x=\"total_score\")\n",
    "plt.show()"
   ]
  },
  {
   "cell_type": "code",
   "execution_count": null,
   "id": "8d24e894",
   "metadata": {},
   "outputs": [],
   "source": [
    "# looks like assesment 'total_score' hovered around 32 to 40 for most youths in the dataset\n",
    "# but a few youth's experienced very low assesment total scores of 22 to 30."
   ]
  },
  {
   "cell_type": "code",
   "execution_count": 9,
   "id": "e944bdfa",
   "metadata": {},
   "outputs": [
    {
     "data": {
      "image/png": "[encoded data removed]",
      "text/plain": [
       "<Figure size 640x480 with 1 Axes>"
      ]
     },
     "metadata": {},
     "output_type": "display_data"
    }
   ],
   "source": [
    "sns.histplot(data=thp_df2, x=\"Days_in_Program\")\n",
    "plt.show()"
   ]
  },
  {
   "cell_type": "markdown",
   "id": "f118479b",
   "metadata": {},
   "source": [
    "### **Most youth's spent at least 200 to 400 days in the program before exit.** \n",
    "\n",
    "### **A few youth's experienced 600 to 1000 days in the program before exit.**"
   ]
  },
  {
   "cell_type": "markdown",
   "id": "62dd2f9b",
   "metadata": {},
   "source": [
    "## Data Validation \n",
    "###### Are data types and ranges are as expected? \n"
   ]
  },
  {
   "cell_type": "code",
   "execution_count": 10,
   "id": "72232e59",
   "metadata": {},
   "outputs": [
    {
     "data": {
      "text/plain": [
       "Youth ID             int64\n",
       "Gender              object\n",
       "PWS                float64\n",
       "DL                 float64\n",
       "SC                 float64\n",
       "RC                 float64\n",
       "HMM                float64\n",
       "WSL                float64\n",
       "CEP                float64\n",
       "LF                 float64\n",
       "total_score        float64\n",
       "Days_in_Program      int64\n",
       "Category            object\n",
       "Result Score         int64\n",
       "fraud_score        float64\n",
       "mean_score         float64\n",
       "dtype: object"
      ]
     },
     "execution_count": 10,
     "metadata": {},
     "output_type": "execute_result"
    }
   ],
   "source": [
    "thp_df2.dtypes"
   ]
  },
  {
   "cell_type": "code",
   "execution_count": 11,
   "id": "05d984b6",
   "metadata": {
    "scrolled": false
   },
   "outputs": [
    {
     "data": {
      "text/plain": [
       "0     True\n",
       "1     True\n",
       "2     True\n",
       "3     True\n",
       "4     True\n",
       "5     True\n",
       "6     True\n",
       "7     True\n",
       "8     True\n",
       "9     True\n",
       "10    True\n",
       "11    True\n",
       "12    True\n",
       "13    True\n",
       "14    True\n",
       "15    True\n",
       "16    True\n",
       "17    True\n",
       "18    True\n",
       "19    True\n",
       "20    True\n",
       "21    True\n",
       "Name: Gender, dtype: bool"
      ]
     },
     "execution_count": 11,
     "metadata": {},
     "output_type": "execute_result"
    }
   ],
   "source": [
    "#validating categorical data\n",
    "# is there a False in the list? \n",
    "thp_df2[\"Gender\"].isin([\"M\", \"F\"])"
   ]
  },
  {
   "cell_type": "code",
   "execution_count": 12,
   "id": "e2a70b6c",
   "metadata": {
    "scrolled": false
   },
   "outputs": [
    {
     "data": {
      "text/plain": [
       "0     False\n",
       "1     False\n",
       "2     False\n",
       "3     False\n",
       "4     False\n",
       "5     False\n",
       "6     False\n",
       "7     False\n",
       "8     False\n",
       "9     False\n",
       "10    False\n",
       "11    False\n",
       "12    False\n",
       "13    False\n",
       "14    False\n",
       "15    False\n",
       "16    False\n",
       "17    False\n",
       "18    False\n",
       "19    False\n",
       "20    False\n",
       "21    False\n",
       "Name: Gender, dtype: bool"
      ]
     },
     "execution_count": 12,
     "metadata": {},
     "output_type": "execute_result"
    }
   ],
   "source": [
    "## identifying values not on the list. Do you see a True?\n",
    "~thp_df2[\"Gender\"].isin([\"M\", \"F\"])"
   ]
  },
  {
   "cell_type": "code",
   "execution_count": 13,
   "id": "bc370c6e",
   "metadata": {
    "scrolled": true
   },
   "outputs": [
    {
     "data": {
      "text/html": [
       "<div>\n",
       "<style scoped>\n",
       "    .dataframe tbody tr th:only-of-type {\n",
       "        vertical-align: middle;\n",
       "    }\n",
       "\n",
       "    .dataframe tbody tr th {\n",
       "        vertical-align: top;\n",
       "    }\n",
       "\n",
       "    .dataframe thead th {\n",
       "        text-align: right;\n",
       "    }\n",
       "</style>\n",
       "<table border=\"1\" class=\"dataframe\">\n",
       "  <thead>\n",
       "    <tr style=\"text-align: right;\">\n",
       "      <th></th>\n",
       "      <th>Youth ID</th>\n",
       "      <th>Gender</th>\n",
       "      <th>PWS</th>\n",
       "      <th>DL</th>\n",
       "      <th>SC</th>\n",
       "      <th>RC</th>\n",
       "      <th>HMM</th>\n",
       "      <th>WSL</th>\n",
       "      <th>CEP</th>\n",
       "      <th>LF</th>\n",
       "      <th>total_score</th>\n",
       "      <th>Days_in_Program</th>\n",
       "      <th>Category</th>\n",
       "      <th>Result Score</th>\n",
       "      <th>fraud_score</th>\n",
       "      <th>mean_score</th>\n",
       "    </tr>\n",
       "  </thead>\n",
       "  <tbody>\n",
       "    <tr>\n",
       "      <th>0</th>\n",
       "      <td>1</td>\n",
       "      <td>M</td>\n",
       "      <td>-0.425201</td>\n",
       "      <td>0.113763</td>\n",
       "      <td>0.014711</td>\n",
       "      <td>-0.463621</td>\n",
       "      <td>0.147781</td>\n",
       "      <td>-0.214315</td>\n",
       "      <td>1.236359</td>\n",
       "      <td>0.847431</td>\n",
       "      <td>1.256908</td>\n",
       "      <td>264</td>\n",
       "      <td>Good</td>\n",
       "      <td>1</td>\n",
       "      <td>0.211725</td>\n",
       "      <td>0.211725</td>\n",
       "    </tr>\n",
       "    <tr>\n",
       "      <th>1</th>\n",
       "      <td>2</td>\n",
       "      <td>M</td>\n",
       "      <td>-0.156009</td>\n",
       "      <td>0.025946</td>\n",
       "      <td>0.208901</td>\n",
       "      <td>0.478853</td>\n",
       "      <td>-0.213461</td>\n",
       "      <td>0.239044</td>\n",
       "      <td>0.135644</td>\n",
       "      <td>-0.931528</td>\n",
       "      <td>-0.212610</td>\n",
       "      <td>467</td>\n",
       "      <td>Good</td>\n",
       "      <td>1</td>\n",
       "      <td>-0.031427</td>\n",
       "      <td>-0.031427</td>\n",
       "    </tr>\n",
       "    <tr>\n",
       "      <th>2</th>\n",
       "      <td>3</td>\n",
       "      <td>M</td>\n",
       "      <td>0.247779</td>\n",
       "      <td>0.377213</td>\n",
       "      <td>-0.179478</td>\n",
       "      <td>0.478853</td>\n",
       "      <td>-0.102310</td>\n",
       "      <td>0.541284</td>\n",
       "      <td>0.147874</td>\n",
       "      <td>-0.042048</td>\n",
       "      <td>1.469166</td>\n",
       "      <td>49</td>\n",
       "      <td>Bad</td>\n",
       "      <td>0</td>\n",
       "      <td>0.199038</td>\n",
       "      <td>0.199038</td>\n",
       "    </tr>\n",
       "    <tr>\n",
       "      <th>3</th>\n",
       "      <td>4</td>\n",
       "      <td>M</td>\n",
       "      <td>-0.761690</td>\n",
       "      <td>-3.150093</td>\n",
       "      <td>-2.736307</td>\n",
       "      <td>-1.510815</td>\n",
       "      <td>-2.450383</td>\n",
       "      <td>-2.329992</td>\n",
       "      <td>-2.298160</td>\n",
       "      <td>-2.265747</td>\n",
       "      <td>-17.503189</td>\n",
       "      <td>908</td>\n",
       "      <td>Good</td>\n",
       "      <td>1</td>\n",
       "      <td>-2.450257</td>\n",
       "      <td>-2.450257</td>\n",
       "    </tr>\n",
       "    <tr>\n",
       "      <th>4</th>\n",
       "      <td>5</td>\n",
       "      <td>F</td>\n",
       "      <td>1.055354</td>\n",
       "      <td>0.465030</td>\n",
       "      <td>0.581098</td>\n",
       "      <td>0.583573</td>\n",
       "      <td>-0.699749</td>\n",
       "      <td>0.616843</td>\n",
       "      <td>0.967295</td>\n",
       "      <td>0.847431</td>\n",
       "      <td>4.416875</td>\n",
       "      <td>241</td>\n",
       "      <td>Bad</td>\n",
       "      <td>0</td>\n",
       "      <td>0.615568</td>\n",
       "      <td>0.615568</td>\n",
       "    </tr>\n",
       "  </tbody>\n",
       "</table>\n",
       "</div>"
      ],
      "text/plain": [
       "   Youth ID Gender       PWS        DL        SC        RC       HMM  \\\n",
       "0         1      M -0.425201  0.113763  0.014711 -0.463621  0.147781   \n",
       "1         2      M -0.156009  0.025946  0.208901  0.478853 -0.213461   \n",
       "2         3      M  0.247779  0.377213 -0.179478  0.478853 -0.102310   \n",
       "3         4      M -0.761690 -3.150093 -2.736307 -1.510815 -2.450383   \n",
       "4         5      F  1.055354  0.465030  0.581098  0.583573 -0.699749   \n",
       "\n",
       "        WSL       CEP        LF  total_score  Days_in_Program Category  \\\n",
       "0 -0.214315  1.236359  0.847431     1.256908              264     Good   \n",
       "1  0.239044  0.135644 -0.931528    -0.212610              467     Good   \n",
       "2  0.541284  0.147874 -0.042048     1.469166               49      Bad   \n",
       "3 -2.329992 -2.298160 -2.265747   -17.503189              908     Good   \n",
       "4  0.616843  0.967295  0.847431     4.416875              241      Bad   \n",
       "\n",
       "   Result Score  fraud_score  mean_score  \n",
       "0             1     0.211725    0.211725  \n",
       "1             1    -0.031427   -0.031427  \n",
       "2             0     0.199038    0.199038  \n",
       "3             1    -2.450257   -2.450257  \n",
       "4             0     0.615568    0.615568  "
      ]
     },
     "execution_count": 13,
     "metadata": {},
     "output_type": "execute_result"
    }
   ],
   "source": [
    "thp_df2[thp_df2[\"Gender\"].isin([\"M\", \"F\"])].head()"
   ]
  },
  {
   "cell_type": "code",
   "execution_count": 42,
   "id": "c6071657",
   "metadata": {},
   "outputs": [
    {
     "name": "stdout",
     "output_type": "stream",
     "text": [
      "    Youth ID Gender       PWS        DL        SC        RC       HMM  \\\n",
      "0          1      M -0.425201  0.113763  0.014711 -0.463621  0.147781   \n",
      "1          2      M -0.156009  0.025946  0.208901  0.478853 -0.213461   \n",
      "3          4      M -0.761690 -3.150093 -2.736307 -1.510815 -2.450383   \n",
      "6          7      M -0.828988  0.201579  0.678192 -0.233239 -0.213461   \n",
      "10        11      M -1.030882 -0.574135 -0.842959 -1.510815 -0.394082   \n",
      "12        13      F  0.315077  0.201579  0.678192  0.248471 -0.213461   \n",
      "13        14      F  1.189950  0.801660  0.969477  0.939619  1.592749   \n",
      "14        15      M -0.223307  0.113763  0.111806 -0.107575 -0.588597   \n",
      "15        16      F  1.122652  0.889477  0.872382  0.813955  1.467704   \n",
      "16        17      M -0.694392  0.377213 -0.745864 -0.694004 -0.394082   \n",
      "18        19      F -0.963584  0.479666  0.613462  0.939619  0.342296   \n",
      "20        21      M -0.694392 -0.061871 -0.940054 -1.280433 -0.519128   \n",
      "21        22      M -2.174947 -1.525483 -2.072826 -2.327626 -1.422233   \n",
      "\n",
      "         WSL       CEP        LF  total_score  Days_in_Program Category  \\\n",
      "0  -0.214315  1.236359  0.847431     1.256908              264     Good   \n",
      "1   0.239044  0.135644 -0.931528    -0.212610              467     Good   \n",
      "3  -2.329992 -2.298160 -2.265747   -17.503189              908     Good   \n",
      "6  -0.289875 -0.806080 -0.931528    -2.423399              652     Good   \n",
      "10 -0.894354 -0.940611  0.402692    -5.785148              708     Good   \n",
      "12  0.843523 -0.121190  0.633956     2.586147              806     Good   \n",
      "13  0.767963  1.236359  0.847431     8.345208              225     Good   \n",
      "14 -0.214315  0.013342 -0.718053    -1.612937             1026     Good   \n",
      "15  1.145763  1.236359  0.847431     8.395723              156     Good   \n",
      "16 -0.214315 -1.075143  0.402692    -3.037897              260     Good   \n",
      "18  0.511060 -0.671548  0.331533     1.582504              253     Good   \n",
      "20 -0.138755 -0.524786 -1.145003    -5.304421              885     Good   \n",
      "21 -1.876633 -0.255722 -2.176799   -13.832269              713     Good   \n",
      "\n",
      "    Result Score  fraud_alert     sigma  \n",
      "0              1     0.211725  0.398059  \n",
      "1              1    -0.031427 -0.067687  \n",
      "3              1    -2.450257  1.536353  \n",
      "6              1    -0.359153  0.805896  \n",
      "10             1    -0.807398  0.546872  \n",
      "12             1     0.332243  0.409057  \n",
      "13             1     1.188560 -1.382131  \n",
      "14             1    -0.217491 -0.015384  \n",
      "15             1     1.199132 -1.639860  \n",
      "16             1    -0.450071  0.979676  \n",
      "18             1     0.139836  1.304687  \n",
      "20             1    -0.695337 -0.313697  \n",
      "21             1    -1.849779  0.157098  \n"
     ]
    }
   ],
   "source": [
    "# Define a Series describing whether each Categopry is not Bad.      \n",
    "not_bad=~thp_df2[\"Category\"].isin([\"Bad\"])\n",
    "# Print 'thp_df2' without records related to youth in the 'Bad'category\n",
    "print(thp_df2[not_bad])"
   ]
  },
  {
   "cell_type": "code",
   "execution_count": null,
   "id": "b58f7356",
   "metadata": {},
   "outputs": [],
   "source": []
  },
  {
   "cell_type": "code",
   "execution_count": 14,
   "id": "613dd1ee",
   "metadata": {},
   "outputs": [
    {
     "data": {
      "text/html": [
       "<div>\n",
       "<style scoped>\n",
       "    .dataframe tbody tr th:only-of-type {\n",
       "        vertical-align: middle;\n",
       "    }\n",
       "\n",
       "    .dataframe tbody tr th {\n",
       "        vertical-align: top;\n",
       "    }\n",
       "\n",
       "    .dataframe thead th {\n",
       "        text-align: right;\n",
       "    }\n",
       "</style>\n",
       "<table border=\"1\" class=\"dataframe\">\n",
       "  <thead>\n",
       "    <tr style=\"text-align: right;\">\n",
       "      <th></th>\n",
       "      <th>Youth ID</th>\n",
       "      <th>PWS</th>\n",
       "      <th>DL</th>\n",
       "      <th>SC</th>\n",
       "      <th>RC</th>\n",
       "      <th>HMM</th>\n",
       "      <th>WSL</th>\n",
       "      <th>CEP</th>\n",
       "      <th>LF</th>\n",
       "      <th>total_score</th>\n",
       "      <th>Days_in_Program</th>\n",
       "      <th>Result Score</th>\n",
       "      <th>fraud_score</th>\n",
       "      <th>mean_score</th>\n",
       "    </tr>\n",
       "  </thead>\n",
       "  <tbody>\n",
       "    <tr>\n",
       "      <th>0</th>\n",
       "      <td>1</td>\n",
       "      <td>-0.425201</td>\n",
       "      <td>0.113763</td>\n",
       "      <td>0.014711</td>\n",
       "      <td>-0.463621</td>\n",
       "      <td>0.147781</td>\n",
       "      <td>-0.214315</td>\n",
       "      <td>1.236359</td>\n",
       "      <td>0.847431</td>\n",
       "      <td>1.256908</td>\n",
       "      <td>264</td>\n",
       "      <td>1</td>\n",
       "      <td>0.211725</td>\n",
       "      <td>0.211725</td>\n",
       "    </tr>\n",
       "    <tr>\n",
       "      <th>1</th>\n",
       "      <td>2</td>\n",
       "      <td>-0.156009</td>\n",
       "      <td>0.025946</td>\n",
       "      <td>0.208901</td>\n",
       "      <td>0.478853</td>\n",
       "      <td>-0.213461</td>\n",
       "      <td>0.239044</td>\n",
       "      <td>0.135644</td>\n",
       "      <td>-0.931528</td>\n",
       "      <td>-0.212610</td>\n",
       "      <td>467</td>\n",
       "      <td>1</td>\n",
       "      <td>-0.031427</td>\n",
       "      <td>-0.031427</td>\n",
       "    </tr>\n",
       "    <tr>\n",
       "      <th>2</th>\n",
       "      <td>3</td>\n",
       "      <td>0.247779</td>\n",
       "      <td>0.377213</td>\n",
       "      <td>-0.179478</td>\n",
       "      <td>0.478853</td>\n",
       "      <td>-0.102310</td>\n",
       "      <td>0.541284</td>\n",
       "      <td>0.147874</td>\n",
       "      <td>-0.042048</td>\n",
       "      <td>1.469166</td>\n",
       "      <td>49</td>\n",
       "      <td>0</td>\n",
       "      <td>0.199038</td>\n",
       "      <td>0.199038</td>\n",
       "    </tr>\n",
       "    <tr>\n",
       "      <th>3</th>\n",
       "      <td>4</td>\n",
       "      <td>-0.761690</td>\n",
       "      <td>-3.150093</td>\n",
       "      <td>-2.736307</td>\n",
       "      <td>-1.510815</td>\n",
       "      <td>-2.450383</td>\n",
       "      <td>-2.329992</td>\n",
       "      <td>-2.298160</td>\n",
       "      <td>-2.265747</td>\n",
       "      <td>-17.503189</td>\n",
       "      <td>908</td>\n",
       "      <td>1</td>\n",
       "      <td>-2.450257</td>\n",
       "      <td>-2.450257</td>\n",
       "    </tr>\n",
       "    <tr>\n",
       "      <th>4</th>\n",
       "      <td>5</td>\n",
       "      <td>1.055354</td>\n",
       "      <td>0.465030</td>\n",
       "      <td>0.581098</td>\n",
       "      <td>0.583573</td>\n",
       "      <td>-0.699749</td>\n",
       "      <td>0.616843</td>\n",
       "      <td>0.967295</td>\n",
       "      <td>0.847431</td>\n",
       "      <td>4.416875</td>\n",
       "      <td>241</td>\n",
       "      <td>0</td>\n",
       "      <td>0.615568</td>\n",
       "      <td>0.615568</td>\n",
       "    </tr>\n",
       "  </tbody>\n",
       "</table>\n",
       "</div>"
      ],
      "text/plain": [
       "   Youth ID       PWS        DL        SC        RC       HMM       WSL  \\\n",
       "0         1 -0.425201  0.113763  0.014711 -0.463621  0.147781 -0.214315   \n",
       "1         2 -0.156009  0.025946  0.208901  0.478853 -0.213461  0.239044   \n",
       "2         3  0.247779  0.377213 -0.179478  0.478853 -0.102310  0.541284   \n",
       "3         4 -0.761690 -3.150093 -2.736307 -1.510815 -2.450383 -2.329992   \n",
       "4         5  1.055354  0.465030  0.581098  0.583573 -0.699749  0.616843   \n",
       "\n",
       "        CEP        LF  total_score  Days_in_Program  Result Score  \\\n",
       "0  1.236359  0.847431     1.256908              264             1   \n",
       "1  0.135644 -0.931528    -0.212610              467             1   \n",
       "2  0.147874 -0.042048     1.469166               49             0   \n",
       "3 -2.298160 -2.265747   -17.503189              908             1   \n",
       "4  0.967295  0.847431     4.416875              241             0   \n",
       "\n",
       "   fraud_score  mean_score  \n",
       "0     0.211725    0.211725  \n",
       "1    -0.031427   -0.031427  \n",
       "2     0.199038    0.199038  \n",
       "3    -2.450257   -2.450257  \n",
       "4     0.615568    0.615568  "
      ]
     },
     "execution_count": 14,
     "metadata": {},
     "output_type": "execute_result"
    }
   ],
   "source": [
    "#validating numerical data\n",
    "#viewing only numerical columns \n",
    "\n",
    "thp_df2.select_dtypes(\"number\").head()"
   ]
  },
  {
   "cell_type": "markdown",
   "id": "158e087a",
   "metadata": {},
   "source": [
    "## Summarizing Data "
   ]
  },
  {
   "cell_type": "code",
   "execution_count": 15,
   "id": "4b42a44b",
   "metadata": {},
   "outputs": [
    {
     "data": {
      "text/html": [
       "<div>\n",
       "<style scoped>\n",
       "    .dataframe tbody tr th:only-of-type {\n",
       "        vertical-align: middle;\n",
       "    }\n",
       "\n",
       "    .dataframe tbody tr th {\n",
       "        vertical-align: top;\n",
       "    }\n",
       "\n",
       "    .dataframe thead th {\n",
       "        text-align: right;\n",
       "    }\n",
       "</style>\n",
       "<table border=\"1\" class=\"dataframe\">\n",
       "  <thead>\n",
       "    <tr style=\"text-align: right;\">\n",
       "      <th></th>\n",
       "      <th>Youth ID</th>\n",
       "      <th>Gender</th>\n",
       "      <th>PWS</th>\n",
       "      <th>DL</th>\n",
       "      <th>SC</th>\n",
       "      <th>RC</th>\n",
       "      <th>HMM</th>\n",
       "      <th>WSL</th>\n",
       "      <th>CEP</th>\n",
       "      <th>LF</th>\n",
       "      <th>total_score</th>\n",
       "      <th>Days_in_Program</th>\n",
       "      <th>Category</th>\n",
       "      <th>Result Score</th>\n",
       "      <th>fraud_score</th>\n",
       "      <th>mean_score</th>\n",
       "    </tr>\n",
       "  </thead>\n",
       "  <tbody>\n",
       "    <tr>\n",
       "      <th>0</th>\n",
       "      <td>1</td>\n",
       "      <td>M</td>\n",
       "      <td>-0.425201</td>\n",
       "      <td>0.113763</td>\n",
       "      <td>0.014711</td>\n",
       "      <td>-0.463621</td>\n",
       "      <td>0.147781</td>\n",
       "      <td>-0.214315</td>\n",
       "      <td>1.236359</td>\n",
       "      <td>0.847431</td>\n",
       "      <td>1.256908</td>\n",
       "      <td>264</td>\n",
       "      <td>Good</td>\n",
       "      <td>1</td>\n",
       "      <td>0.211725</td>\n",
       "      <td>0.211725</td>\n",
       "    </tr>\n",
       "    <tr>\n",
       "      <th>1</th>\n",
       "      <td>2</td>\n",
       "      <td>M</td>\n",
       "      <td>-0.156009</td>\n",
       "      <td>0.025946</td>\n",
       "      <td>0.208901</td>\n",
       "      <td>0.478853</td>\n",
       "      <td>-0.213461</td>\n",
       "      <td>0.239044</td>\n",
       "      <td>0.135644</td>\n",
       "      <td>-0.931528</td>\n",
       "      <td>-0.212610</td>\n",
       "      <td>467</td>\n",
       "      <td>Good</td>\n",
       "      <td>1</td>\n",
       "      <td>-0.031427</td>\n",
       "      <td>-0.031427</td>\n",
       "    </tr>\n",
       "    <tr>\n",
       "      <th>2</th>\n",
       "      <td>3</td>\n",
       "      <td>M</td>\n",
       "      <td>0.247779</td>\n",
       "      <td>0.377213</td>\n",
       "      <td>-0.179478</td>\n",
       "      <td>0.478853</td>\n",
       "      <td>-0.102310</td>\n",
       "      <td>0.541284</td>\n",
       "      <td>0.147874</td>\n",
       "      <td>-0.042048</td>\n",
       "      <td>1.469166</td>\n",
       "      <td>49</td>\n",
       "      <td>Bad</td>\n",
       "      <td>0</td>\n",
       "      <td>0.199038</td>\n",
       "      <td>0.199038</td>\n",
       "    </tr>\n",
       "    <tr>\n",
       "      <th>3</th>\n",
       "      <td>4</td>\n",
       "      <td>M</td>\n",
       "      <td>-0.761690</td>\n",
       "      <td>-3.150093</td>\n",
       "      <td>-2.736307</td>\n",
       "      <td>-1.510815</td>\n",
       "      <td>-2.450383</td>\n",
       "      <td>-2.329992</td>\n",
       "      <td>-2.298160</td>\n",
       "      <td>-2.265747</td>\n",
       "      <td>-17.503189</td>\n",
       "      <td>908</td>\n",
       "      <td>Good</td>\n",
       "      <td>1</td>\n",
       "      <td>-2.450257</td>\n",
       "      <td>-2.450257</td>\n",
       "    </tr>\n",
       "    <tr>\n",
       "      <th>4</th>\n",
       "      <td>5</td>\n",
       "      <td>F</td>\n",
       "      <td>1.055354</td>\n",
       "      <td>0.465030</td>\n",
       "      <td>0.581098</td>\n",
       "      <td>0.583573</td>\n",
       "      <td>-0.699749</td>\n",
       "      <td>0.616843</td>\n",
       "      <td>0.967295</td>\n",
       "      <td>0.847431</td>\n",
       "      <td>4.416875</td>\n",
       "      <td>241</td>\n",
       "      <td>Bad</td>\n",
       "      <td>0</td>\n",
       "      <td>0.615568</td>\n",
       "      <td>0.615568</td>\n",
       "    </tr>\n",
       "  </tbody>\n",
       "</table>\n",
       "</div>"
      ],
      "text/plain": [
       "   Youth ID Gender       PWS        DL        SC        RC       HMM  \\\n",
       "0         1      M -0.425201  0.113763  0.014711 -0.463621  0.147781   \n",
       "1         2      M -0.156009  0.025946  0.208901  0.478853 -0.213461   \n",
       "2         3      M  0.247779  0.377213 -0.179478  0.478853 -0.102310   \n",
       "3         4      M -0.761690 -3.150093 -2.736307 -1.510815 -2.450383   \n",
       "4         5      F  1.055354  0.465030  0.581098  0.583573 -0.699749   \n",
       "\n",
       "        WSL       CEP        LF  total_score  Days_in_Program Category  \\\n",
       "0 -0.214315  1.236359  0.847431     1.256908              264     Good   \n",
       "1  0.239044  0.135644 -0.931528    -0.212610              467     Good   \n",
       "2  0.541284  0.147874 -0.042048     1.469166               49      Bad   \n",
       "3 -2.329992 -2.298160 -2.265747   -17.503189              908     Good   \n",
       "4  0.616843  0.967295  0.847431     4.416875              241      Bad   \n",
       "\n",
       "   Result Score  fraud_score  mean_score  \n",
       "0             1     0.211725    0.211725  \n",
       "1             1    -0.031427   -0.031427  \n",
       "2             0     0.199038    0.199038  \n",
       "3             1    -2.450257   -2.450257  \n",
       "4             0     0.615568    0.615568  "
      ]
     },
     "execution_count": 15,
     "metadata": {},
     "output_type": "execute_result"
    }
   ],
   "source": [
    "thp_df2.head()"
   ]
  },
  {
   "cell_type": "code",
   "execution_count": 16,
   "id": "3d0c81e9",
   "metadata": {},
   "outputs": [
    {
     "name": "stderr",
     "output_type": "stream",
     "text": [
      "/var/folders/zx/f1n4qhss7qq5b_ypxdtf1xr00000gn/T/ipykernel_16270/3001256366.py:1: FutureWarning: The default value of numeric_only in DataFrameGroupBy.mean is deprecated. In a future version, numeric_only will default to False. Either specify numeric_only or select only columns which should be valid for the function.\n",
      "  thp_df2.groupby(\"Gender\").mean()\n"
     ]
    },
    {
     "data": {
      "text/html": [
       "<div>\n",
       "<style scoped>\n",
       "    .dataframe tbody tr th:only-of-type {\n",
       "        vertical-align: middle;\n",
       "    }\n",
       "\n",
       "    .dataframe tbody tr th {\n",
       "        vertical-align: top;\n",
       "    }\n",
       "\n",
       "    .dataframe thead th {\n",
       "        text-align: right;\n",
       "    }\n",
       "</style>\n",
       "<table border=\"1\" class=\"dataframe\">\n",
       "  <thead>\n",
       "    <tr style=\"text-align: right;\">\n",
       "      <th></th>\n",
       "      <th>Youth ID</th>\n",
       "      <th>PWS</th>\n",
       "      <th>DL</th>\n",
       "      <th>SC</th>\n",
       "      <th>RC</th>\n",
       "      <th>HMM</th>\n",
       "      <th>WSL</th>\n",
       "      <th>CEP</th>\n",
       "      <th>LF</th>\n",
       "      <th>total_score</th>\n",
       "      <th>Days_in_Program</th>\n",
       "      <th>Result Score</th>\n",
       "      <th>fraud_score</th>\n",
       "      <th>mean_score</th>\n",
       "    </tr>\n",
       "    <tr>\n",
       "      <th>Gender</th>\n",
       "      <th></th>\n",
       "      <th></th>\n",
       "      <th></th>\n",
       "      <th></th>\n",
       "      <th></th>\n",
       "      <th></th>\n",
       "      <th></th>\n",
       "      <th></th>\n",
       "      <th></th>\n",
       "      <th></th>\n",
       "      <th></th>\n",
       "      <th></th>\n",
       "      <th></th>\n",
       "      <th></th>\n",
       "    </tr>\n",
       "  </thead>\n",
       "  <tbody>\n",
       "    <tr>\n",
       "      <th>F</th>\n",
       "      <td>12.833333</td>\n",
       "      <td>0.595485</td>\n",
       "      <td>0.477226</td>\n",
       "      <td>0.589189</td>\n",
       "      <td>0.723198</td>\n",
       "      <td>0.397871</td>\n",
       "      <td>0.574026</td>\n",
       "      <td>0.284444</td>\n",
       "      <td>0.690290</td>\n",
       "      <td>4.331730</td>\n",
       "      <td>359.5000</td>\n",
       "      <td>0.666667</td>\n",
       "      <td>0.584557</td>\n",
       "      <td>0.584557</td>\n",
       "    </tr>\n",
       "    <tr>\n",
       "      <th>M</th>\n",
       "      <td>11.000000</td>\n",
       "      <td>-0.223307</td>\n",
       "      <td>-0.178960</td>\n",
       "      <td>-0.220946</td>\n",
       "      <td>-0.271199</td>\n",
       "      <td>-0.149202</td>\n",
       "      <td>-0.215260</td>\n",
       "      <td>-0.106667</td>\n",
       "      <td>-0.258859</td>\n",
       "      <td>-1.624399</td>\n",
       "      <td>518.8125</td>\n",
       "      <td>0.562500</td>\n",
       "      <td>-0.219209</td>\n",
       "      <td>-0.219209</td>\n",
       "    </tr>\n",
       "  </tbody>\n",
       "</table>\n",
       "</div>"
      ],
      "text/plain": [
       "         Youth ID       PWS        DL        SC        RC       HMM       WSL  \\\n",
       "Gender                                                                          \n",
       "F       12.833333  0.595485  0.477226  0.589189  0.723198  0.397871  0.574026   \n",
       "M       11.000000 -0.223307 -0.178960 -0.220946 -0.271199 -0.149202 -0.215260   \n",
       "\n",
       "             CEP        LF  total_score  Days_in_Program  Result Score  \\\n",
       "Gender                                                                   \n",
       "F       0.284444  0.690290     4.331730         359.5000      0.666667   \n",
       "M      -0.106667 -0.258859    -1.624399         518.8125      0.562500   \n",
       "\n",
       "        fraud_score  mean_score  \n",
       "Gender                           \n",
       "F          0.584557    0.584557  \n",
       "M         -0.219209   -0.219209  "
      ]
     },
     "execution_count": 16,
     "metadata": {},
     "output_type": "execute_result"
    }
   ],
   "source": [
    "thp_df2.groupby(\"Gender\").mean()"
   ]
  },
  {
   "cell_type": "markdown",
   "id": "187e35c4",
   "metadata": {},
   "source": [
    "#### **AS you can see Females have higher total assesment & fraud_alert scores then Men.**"
   ]
  },
  {
   "cell_type": "code",
   "execution_count": 17,
   "id": "0c915282",
   "metadata": {},
   "outputs": [
    {
     "name": "stderr",
     "output_type": "stream",
     "text": [
      "/var/folders/zx/f1n4qhss7qq5b_ypxdtf1xr00000gn/T/ipykernel_16270/606738719.py:1: FutureWarning: ['Gender', 'Category'] did not aggregate successfully. If any error is raised this will raise in a future version of pandas. Drop these columns/ops to avoid this warning.\n",
      "  thp_df2.agg([\"mean\", \"std\"])\n"
     ]
    },
    {
     "data": {
      "text/html": [
       "<div>\n",
       "<style scoped>\n",
       "    .dataframe tbody tr th:only-of-type {\n",
       "        vertical-align: middle;\n",
       "    }\n",
       "\n",
       "    .dataframe tbody tr th {\n",
       "        vertical-align: top;\n",
       "    }\n",
       "\n",
       "    .dataframe thead th {\n",
       "        text-align: right;\n",
       "    }\n",
       "</style>\n",
       "<table border=\"1\" class=\"dataframe\">\n",
       "  <thead>\n",
       "    <tr style=\"text-align: right;\">\n",
       "      <th></th>\n",
       "      <th>Youth ID</th>\n",
       "      <th>PWS</th>\n",
       "      <th>DL</th>\n",
       "      <th>SC</th>\n",
       "      <th>RC</th>\n",
       "      <th>HMM</th>\n",
       "      <th>WSL</th>\n",
       "      <th>CEP</th>\n",
       "      <th>LF</th>\n",
       "      <th>total_score</th>\n",
       "      <th>Days_in_Program</th>\n",
       "      <th>Result Score</th>\n",
       "      <th>fraud_score</th>\n",
       "      <th>mean_score</th>\n",
       "    </tr>\n",
       "  </thead>\n",
       "  <tbody>\n",
       "    <tr>\n",
       "      <th>mean</th>\n",
       "      <td>11.500000</td>\n",
       "      <td>-3.835316e-16</td>\n",
       "      <td>9.083643e-16</td>\n",
       "      <td>-5.450186e-16</td>\n",
       "      <td>1.271710e-15</td>\n",
       "      <td>7.872491e-16</td>\n",
       "      <td>7.872491e-16</td>\n",
       "      <td>-1.362546e-16</td>\n",
       "      <td>1.857100e-15</td>\n",
       "      <td>4.279405e-15</td>\n",
       "      <td>475.363636</td>\n",
       "      <td>0.590909</td>\n",
       "      <td>-3.027881e-17</td>\n",
       "      <td>1.312082e-15</td>\n",
       "    </tr>\n",
       "    <tr>\n",
       "      <th>std</th>\n",
       "      <td>6.493587</td>\n",
       "      <td>1.000000e+00</td>\n",
       "      <td>1.000000e+00</td>\n",
       "      <td>1.000000e+00</td>\n",
       "      <td>1.000000e+00</td>\n",
       "      <td>1.000000e+00</td>\n",
       "      <td>1.000000e+00</td>\n",
       "      <td>1.000000e+00</td>\n",
       "      <td>1.000000e+00</td>\n",
       "      <td>7.176148e+00</td>\n",
       "      <td>282.466778</td>\n",
       "      <td>0.503236</td>\n",
       "      <td>1.000000e+00</td>\n",
       "      <td>1.000000e+00</td>\n",
       "    </tr>\n",
       "  </tbody>\n",
       "</table>\n",
       "</div>"
      ],
      "text/plain": [
       "       Youth ID           PWS            DL            SC            RC  \\\n",
       "mean  11.500000 -3.835316e-16  9.083643e-16 -5.450186e-16  1.271710e-15   \n",
       "std    6.493587  1.000000e+00  1.000000e+00  1.000000e+00  1.000000e+00   \n",
       "\n",
       "               HMM           WSL           CEP            LF   total_score  \\\n",
       "mean  7.872491e-16  7.872491e-16 -1.362546e-16  1.857100e-15  4.279405e-15   \n",
       "std   1.000000e+00  1.000000e+00  1.000000e+00  1.000000e+00  7.176148e+00   \n",
       "\n",
       "      Days_in_Program  Result Score   fraud_score    mean_score  \n",
       "mean       475.363636      0.590909 -3.027881e-17  1.312082e-15  \n",
       "std        282.466778      0.503236  1.000000e+00  1.000000e+00  "
      ]
     },
     "execution_count": 17,
     "metadata": {},
     "output_type": "execute_result"
    }
   ],
   "source": [
    "thp_df2.agg([\"mean\", \"std\"])"
   ]
  },
  {
   "cell_type": "code",
   "execution_count": 19,
   "id": "317aead1",
   "metadata": {},
   "outputs": [
    {
     "data": {
      "text/html": [
       "<div>\n",
       "<style scoped>\n",
       "    .dataframe tbody tr th:only-of-type {\n",
       "        vertical-align: middle;\n",
       "    }\n",
       "\n",
       "    .dataframe tbody tr th {\n",
       "        vertical-align: top;\n",
       "    }\n",
       "\n",
       "    .dataframe thead th {\n",
       "        text-align: right;\n",
       "    }\n",
       "</style>\n",
       "<table border=\"1\" class=\"dataframe\">\n",
       "  <thead>\n",
       "    <tr style=\"text-align: right;\">\n",
       "      <th></th>\n",
       "      <th>total_score</th>\n",
       "      <th>fraud_score</th>\n",
       "    </tr>\n",
       "  </thead>\n",
       "  <tbody>\n",
       "    <tr>\n",
       "      <th>mean</th>\n",
       "      <td>4.279405e-15</td>\n",
       "      <td>NaN</td>\n",
       "    </tr>\n",
       "    <tr>\n",
       "      <th>std</th>\n",
       "      <td>7.176148e+00</td>\n",
       "      <td>NaN</td>\n",
       "    </tr>\n",
       "    <tr>\n",
       "      <th>median</th>\n",
       "      <td>NaN</td>\n",
       "      <td>0.169437</td>\n",
       "    </tr>\n",
       "  </tbody>\n",
       "</table>\n",
       "</div>"
      ],
      "text/plain": [
       "         total_score  fraud_score\n",
       "mean    4.279405e-15          NaN\n",
       "std     7.176148e+00          NaN\n",
       "median           NaN     0.169437"
      ]
     },
     "execution_count": 19,
     "metadata": {},
     "output_type": "execute_result"
    }
   ],
   "source": [
    "#Creat a dict to specify aggregations for columns \n",
    "thp_df2.agg({\"total_score\":[\"mean\", \"std\"], \"fraud_score\":[\"median\"]})"
   ]
  },
  {
   "cell_type": "code",
   "execution_count": 20,
   "id": "ff8e0c9f",
   "metadata": {},
   "outputs": [
    {
     "data": {
      "text/html": [
       "<div>\n",
       "<style scoped>\n",
       "    .dataframe tbody tr th:only-of-type {\n",
       "        vertical-align: middle;\n",
       "    }\n",
       "\n",
       "    .dataframe tbody tr th {\n",
       "        vertical-align: top;\n",
       "    }\n",
       "\n",
       "    .dataframe thead th {\n",
       "        text-align: right;\n",
       "    }\n",
       "</style>\n",
       "<table border=\"1\" class=\"dataframe\">\n",
       "  <thead>\n",
       "    <tr style=\"text-align: right;\">\n",
       "      <th></th>\n",
       "      <th>mean_total_score</th>\n",
       "      <th>std_total_score</th>\n",
       "      <th>median_fraud_alert</th>\n",
       "    </tr>\n",
       "    <tr>\n",
       "      <th>Category</th>\n",
       "      <th></th>\n",
       "      <th></th>\n",
       "      <th></th>\n",
       "    </tr>\n",
       "  </thead>\n",
       "  <tbody>\n",
       "    <tr>\n",
       "      <th>Bad</th>\n",
       "      <td>3.060598</td>\n",
       "      <td>5.800691</td>\n",
       "      <td>0.604996</td>\n",
       "    </tr>\n",
       "    <tr>\n",
       "      <th>Good</th>\n",
       "      <td>-2.118875</td>\n",
       "      <td>7.469852</td>\n",
       "      <td>-0.217491</td>\n",
       "    </tr>\n",
       "  </tbody>\n",
       "</table>\n",
       "</div>"
      ],
      "text/plain": [
       "          mean_total_score  std_total_score  median_fraud_alert\n",
       "Category                                                       \n",
       "Bad               3.060598         5.800691            0.604996\n",
       "Good             -2.118875         7.469852           -0.217491"
      ]
     },
     "execution_count": 20,
     "metadata": {},
     "output_type": "execute_result"
    }
   ],
   "source": [
    "thp_df2.groupby(\"Category\").agg(\n",
    "    mean_total_score=(\"total_score\", \"mean\"),\n",
    "    std_total_score=(\"total_score\" , \"std\"),\n",
    "    median_fraud_score=(\"fraud_score\", \"median\")\n",
    ")\n"
   ]
  },
  {
   "cell_type": "markdown",
   "id": "2cac859c",
   "metadata": {},
   "source": [
    "### Analysis of the 'Good' Category in Total Score\n",
    "\n",
    "Upon examining the data, we find that the 'Good' category stands out in two significant ways:\n",
    "1. **Lowest Average Total Score**: The 'Good' category has the lowest mean `total_score` among all categories.\n",
    "2. **Largest Variation in Total Score**: This category also shows the greatest variability in `total_score`, indicating a wide range of scores within this group.\n"
   ]
  },
  {
   "cell_type": "code",
   "execution_count": 21,
   "id": "c1cac439",
   "metadata": {},
   "outputs": [
    {
     "data": {
      "image/png": "[encoded data removed]",
      "text/plain": [
       "<Figure size 640x480 with 1 Axes>"
      ]
     },
     "metadata": {},
     "output_type": "display_data"
    }
   ],
   "source": [
    "# create bar plot with confidence intervals for categorical data \n",
    "sns.barplot(data=thp_df2, x=\"Category\", y=\"total_score\")\n",
    "plt.show()"
   ]
  },
  {
   "cell_type": "markdown",
   "id": "726de19c",
   "metadata": {},
   "source": [
    "### Bar Plot Analysis of the 'Good' Category\n",
    "\n",
    "The bar plot analysis reveals two key insights about the 'Good' category:\n",
    "1. **Lowest Grand Total**: Youth in the 'Good' category have the lowest `grand_total` compared to other categories.\n",
    "2. **Smaller Confidence Interval**: The `total_score` for the 'Good' category shows a smaller confidence interval, suggesting that the average value is more consistent and reliable.\n",
    "\n",
    "These findings highlight the distinct characteristics of the 'Good' category in terms of `total_score` performance.\n"
   ]
  },
  {
   "cell_type": "code",
   "execution_count": 22,
   "id": "c825fc49",
   "metadata": {},
   "outputs": [
    {
     "name": "stderr",
     "output_type": "stream",
     "text": [
      "/var/folders/zx/f1n4qhss7qq5b_ypxdtf1xr00000gn/T/ipykernel_16270/243899695.py:2: FutureWarning: The default value of numeric_only in DataFrame.corr is deprecated. In a future version, it will default to False. Select only valid columns or specify the value of numeric_only to silence this warning.\n",
      "  c= thp_df2.corr()\n"
     ]
    },
    {
     "data": {
      "text/plain": [
       "<Axes: >"
      ]
     },
     "execution_count": 22,
     "metadata": {},
     "output_type": "execute_result"
    },
    {
     "data": {
      "image/png": "[encoded data removed]",
      "text/plain": [
       "<Figure size 1000x500 with 2 Axes>"
      ]
     },
     "metadata": {},
     "output_type": "display_data"
    }
   ],
   "source": [
    "plt.figure(figsize=(10,5))\n",
    "c= thp_df2.corr()\n",
    "sns.heatmap(c,cmap=\"BrBG\",annot=True)"
   ]
  },
  {
   "cell_type": "code",
   "execution_count": null,
   "id": "8c736160",
   "metadata": {},
   "outputs": [],
   "source": []
  },
  {
   "cell_type": "code",
   "execution_count": 24,
   "id": "fe971e0d",
   "metadata": {
    "scrolled": false
   },
   "outputs": [
    {
     "data": {
      "text/plain": [
       "<Axes: xlabel='WSL', ylabel='fraud_score'>"
      ]
     },
     "execution_count": 24,
     "metadata": {},
     "output_type": "execute_result"
    },
    {
     "data": {
      "image/png": "[encoded data removed]",
      "text/plain": [
       "<Figure size 640x480 with 1 Axes>"
      ]
     },
     "metadata": {},
     "output_type": "display_data"
    }
   ],
   "source": [
    "sns.regplot(x='WSL', y='fraud_score', data=thp_df2)"
   ]
  },
  {
   "cell_type": "code",
   "execution_count": 25,
   "id": "5cfc20af",
   "metadata": {},
   "outputs": [
    {
     "name": "stdout",
     "output_type": "stream",
     "text": [
      "The Pearson Correlation Coefficient is 0.9565795578371015 with a P-value of P = 3.592356274787972e-12\n"
     ]
    }
   ],
   "source": [
    "import scipy.stats as stats\n",
    "\n",
    "pearson_coef, p_value = stats.pearsonr(thp_df2['WSL'], thp_df2['fraud_score'])\n",
    "print(\"The Pearson Correlation Coefficient is\", pearson_coef, \"with a P-value of P =\", p_value)"
   ]
  },
  {
   "cell_type": "markdown",
   "id": "066354a4",
   "metadata": {},
   "source": [
    "### Statistical Analysis of \"WSL\" and \"fraud_alert\"\n",
    "\n",
    "The Pearson correlation coefficient of 0.956579 indicates an extremely strong positive linear relationship between the variables \"Work & Study Life (WSL)\" and \"fraud_alert.\" This high coefficient suggests that as \"fraud_alert\" increases, \"WSL\" also tends to increase, signifying a strong positive association between these two variables.\n",
    "\n",
    "The p-value associated with this correlation is approximately 0.00000000000359, which is exceedingly small and well below the commonly used significance level of 0.05. This extremely low p-value indicates that the correlation observed is statistically significant and highly unlikely to have occurred by random chance.\n",
    "\n",
    "Given that the p-value is less than 0.001, there is robust evidence supporting the significance of the correlation between \"WSL\" and \"fraud_alert.\" This significant correlation suggests a meaningful and potentially impactful relationship, highlighting that changes in \"fraud_alert\" are closely linked to variations in \"WSL.\""
   ]
  },
  {
   "cell_type": "code",
   "execution_count": 26,
   "id": "47138927",
   "metadata": {
    "scrolled": false
   },
   "outputs": [
    {
     "data": {
      "text/plain": [
       "<Axes: xlabel='LF', ylabel='fraud_score'>"
      ]
     },
     "execution_count": 26,
     "metadata": {},
     "output_type": "execute_result"
    },
    {
     "data": {
      "image/png": "[encoded data removed]",
      "text/plain": [
       "<Figure size 640x480 with 1 Axes>"
      ]
     },
     "metadata": {},
     "output_type": "display_data"
    }
   ],
   "source": [
    "sns.regplot(x='LF', y='fraud_score', data=thp_df2)\n"
   ]
  },
  {
   "cell_type": "code",
   "execution_count": 27,
   "id": "0453aa67",
   "metadata": {},
   "outputs": [
    {
     "name": "stdout",
     "output_type": "stream",
     "text": [
      "The Pearson Correlation Coefficient is 0.8620671455487847 with a P-value of P = 2.514736724453606e-07\n"
     ]
    }
   ],
   "source": [
    "pearson_coef, p_value = stats.pearsonr(thp_df2['LF'], thp_df2['fraud_score'])\n",
    "print(\"The Pearson Correlation Coefficient is\", pearson_coef, \"with a P-value of P =\", p_value)"
   ]
  },
  {
   "cell_type": "code",
   "execution_count": 28,
   "id": "0c0bd689",
   "metadata": {},
   "outputs": [
    {
     "data": {
      "text/plain": [
       "<Axes: xlabel='HMM', ylabel='fraud_score'>"
      ]
     },
     "execution_count": 28,
     "metadata": {},
     "output_type": "execute_result"
    },
    {
     "data": {
      "image/png": "[encoded data removed]",
      "text/plain": [
       "<Figure size 640x480 with 1 Axes>"
      ]
     },
     "metadata": {},
     "output_type": "display_data"
    }
   ],
   "source": [
    "sns.regplot(x='HMM', y='fraud_score', data=thp_df2)"
   ]
  },
  {
   "cell_type": "code",
   "execution_count": 29,
   "id": "e64d5168",
   "metadata": {},
   "outputs": [
    {
     "name": "stdout",
     "output_type": "stream",
     "text": [
      "The Pearson Correlation Coefficient is 0.9116835999719266 with a P-value of P = 3.6041150727500103e-09\n"
     ]
    }
   ],
   "source": [
    "pearson_coef, p_value = stats.pearsonr(thp_df2['HMM'], thp_df2['fraud_score'])\n",
    "print(\"The Pearson Correlation Coefficient is\", pearson_coef, \"with a P-value of P =\", p_value)"
   ]
  },
  {
   "cell_type": "code",
   "execution_count": 57,
   "id": "ffe4b120",
   "metadata": {},
   "outputs": [
    {
     "data": {
      "text/plain": [
       "Index(['Youth ID', 'Gender', 'PWS', 'DL', 'SC', 'RC', 'HMM', 'WSL', 'CEP',\n",
       "       'LF', 'total_score', 'Days_in_Program', 'Category', 'Result Score',\n",
       "       'fraud_alert', 'sigma'],\n",
       "      dtype='object')"
      ]
     },
     "execution_count": 57,
     "metadata": {},
     "output_type": "execute_result"
    }
   ],
   "source": [
    "thp_df2.columns"
   ]
  },
  {
   "cell_type": "code",
   "execution_count": null,
   "id": "50f7c696",
   "metadata": {},
   "outputs": [],
   "source": []
  },
  {
   "cell_type": "code",
   "execution_count": 30,
   "id": "c3b92269",
   "metadata": {},
   "outputs": [
    {
     "name": "stdout",
     "output_type": "stream",
     "text": [
      "Male Success Rate: 0.56\n",
      "Female Success Rate: 0.67\n"
     ]
    }
   ],
   "source": [
    "#This will give you the success rates for males and females separately. Are the rates notiably different? \n",
    "male_success_rate = thp_df2[thp_df2['Gender'] == 'M']['Result Score'].mean()\n",
    "female_success_rate = thp_df2[thp_df2['Gender'] == 'F']['Result Score'].mean()\n",
    "\n",
    "print(f\"Male Success Rate: {male_success_rate:.2f}\")\n",
    "print(f\"Female Success Rate: {female_success_rate:.2f}\")"
   ]
  },
  {
   "cell_type": "code",
   "execution_count": 31,
   "id": "2cbc98c1",
   "metadata": {},
   "outputs": [
    {
     "name": "stdout",
     "output_type": "stream",
     "text": [
      "Male fraud Rate: -0.22\n",
      "Female fraud Rate: 0.58\n"
     ]
    }
   ],
   "source": [
    "#This will give you the fraud rates for males and females separately. Are the rates notiably different? \n",
    "male_fraud_rate = thp_df2[thp_df2['Gender'] == 'M']['fraud_score'].mean()\n",
    "female_fraud_rate = thp_df2[thp_df2['Gender'] == 'F']['fraud_score'].mean()\n",
    "\n",
    "print(f\"Male fraud Rate: {male_fraud_rate:.2f}\")\n",
    "print(f\"Female fraud Rate: {female_fraud_rate:.2f}\")"
   ]
  },
  {
   "cell_type": "markdown",
   "id": "ce20cf0d",
   "metadata": {},
   "source": [
    "\n",
    "\n",
    "### Summary of Findings\n",
    "\n",
    "The analysis indicates a notable difference in the average \"fraud_score\" values between males and females within the dataset. Specifically, males generally exhibit lower \"fraud_score\" values, averaging -0.22, whereas females display higher averages, at 0.58. These figures represent the extent of the differences on the \"fraud_score\" scale, highlighting a gender-based disparity in the dataset."
   ]
  },
  {
   "cell_type": "code",
   "execution_count": 32,
   "id": "cee5f409",
   "metadata": {},
   "outputs": [
    {
     "data": {
      "text/plain": [
       "<Axes: xlabel='Category', ylabel='Days_in_Program'>"
      ]
     },
     "execution_count": 32,
     "metadata": {},
     "output_type": "execute_result"
    },
    {
     "data": {
      "image/png": "[encoded data removed]",
      "text/plain": [
       "<Figure size 640x480 with 1 Axes>"
      ]
     },
     "metadata": {},
     "output_type": "display_data"
    }
   ],
   "source": [
    "sns.boxplot(x='Category', y='Days_in_Program', data=thp_df2)"
   ]
  },
  {
   "cell_type": "markdown",
   "id": "0059f129",
   "metadata": {},
   "source": []
  },
  {
   "cell_type": "markdown",
   "id": "8204df49",
   "metadata": {},
   "source": []
  },
  {
   "cell_type": "code",
   "execution_count": 34,
   "id": "32820467",
   "metadata": {
    "scrolled": false
   },
   "outputs": [
    {
     "data": {
      "text/plain": [
       "<Axes: xlabel='Category', ylabel='fraud_score'>"
      ]
     },
     "execution_count": 34,
     "metadata": {},
     "output_type": "execute_result"
    },
    {
     "data": {
      "image/png": "[encoded data removed]",
      "text/plain": [
       "<Figure size 640x480 with 1 Axes>"
      ]
     },
     "metadata": {},
     "output_type": "display_data"
    }
   ],
   "source": [
    "sns.boxplot(x='Category', y='fraud_score', data=thp_df2)"
   ]
  },
  {
   "cell_type": "markdown",
   "id": "fe6b0481",
   "metadata": {},
   "source": [
    "### WSL is a potential perdictor for fraud_alert."
   ]
  },
  {
   "cell_type": "code",
   "execution_count": 36,
   "id": "b2403a98",
   "metadata": {},
   "outputs": [
    {
     "data": {
      "text/plain": [
       "<Axes: xlabel='mean_score', ylabel='fraud_score'>"
      ]
     },
     "execution_count": 36,
     "metadata": {},
     "output_type": "execute_result"
    },
    {
     "data": {
      "image/png": "[encoded data removed]",
      "text/plain": [
       "<Figure size 640x480 with 1 Axes>"
      ]
     },
     "metadata": {},
     "output_type": "display_data"
    }
   ],
   "source": [
    "sns.regplot(x='mean_score', y='fraud_score', data=thp_df2)"
   ]
  },
  {
   "cell_type": "code",
   "execution_count": 37,
   "id": "6b84485b",
   "metadata": {},
   "outputs": [
    {
     "data": {
      "text/plain": [
       "<Axes: xlabel='HMM', ylabel='mean_score'>"
      ]
     },
     "execution_count": 37,
     "metadata": {},
     "output_type": "execute_result"
    },
    {
     "data": {
      "image/png": "[encoded data removed]",
      "text/plain": [
       "<Figure size 640x480 with 1 Axes>"
      ]
     },
     "metadata": {},
     "output_type": "display_data"
    }
   ],
   "source": [
    "sns.regplot(x='HMM', y='mean_score', data=thp_df2)"
   ]
  },
  {
   "cell_type": "code",
   "execution_count": 38,
   "id": "37804e43",
   "metadata": {},
   "outputs": [
    {
     "data": {
      "text/html": [
       "<div>\n",
       "<style scoped>\n",
       "    .dataframe tbody tr th:only-of-type {\n",
       "        vertical-align: middle;\n",
       "    }\n",
       "\n",
       "    .dataframe tbody tr th {\n",
       "        vertical-align: top;\n",
       "    }\n",
       "\n",
       "    .dataframe thead th {\n",
       "        text-align: right;\n",
       "    }\n",
       "</style>\n",
       "<table border=\"1\" class=\"dataframe\">\n",
       "  <thead>\n",
       "    <tr style=\"text-align: right;\">\n",
       "      <th></th>\n",
       "      <th>mean_score</th>\n",
       "      <th>Days_in_Program</th>\n",
       "    </tr>\n",
       "  </thead>\n",
       "  <tbody>\n",
       "    <tr>\n",
       "      <th>mean_score</th>\n",
       "      <td>1.000000</td>\n",
       "      <td>-0.570599</td>\n",
       "    </tr>\n",
       "    <tr>\n",
       "      <th>Days_in_Program</th>\n",
       "      <td>-0.570599</td>\n",
       "      <td>1.000000</td>\n",
       "    </tr>\n",
       "  </tbody>\n",
       "</table>\n",
       "</div>"
      ],
      "text/plain": [
       "                 mean_score  Days_in_Program\n",
       "mean_score         1.000000        -0.570599\n",
       "Days_in_Program   -0.570599         1.000000"
      ]
     },
     "execution_count": 38,
     "metadata": {},
     "output_type": "execute_result"
    }
   ],
   "source": [
    "thp_df2[['mean_score', 'Days_in_Program']].corr()"
   ]
  },
  {
   "cell_type": "markdown",
   "id": "318418c8",
   "metadata": {},
   "source": []
  },
  {
   "cell_type": "code",
   "execution_count": 39,
   "id": "c01a2bb9",
   "metadata": {},
   "outputs": [
    {
     "data": {
      "text/plain": [
       "<Axes: xlabel='Category', ylabel='PWS'>"
      ]
     },
     "execution_count": 39,
     "metadata": {},
     "output_type": "execute_result"
    },
    {
     "data": {
      "image/png": "[encoded data removed]",
      "text/plain": [
       "<Figure size 640x480 with 1 Axes>"
      ]
     },
     "metadata": {},
     "output_type": "display_data"
    }
   ],
   "source": [
    "sns.boxplot(x='Category', y='PWS', data=thp_df2)"
   ]
  },
  {
   "cell_type": "markdown",
   "id": "2386c087",
   "metadata": {},
   "source": [
    "### Analysis Interpretation\n",
    "\n",
    "The data suggests that youth who assessed themselves honestly and without bias tended to take the program more seriously, which correlated with greater success and longer tenure within the program. Conversely, those who assigned themselves higher scores, possibly under the misconception that higher scores would guarantee entry, generally had less successful outcomes, often resulting in discharge from the program. This pattern indicates that higher scores do not necessarily predict positive results; in fact, they may reflect a lack of self-awareness or unrealistic self-perceptions, leading to poorer performance in the program. Conversely, lower scores may indicate a more realistic self-assessment and a more earnest engagement with the program's objectives."
   ]
  },
  {
   "cell_type": "code",
   "execution_count": 40,
   "id": "801842ea",
   "metadata": {},
   "outputs": [
    {
     "data": {
      "text/html": [
       "<div>\n",
       "<style scoped>\n",
       "    .dataframe tbody tr th:only-of-type {\n",
       "        vertical-align: middle;\n",
       "    }\n",
       "\n",
       "    .dataframe tbody tr th {\n",
       "        vertical-align: top;\n",
       "    }\n",
       "\n",
       "    .dataframe thead th {\n",
       "        text-align: right;\n",
       "    }\n",
       "</style>\n",
       "<table border=\"1\" class=\"dataframe\">\n",
       "  <thead>\n",
       "    <tr style=\"text-align: right;\">\n",
       "      <th></th>\n",
       "      <th>PWS</th>\n",
       "      <th>DL</th>\n",
       "      <th>SC</th>\n",
       "      <th>RC</th>\n",
       "      <th>HMM</th>\n",
       "      <th>WSL</th>\n",
       "      <th>CEP</th>\n",
       "      <th>LF</th>\n",
       "      <th>Days_in_Program</th>\n",
       "      <th>fraud_score</th>\n",
       "    </tr>\n",
       "    <tr>\n",
       "      <th>Category</th>\n",
       "      <th></th>\n",
       "      <th></th>\n",
       "      <th></th>\n",
       "      <th></th>\n",
       "      <th></th>\n",
       "      <th></th>\n",
       "      <th></th>\n",
       "      <th></th>\n",
       "      <th></th>\n",
       "      <th></th>\n",
       "    </tr>\n",
       "  </thead>\n",
       "  <tbody>\n",
       "    <tr>\n",
       "      <th>Bad</th>\n",
       "      <td>0.591746</td>\n",
       "      <td>0.234104</td>\n",
       "      <td>0.354543</td>\n",
       "      <td>0.523068</td>\n",
       "      <td>0.317595</td>\n",
       "      <td>0.296134</td>\n",
       "      <td>0.31502</td>\n",
       "      <td>0.428388</td>\n",
       "      <td>348.333333</td>\n",
       "      <td>0.421046</td>\n",
       "    </tr>\n",
       "    <tr>\n",
       "      <th>Good</th>\n",
       "      <td>-0.409670</td>\n",
       "      <td>-0.162072</td>\n",
       "      <td>-0.245453</td>\n",
       "      <td>-0.362124</td>\n",
       "      <td>-0.219874</td>\n",
       "      <td>-0.205016</td>\n",
       "      <td>-0.21809</td>\n",
       "      <td>-0.296576</td>\n",
       "      <td>563.307692</td>\n",
       "      <td>-0.291494</td>\n",
       "    </tr>\n",
       "  </tbody>\n",
       "</table>\n",
       "</div>"
      ],
      "text/plain": [
       "               PWS        DL        SC        RC       HMM       WSL      CEP  \\\n",
       "Category                                                                        \n",
       "Bad       0.591746  0.234104  0.354543  0.523068  0.317595  0.296134  0.31502   \n",
       "Good     -0.409670 -0.162072 -0.245453 -0.362124 -0.219874 -0.205016 -0.21809   \n",
       "\n",
       "                LF  Days_in_Program  fraud_score  \n",
       "Category                                          \n",
       "Bad       0.428388       348.333333     0.421046  \n",
       "Good     -0.296576       563.307692    -0.291494  "
      ]
     },
     "execution_count": 40,
     "metadata": {},
     "output_type": "execute_result"
    }
   ],
   "source": [
    "#Group by 'Category' and calculate mean of selected columns\n",
    "category_groupby = thp_df2.groupby('Category')[['PWS', 'DL', 'SC', 'RC', 'HMM', 'WSL', 'CEP', 'LF', 'Days_in_Program','fraud_score']].mean()\n",
    "category_groupby"
   ]
  },
  {
   "cell_type": "code",
   "execution_count": 41,
   "id": "45a450cf",
   "metadata": {},
   "outputs": [
    {
     "data": {
      "image/png": "[encoded data removed]",
      "text/plain": [
       "<Figure size 640x480 with 1 Axes>"
      ]
     },
     "metadata": {},
     "output_type": "display_data"
    }
   ],
   "source": [
    "category_groupby['Days_in_Program'].plot(kind='bar', rot=90)\n",
    "plt.ylabel('AVG Days in Program')\n",
    "plt.title('AVG Days in Program by Category')\n",
    "plt.show()"
   ]
  },
  {
   "cell_type": "code",
   "execution_count": null,
   "id": "76342e4b",
   "metadata": {
    "scrolled": false
   },
   "outputs": [],
   "source": []
  },
  {
   "cell_type": "code",
   "execution_count": 42,
   "id": "26acc831",
   "metadata": {},
   "outputs": [
    {
     "data": {
      "text/html": [
       "<div>\n",
       "<style scoped>\n",
       "    .dataframe tbody tr th:only-of-type {\n",
       "        vertical-align: middle;\n",
       "    }\n",
       "\n",
       "    .dataframe tbody tr th {\n",
       "        vertical-align: top;\n",
       "    }\n",
       "\n",
       "    .dataframe thead th {\n",
       "        text-align: right;\n",
       "    }\n",
       "</style>\n",
       "<table border=\"1\" class=\"dataframe\">\n",
       "  <thead>\n",
       "    <tr style=\"text-align: right;\">\n",
       "      <th></th>\n",
       "      <th>PWS</th>\n",
       "      <th>DL</th>\n",
       "      <th>SC</th>\n",
       "      <th>RC</th>\n",
       "      <th>HMM</th>\n",
       "      <th>WSL</th>\n",
       "      <th>CEP</th>\n",
       "      <th>LF</th>\n",
       "      <th>Days_in_Program</th>\n",
       "      <th>fraud_score</th>\n",
       "    </tr>\n",
       "    <tr>\n",
       "      <th>Gender</th>\n",
       "      <th></th>\n",
       "      <th></th>\n",
       "      <th></th>\n",
       "      <th></th>\n",
       "      <th></th>\n",
       "      <th></th>\n",
       "      <th></th>\n",
       "      <th></th>\n",
       "      <th></th>\n",
       "      <th></th>\n",
       "    </tr>\n",
       "  </thead>\n",
       "  <tbody>\n",
       "    <tr>\n",
       "      <th>F</th>\n",
       "      <td>0.595485</td>\n",
       "      <td>0.477226</td>\n",
       "      <td>0.589189</td>\n",
       "      <td>0.723198</td>\n",
       "      <td>0.397871</td>\n",
       "      <td>0.574026</td>\n",
       "      <td>0.284444</td>\n",
       "      <td>0.690290</td>\n",
       "      <td>359.5000</td>\n",
       "      <td>0.584557</td>\n",
       "    </tr>\n",
       "    <tr>\n",
       "      <th>M</th>\n",
       "      <td>-0.223307</td>\n",
       "      <td>-0.178960</td>\n",
       "      <td>-0.220946</td>\n",
       "      <td>-0.271199</td>\n",
       "      <td>-0.149202</td>\n",
       "      <td>-0.215260</td>\n",
       "      <td>-0.106667</td>\n",
       "      <td>-0.258859</td>\n",
       "      <td>518.8125</td>\n",
       "      <td>-0.219209</td>\n",
       "    </tr>\n",
       "  </tbody>\n",
       "</table>\n",
       "</div>"
      ],
      "text/plain": [
       "             PWS        DL        SC        RC       HMM       WSL       CEP  \\\n",
       "Gender                                                                         \n",
       "F       0.595485  0.477226  0.589189  0.723198  0.397871  0.574026  0.284444   \n",
       "M      -0.223307 -0.178960 -0.220946 -0.271199 -0.149202 -0.215260 -0.106667   \n",
       "\n",
       "              LF  Days_in_Program  fraud_score  \n",
       "Gender                                          \n",
       "F       0.690290         359.5000     0.584557  \n",
       "M      -0.258859         518.8125    -0.219209  "
      ]
     },
     "execution_count": 42,
     "metadata": {},
     "output_type": "execute_result"
    }
   ],
   "source": [
    "#Group by 'Gender' and calculate mean of selected columns\n",
    "gender_groupby = thp_df2.groupby('Gender')[['PWS', 'DL', 'SC', 'RC', 'HMM', 'WSL', 'CEP', 'LF', 'Days_in_Program','fraud_score']].mean()\n",
    "gender_groupby"
   ]
  },
  {
   "cell_type": "code",
   "execution_count": 44,
   "id": "9cd6f6e9",
   "metadata": {
    "scrolled": false
   },
   "outputs": [
    {
     "data": {
      "image/png": "[encoded data removed]",
      "text/plain": [
       "<Figure size 640x480 with 1 Axes>"
      ]
     },
     "metadata": {},
     "output_type": "display_data"
    }
   ],
   "source": [
    "gender_groupby['Days_in_Program'].plot(kind='bar', rot=360)\n",
    "plt.ylabel('AVG Days in Program')\n",
    "plt.title('AVG Days in Program by Gender')\n",
    "plt.show()"
   ]
  },
  {
   "cell_type": "code",
   "execution_count": 46,
   "id": "0906e721",
   "metadata": {},
   "outputs": [
    {
     "data": {
      "text/html": [
       "<div>\n",
       "<style scoped>\n",
       "    .dataframe tbody tr th:only-of-type {\n",
       "        vertical-align: middle;\n",
       "    }\n",
       "\n",
       "    .dataframe tbody tr th {\n",
       "        vertical-align: top;\n",
       "    }\n",
       "\n",
       "    .dataframe thead th {\n",
       "        text-align: right;\n",
       "    }\n",
       "</style>\n",
       "<table border=\"1\" class=\"dataframe\">\n",
       "  <thead>\n",
       "    <tr style=\"text-align: right;\">\n",
       "      <th></th>\n",
       "      <th>mean_score</th>\n",
       "      <th>fraud_score</th>\n",
       "    </tr>\n",
       "  </thead>\n",
       "  <tbody>\n",
       "    <tr>\n",
       "      <th>mean_score</th>\n",
       "      <td>1.0</td>\n",
       "      <td>1.0</td>\n",
       "    </tr>\n",
       "    <tr>\n",
       "      <th>fraud_score</th>\n",
       "      <td>1.0</td>\n",
       "      <td>1.0</td>\n",
       "    </tr>\n",
       "  </tbody>\n",
       "</table>\n",
       "</div>"
      ],
      "text/plain": [
       "             mean_score  fraud_score\n",
       "mean_score          1.0          1.0\n",
       "fraud_score         1.0          1.0"
      ]
     },
     "execution_count": 46,
     "metadata": {},
     "output_type": "execute_result"
    }
   ],
   "source": [
    "thp_df2[['mean_score', 'fraud_score']].corr()"
   ]
  },
  {
   "cell_type": "code",
   "execution_count": 47,
   "id": "5b93bc96",
   "metadata": {},
   "outputs": [
    {
     "data": {
      "text/html": [
       "<div>\n",
       "<style scoped>\n",
       "    .dataframe tbody tr th:only-of-type {\n",
       "        vertical-align: middle;\n",
       "    }\n",
       "\n",
       "    .dataframe tbody tr th {\n",
       "        vertical-align: top;\n",
       "    }\n",
       "\n",
       "    .dataframe thead th {\n",
       "        text-align: right;\n",
       "    }\n",
       "</style>\n",
       "<table border=\"1\" class=\"dataframe\">\n",
       "  <thead>\n",
       "    <tr style=\"text-align: right;\">\n",
       "      <th></th>\n",
       "      <th>Youth ID</th>\n",
       "      <th>PWS</th>\n",
       "      <th>DL</th>\n",
       "      <th>SC</th>\n",
       "      <th>RC</th>\n",
       "      <th>HMM</th>\n",
       "      <th>WSL</th>\n",
       "      <th>CEP</th>\n",
       "      <th>LF</th>\n",
       "      <th>total_score</th>\n",
       "      <th>Days_in_Program</th>\n",
       "      <th>Result Score</th>\n",
       "      <th>fraud_score</th>\n",
       "      <th>mean_score</th>\n",
       "    </tr>\n",
       "  </thead>\n",
       "  <tbody>\n",
       "    <tr>\n",
       "      <th>count</th>\n",
       "      <td>22.000000</td>\n",
       "      <td>2.200000e+01</td>\n",
       "      <td>2.200000e+01</td>\n",
       "      <td>2.200000e+01</td>\n",
       "      <td>2.200000e+01</td>\n",
       "      <td>2.200000e+01</td>\n",
       "      <td>2.200000e+01</td>\n",
       "      <td>2.200000e+01</td>\n",
       "      <td>2.200000e+01</td>\n",
       "      <td>2.200000e+01</td>\n",
       "      <td>22.000000</td>\n",
       "      <td>22.000000</td>\n",
       "      <td>2.200000e+01</td>\n",
       "      <td>2.200000e+01</td>\n",
       "    </tr>\n",
       "    <tr>\n",
       "      <th>mean</th>\n",
       "      <td>11.500000</td>\n",
       "      <td>-3.835316e-16</td>\n",
       "      <td>9.083643e-16</td>\n",
       "      <td>-5.450186e-16</td>\n",
       "      <td>1.271710e-15</td>\n",
       "      <td>7.872491e-16</td>\n",
       "      <td>7.872491e-16</td>\n",
       "      <td>-1.362546e-16</td>\n",
       "      <td>1.857100e-15</td>\n",
       "      <td>4.279405e-15</td>\n",
       "      <td>475.363636</td>\n",
       "      <td>0.590909</td>\n",
       "      <td>-3.027881e-17</td>\n",
       "      <td>1.312082e-15</td>\n",
       "    </tr>\n",
       "    <tr>\n",
       "      <th>std</th>\n",
       "      <td>6.493587</td>\n",
       "      <td>1.000000e+00</td>\n",
       "      <td>1.000000e+00</td>\n",
       "      <td>1.000000e+00</td>\n",
       "      <td>1.000000e+00</td>\n",
       "      <td>1.000000e+00</td>\n",
       "      <td>1.000000e+00</td>\n",
       "      <td>1.000000e+00</td>\n",
       "      <td>1.000000e+00</td>\n",
       "      <td>7.176148e+00</td>\n",
       "      <td>282.466778</td>\n",
       "      <td>0.503236</td>\n",
       "      <td>1.000000e+00</td>\n",
       "      <td>1.000000e+00</td>\n",
       "    </tr>\n",
       "    <tr>\n",
       "      <th>min</th>\n",
       "      <td>1.000000</td>\n",
       "      <td>-2.174947e+00</td>\n",
       "      <td>-3.150093e+00</td>\n",
       "      <td>-2.736307e+00</td>\n",
       "      <td>-2.327626e+00</td>\n",
       "      <td>-2.450383e+00</td>\n",
       "      <td>-2.329992e+00</td>\n",
       "      <td>-2.298160e+00</td>\n",
       "      <td>-2.265747e+00</td>\n",
       "      <td>-1.750319e+01</td>\n",
       "      <td>49.000000</td>\n",
       "      <td>0.000000</td>\n",
       "      <td>-2.450257e+00</td>\n",
       "      <td>-2.450257e+00</td>\n",
       "    </tr>\n",
       "    <tr>\n",
       "      <th>25%</th>\n",
       "      <td>6.250000</td>\n",
       "      <td>-7.448658e-01</td>\n",
       "      <td>2.594585e-02</td>\n",
       "      <td>-6.042679e-01</td>\n",
       "      <td>-6.364083e-01</td>\n",
       "      <td>-4.878662e-01</td>\n",
       "      <td>-2.709853e-01</td>\n",
       "      <td>-7.724465e-01</td>\n",
       "      <td>-8.781589e-01</td>\n",
       "      <td>-2.884273e+00</td>\n",
       "      <td>244.000000</td>\n",
       "      <td>0.000000</td>\n",
       "      <td>-4.273414e-01</td>\n",
       "      <td>-4.273414e-01</td>\n",
       "    </tr>\n",
       "    <tr>\n",
       "      <th>50%</th>\n",
       "      <td>11.500000</td>\n",
       "      <td>4.588496e-02</td>\n",
       "      <td>2.454877e-01</td>\n",
       "      <td>3.059957e-01</td>\n",
       "      <td>4.788532e-01</td>\n",
       "      <td>-1.578855e-01</td>\n",
       "      <td>2.012641e-01</td>\n",
       "      <td>-5.392394e-02</td>\n",
       "      <td>4.026917e-01</td>\n",
       "      <td>1.363037e+00</td>\n",
       "      <td>469.500000</td>\n",
       "      <td>1.000000</td>\n",
       "      <td>1.694373e-01</td>\n",
       "      <td>1.694373e-01</td>\n",
       "    </tr>\n",
       "    <tr>\n",
       "      <th>75%</th>\n",
       "      <td>16.750000</td>\n",
       "      <td>1.004881e+00</td>\n",
       "      <td>4.760066e-01</td>\n",
       "      <td>6.781923e-01</td>\n",
       "      <td>8.139553e-01</td>\n",
       "      <td>3.388223e-01</td>\n",
       "      <td>7.301833e-01</td>\n",
       "      <td>9.672954e-01</td>\n",
       "      <td>8.474315e-01</td>\n",
       "      <td>4.403012e+00</td>\n",
       "      <td>694.000000</td>\n",
       "      <td>1.000000</td>\n",
       "      <td>6.129247e-01</td>\n",
       "      <td>6.129247e-01</td>\n",
       "    </tr>\n",
       "    <tr>\n",
       "      <th>max</th>\n",
       "      <td>22.000000</td>\n",
       "      <td>1.189950e+00</td>\n",
       "      <td>8.894770e-01</td>\n",
       "      <td>9.694766e-01</td>\n",
       "      <td>9.396185e-01</td>\n",
       "      <td>1.592749e+00</td>\n",
       "      <td>1.145763e+00</td>\n",
       "      <td>1.236359e+00</td>\n",
       "      <td>8.474315e-01</td>\n",
       "      <td>8.810825e+00</td>\n",
       "      <td>1026.000000</td>\n",
       "      <td>1.000000</td>\n",
       "      <td>1.254105e+00</td>\n",
       "      <td>1.254105e+00</td>\n",
       "    </tr>\n",
       "  </tbody>\n",
       "</table>\n",
       "</div>"
      ],
      "text/plain": [
       "        Youth ID           PWS            DL            SC            RC  \\\n",
       "count  22.000000  2.200000e+01  2.200000e+01  2.200000e+01  2.200000e+01   \n",
       "mean   11.500000 -3.835316e-16  9.083643e-16 -5.450186e-16  1.271710e-15   \n",
       "std     6.493587  1.000000e+00  1.000000e+00  1.000000e+00  1.000000e+00   \n",
       "min     1.000000 -2.174947e+00 -3.150093e+00 -2.736307e+00 -2.327626e+00   \n",
       "25%     6.250000 -7.448658e-01  2.594585e-02 -6.042679e-01 -6.364083e-01   \n",
       "50%    11.500000  4.588496e-02  2.454877e-01  3.059957e-01  4.788532e-01   \n",
       "75%    16.750000  1.004881e+00  4.760066e-01  6.781923e-01  8.139553e-01   \n",
       "max    22.000000  1.189950e+00  8.894770e-01  9.694766e-01  9.396185e-01   \n",
       "\n",
       "                HMM           WSL           CEP            LF   total_score  \\\n",
       "count  2.200000e+01  2.200000e+01  2.200000e+01  2.200000e+01  2.200000e+01   \n",
       "mean   7.872491e-16  7.872491e-16 -1.362546e-16  1.857100e-15  4.279405e-15   \n",
       "std    1.000000e+00  1.000000e+00  1.000000e+00  1.000000e+00  7.176148e+00   \n",
       "min   -2.450383e+00 -2.329992e+00 -2.298160e+00 -2.265747e+00 -1.750319e+01   \n",
       "25%   -4.878662e-01 -2.709853e-01 -7.724465e-01 -8.781589e-01 -2.884273e+00   \n",
       "50%   -1.578855e-01  2.012641e-01 -5.392394e-02  4.026917e-01  1.363037e+00   \n",
       "75%    3.388223e-01  7.301833e-01  9.672954e-01  8.474315e-01  4.403012e+00   \n",
       "max    1.592749e+00  1.145763e+00  1.236359e+00  8.474315e-01  8.810825e+00   \n",
       "\n",
       "       Days_in_Program  Result Score   fraud_score    mean_score  \n",
       "count        22.000000     22.000000  2.200000e+01  2.200000e+01  \n",
       "mean        475.363636      0.590909 -3.027881e-17  1.312082e-15  \n",
       "std         282.466778      0.503236  1.000000e+00  1.000000e+00  \n",
       "min          49.000000      0.000000 -2.450257e+00 -2.450257e+00  \n",
       "25%         244.000000      0.000000 -4.273414e-01 -4.273414e-01  \n",
       "50%         469.500000      1.000000  1.694373e-01  1.694373e-01  \n",
       "75%         694.000000      1.000000  6.129247e-01  6.129247e-01  \n",
       "max        1026.000000      1.000000  1.254105e+00  1.254105e+00  "
      ]
     },
     "execution_count": 47,
     "metadata": {},
     "output_type": "execute_result"
    }
   ],
   "source": [
    "thp_df2.describe()"
   ]
  },
  {
   "cell_type": "code",
   "execution_count": 48,
   "id": "397e6d18",
   "metadata": {},
   "outputs": [
    {
     "name": "stderr",
     "output_type": "stream",
     "text": [
      "/var/folders/zx/f1n4qhss7qq5b_ypxdtf1xr00000gn/T/ipykernel_16270/851042423.py:2: FutureWarning: The default value of numeric_only in DataFrameGroupBy.mean is deprecated. In a future version, numeric_only will default to False. Either specify numeric_only or select only columns which should be valid for the function.\n",
      "  grouped_test1=df_gptest.groupby(['Gender'], as_index=False).mean()\n"
     ]
    },
    {
     "data": {
      "text/html": [
       "<div>\n",
       "<style scoped>\n",
       "    .dataframe tbody tr th:only-of-type {\n",
       "        vertical-align: middle;\n",
       "    }\n",
       "\n",
       "    .dataframe tbody tr th {\n",
       "        vertical-align: top;\n",
       "    }\n",
       "\n",
       "    .dataframe thead th {\n",
       "        text-align: right;\n",
       "    }\n",
       "</style>\n",
       "<table border=\"1\" class=\"dataframe\">\n",
       "  <thead>\n",
       "    <tr style=\"text-align: right;\">\n",
       "      <th></th>\n",
       "      <th>Gender</th>\n",
       "      <th>fraud_score</th>\n",
       "    </tr>\n",
       "  </thead>\n",
       "  <tbody>\n",
       "    <tr>\n",
       "      <th>0</th>\n",
       "      <td>F</td>\n",
       "      <td>0.584557</td>\n",
       "    </tr>\n",
       "    <tr>\n",
       "      <th>1</th>\n",
       "      <td>M</td>\n",
       "      <td>-0.219209</td>\n",
       "    </tr>\n",
       "  </tbody>\n",
       "</table>\n",
       "</div>"
      ],
      "text/plain": [
       "  Gender  fraud_score\n",
       "0      F     0.584557\n",
       "1      M    -0.219209"
      ]
     },
     "execution_count": 48,
     "metadata": {},
     "output_type": "execute_result"
    }
   ],
   "source": [
    "df_gptest=thp_df2[['Gender','Category', 'fraud_score']]\n",
    "grouped_test1=df_gptest.groupby(['Gender'], as_index=False).mean()\n",
    "grouped_test1"
   ]
  },
  {
   "cell_type": "markdown",
   "id": "ea637986",
   "metadata": {},
   "source": [
    "#### Gender Analysis of Assessment Scores\n",
    "\n",
    "On average, female youth appear more likely to inflate their assessment scores compared to male youth.\n"
   ]
  },
  {
   "cell_type": "code",
   "execution_count": 49,
   "id": "7ad369a1",
   "metadata": {
    "scrolled": true
   },
   "outputs": [
    {
     "name": "stderr",
     "output_type": "stream",
     "text": [
      "/var/folders/zx/f1n4qhss7qq5b_ypxdtf1xr00000gn/T/ipykernel_16270/3085706398.py:2: FutureWarning: The default value of numeric_only in DataFrameGroupBy.mean is deprecated. In a future version, numeric_only will default to False. Either specify numeric_only or select only columns which should be valid for the function.\n",
      "  grouped_test1=df_gptest.groupby(['Category'], as_index=False).mean()\n"
     ]
    },
    {
     "data": {
      "text/html": [
       "<div>\n",
       "<style scoped>\n",
       "    .dataframe tbody tr th:only-of-type {\n",
       "        vertical-align: middle;\n",
       "    }\n",
       "\n",
       "    .dataframe tbody tr th {\n",
       "        vertical-align: top;\n",
       "    }\n",
       "\n",
       "    .dataframe thead th {\n",
       "        text-align: right;\n",
       "    }\n",
       "</style>\n",
       "<table border=\"1\" class=\"dataframe\">\n",
       "  <thead>\n",
       "    <tr style=\"text-align: right;\">\n",
       "      <th></th>\n",
       "      <th>Category</th>\n",
       "      <th>fraud_score</th>\n",
       "    </tr>\n",
       "  </thead>\n",
       "  <tbody>\n",
       "    <tr>\n",
       "      <th>0</th>\n",
       "      <td>Bad</td>\n",
       "      <td>0.421046</td>\n",
       "    </tr>\n",
       "    <tr>\n",
       "      <th>1</th>\n",
       "      <td>Good</td>\n",
       "      <td>-0.291494</td>\n",
       "    </tr>\n",
       "  </tbody>\n",
       "</table>\n",
       "</div>"
      ],
      "text/plain": [
       "  Category  fraud_score\n",
       "0      Bad     0.421046\n",
       "1     Good    -0.291494"
      ]
     },
     "execution_count": 49,
     "metadata": {},
     "output_type": "execute_result"
    }
   ],
   "source": [
    "df_gptest=thp_df2[['Gender','Category', 'fraud_score']]\n",
    "grouped_test1=df_gptest.groupby(['Category'], as_index=False).mean()\n",
    "grouped_test1"
   ]
  },
  {
   "cell_type": "code",
   "execution_count": 50,
   "id": "6fc8e86a",
   "metadata": {},
   "outputs": [
    {
     "name": "stdout",
     "output_type": "stream",
     "text": [
      "(16, 16)\n"
     ]
    },
    {
     "name": "stderr",
     "output_type": "stream",
     "text": [
      "/var/folders/zx/f1n4qhss7qq5b_ypxdtf1xr00000gn/T/ipykernel_16270/2565625647.py:3: FutureWarning: The default value of numeric_only in DataFrame.quantile is deprecated. In a future version, it will default to False. Select only valid columns or specify the value of numeric_only to silence this warning.\n",
      "  Q1 = thp_df2.quantile(0.25)\n",
      "/var/folders/zx/f1n4qhss7qq5b_ypxdtf1xr00000gn/T/ipykernel_16270/2565625647.py:4: FutureWarning: The default value of numeric_only in DataFrame.quantile is deprecated. In a future version, it will default to False. Select only valid columns or specify the value of numeric_only to silence this warning.\n",
      "  Q3 = thp_df2.quantile(0.75)\n",
      "/var/folders/zx/f1n4qhss7qq5b_ypxdtf1xr00000gn/T/ipykernel_16270/2565625647.py:8: FutureWarning: Automatic reindexing on DataFrame vs Series comparisons is deprecated and will raise ValueError in a future version. Do `left, right = left.align(right, axis=1, copy=False)` before e.g. `left == right`\n",
      "  mask = ~((thp_df2 < (Q1 - 1.5 * IQR)) | (thp_df2 > (Q3 + 1.5 * IQR))).any(axis=1)\n"
     ]
    }
   ],
   "source": [
    "#Removing Outliers\n",
    "# Calculate Q1, Q3 and IQR for each column\n",
    "Q1 = thp_df2.quantile(0.25)\n",
    "Q3 = thp_df2.quantile(0.75)\n",
    "IQR = Q3 - Q1\n",
    "\n",
    "# Define a mask for values that are not outliers\n",
    "mask = ~((thp_df2 < (Q1 - 1.5 * IQR)) | (thp_df2 > (Q3 + 1.5 * IQR))).any(axis=1)\n",
    "\n",
    "# Apply the mask to get a DataFrame without outliers\n",
    "remove_outliers = thp_df2[mask]\n",
    "\n",
    "# Display the shape of the DataFrame without outliers\n",
    "print(remove_outliers.shape)"
   ]
  },
  {
   "cell_type": "markdown",
   "id": "565628fa",
   "metadata": {},
   "source": [
    "### Observational Insight\n",
    "\n",
    "Youth with higher scores in the \"fraud_alert\" category generally tend not to complete the program."
   ]
  },
  {
   "cell_type": "code",
   "execution_count": 51,
   "id": "70b5f849",
   "metadata": {},
   "outputs": [],
   "source": [
    "thp_df2.to_csv(\"thp_explored.csv\")"
   ]
  },
  {
   "cell_type": "code",
   "execution_count": 52,
   "id": "a4532130",
   "metadata": {},
   "outputs": [],
   "source": [
    "thp_df2.to_csv(\"thp_explored_rmv_outliers.csv\")"
   ]
  },
  {
   "cell_type": "code",
   "execution_count": null,
   "id": "ac638f5f",
   "metadata": {},
   "outputs": [],
   "source": []
  }
 ],
 "metadata": {
  "kernelspec": {
   "display_name": "Python 3 (ipykernel)",
   "language": "python",
   "name": "python3"
  },
  "language_info": {
   "codemirror_mode": {
    "name": "ipython",
    "version": 3
   },
   "file_extension": ".py",
   "mimetype": "text/x-python",
   "name": "python",
   "nbconvert_exporter": "python",
   "pygments_lexer": "ipython3",
   "version": "3.10.9"
  }
 },
 "nbformat": 4,
 "nbformat_minor": 5
}
